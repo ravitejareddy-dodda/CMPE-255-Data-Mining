{
  "cells": [
    {
      "cell_type": "code",
      "execution_count": null,
      "metadata": {
        "id": "2yejwV7TarkE"
      },
      "outputs": [],
      "source": [
        "from IPython.display import display\n",
        "\n",
        "import numpy as np\n",
        "import pandas as pd\n",
        "import seaborn as sns\n",
        "\n",
        "%matplotlib inline\n",
        "import matplotlib.pyplot as plt\n",
        "\n",
        "# Adapted from: https://blog.dominodatalab.com/topology-and-density-based-clustering/\n",
        "def make_crater (inner_rad=4, outer_rad=4.5, donut_len=2, inner_pts=1000, outer_pts=500, label=False):\n",
        "    # Make the inner core\n",
        "    radius_core = inner_rad*np.random.random (inner_pts)\n",
        "    direction_core = 2*np.pi*np.random.random (size=inner_pts)\n",
        "\n",
        "    # Simulate inner core points\n",
        "    core_x = radius_core*np.cos (direction_core)\n",
        "    core_y = radius_core*np.sin (direction_core)\n",
        "    crater_core = pd.DataFrame ({'x_1': core_x, 'x_2': core_y})\n",
        "    if label: crater_core['label'] = 0\n",
        "\n",
        "    # Make the outer ring\n",
        "    radius_ring = outer_rad + donut_len*np.random.random(outer_pts)\n",
        "    direction_ring = 2*np.pi*np.random.random(size = outer_pts)\n",
        "\n",
        "    # Simulate ring points\n",
        "    ring_x = radius_ring*np.cos(direction_ring)\n",
        "    ring_y = radius_ring*np.sin(direction_ring)\n",
        "    crater_ring = pd.DataFrame ({'x_1': ring_x, 'x_2': ring_y})\n",
        "    if label: crater_ring['label'] = 1\n",
        "\n",
        "    return pd.concat ([crater_core, crater_ring])\n",
        "\n",
        "def make_scatter_plot (df, x=\"x_1\", y=\"x_2\", hue=\"label\",\n",
        "                       palette={0: \"red\", 1: \"olive\", 2: \"blue\", 3: \"green\"},\n",
        "                       size=5,\n",
        "                       centers=None):\n",
        "    if (hue is not None) and (hue in df.columns):\n",
        "        sns.lmplot (x=x, y=y, hue=hue, data=df, palette=palette,\n",
        "                    fit_reg=False)\n",
        "    else:\n",
        "        sns.lmplot (x=x, y=y, data=df, fit_reg=False)\n",
        "\n",
        "    if centers is not None:\n",
        "        plt.scatter (centers[:,0], centers[:,1],\n",
        "                     marker=u'*', s=500,\n",
        "                     c=[palette[0], palette[1]])\n",
        "\n",
        "def make_scatter_plot2 (df, x=\"x_1\", y=\"x_2\", hue=\"label\", size=5):\n",
        "    if (hue is not None) and (hue in df.columns):\n",
        "        sns.lmplot (x=x, y=y, hue=hue, data=df,\n",
        "                    fit_reg=False)\n",
        "    else:\n",
        "        sns.lmplot (x=x, y=y, data=df, fit_reg=False)"
      ]
    },
    {
      "cell_type": "code",
      "execution_count": null,
      "metadata": {
        "id": "IOPeh6McarkH"
      },
      "outputs": [],
      "source": [
        "def fn(fn_base, dirname='./dbscan/'): # `dirname` set by default to its location in our repository\n",
        "    return '{}{}'.format(dirname, fn_base)\n",
        "\n",
        "# Demo:\n",
        "fn('crater.csv')"
      ]
    },
    {
      "cell_type": "code",
      "execution_count": null,
      "metadata": {
        "nbgrader": {
          "grade": false,
          "grade_id": "load_crater",
          "locked": false,
          "solution": true
        },
        "id": "pmdijBmMarkI"
      },
      "outputs": [],
      "source": [
        "###\n",
        "### YOUR CODE HERE\n",
        "###\n",
        "\n",
        "display (crater.head (3))\n",
        "print (\"...\")\n",
        "display (crater.tail (3))"
      ]
    },
    {
      "cell_type": "code",
      "execution_count": null,
      "metadata": {
        "nbgrader": {
          "grade": true,
          "grade_id": "load_crater_test",
          "locked": true,
          "points": 1,
          "solution": false
        },
        "id": "tPiYSG-uarkJ"
      },
      "outputs": [],
      "source": [
        "assert len (crater) == 1500\n",
        "assert set (crater.columns) == set (['x_1', 'x_2', 'kmeans_label'])\n",
        "\n",
        "with open (fn('crater_counts.txt'), 'rt') as fp:\n",
        "    true_counts = [int (c) for c in fp.read ().split (',')]\n",
        "    assert sum (crater['kmeans_label'] == 0) == true_counts[0]\n",
        "    assert sum (crater['kmeans_label'] == 1) == true_counts[1]\n",
        "    \n",
        "make_scatter_plot (crater, hue='kmeans_label')\n",
        "\n",
        "print (\"\\n(Passed!)\")"
      ]
    },
    {
      "cell_type": "code",
      "execution_count": null,
      "metadata": {
        "nbgrader": {
          "grade": false,
          "grade_id": "region_query",
          "locked": false,
          "solution": true
        },
        "id": "fF8DqZkoarkM"
      },
      "outputs": [],
      "source": [
        "def region_query (p, eps, X):\n",
        "    # These lines check that the inputs `p` and `X` have\n",
        "    # the right shape.\n",
        "    _, dim = X.shape\n",
        "    assert (p.shape == (dim,)) or (p.shape == (1, dim)) or (p.shape == (dim, 1))\n",
        "    \n",
        "    ###\n",
        "    ### YOUR CODE HERE\n",
        "    ###"
      ]
    },
    {
      "cell_type": "code",
      "execution_count": null,
      "metadata": {
        "nbgrader": {
          "grade": true,
          "grade_id": "region_query_test",
          "locked": true,
          "points": 1,
          "solution": false
        },
        "id": "6MINsnb6arkN"
      },
      "outputs": [],
      "source": [
        "X = crater[['x_1', 'x_2']].values\n",
        "p = np.array ([-0.5, 1.2])\n",
        "in_region = region_query (p, 1.0, X)\n",
        "\n",
        "crater_ball = crater.copy ()\n",
        "crater_ball['label'] = in_region\n",
        "make_scatter_plot (crater_ball, centers=p[np.newaxis])\n",
        "\n",
        "with open (fn('region_query_soln.txt'), 'rt') as fp:\n",
        "    assert int (fp.read ()) == sum (in_region)\n",
        "\n",
        "print (\"\\n(Passed!)\")"
      ]
    },
    {
      "cell_type": "code",
      "execution_count": null,
      "metadata": {
        "nbgrader": {
          "grade": false,
          "grade_id": "indices",
          "locked": false,
          "solution": true
        },
        "id": "YKYEY_p6arkN"
      },
      "outputs": [],
      "source": [
        "def index_set (y):\n",
        "    \"\"\"\n",
        "    Given a boolean vector, this function returns\n",
        "    the indices of all True elements.\n",
        "    \"\"\"\n",
        "    assert len (y.shape) == 1\n",
        "\n",
        "    ###\n",
        "    ### YOUR CODE HERE\n",
        "    ###"
      ]
    },
    {
      "cell_type": "code",
      "execution_count": null,
      "metadata": {
        "nbgrader": {
          "grade": true,
          "grade_id": "indices_test",
          "locked": true,
          "points": 1,
          "solution": false
        },
        "id": "aJy70oKTarkO"
      },
      "outputs": [],
      "source": [
        "y_test = np.array ([True, False, False, True, False, True, True, True, False])\n",
        "i_soln = set ([0, 3, 5, 6, 7])\n",
        "\n",
        "i_test = index_set (y_test)\n",
        "assert type (i_test) is set\n",
        "assert len (i_test) == len (i_soln)\n",
        "assert i_test == i_soln\n",
        "\n",
        "print (\"\\n(Passed!)\")"
      ]
    },
    {
      "cell_type": "code",
      "execution_count": null,
      "metadata": {
        "nbgrader": {
          "grade": false,
          "grade_id": "find_neighbors",
          "locked": false,
          "solution": true
        },
        "id": "r6gLRGOiarkP"
      },
      "outputs": [],
      "source": [
        "def find_neighbors (eps, X):\n",
        "    m, d = X.shape\n",
        "    neighbors = [] # Empty list to start\n",
        "    ###\n",
        "    ### YOUR CODE HERE\n",
        "    ###\n",
        "    assert len (neighbors) == m\n",
        "    return neighbors"
      ]
    },
    {
      "cell_type": "code",
      "execution_count": null,
      "metadata": {
        "nbgrader": {
          "grade": true,
          "grade_id": "find_neighbors_test",
          "locked": true,
          "points": 1,
          "solution": false
        },
        "id": "P6_wWG2KarkP"
      },
      "outputs": [],
      "source": [
        "with open (fn('find_neighbors_soln.csv'), 'rt') as fp:\n",
        "    neighbors = find_neighbors (0.25, X)\n",
        "    for i, n_i in enumerate (neighbors):\n",
        "        j_, c_j_ = fp.readline ().split (',')\n",
        "        assert (i == int (j_)) and (len (n_i) == int (c_j_))\n",
        "        \n",
        "print (\"\\n(Passed!)\")"
      ]
    },
    {
      "cell_type": "code",
      "execution_count": null,
      "metadata": {
        "nbgrader": {
          "grade": false,
          "grade_id": "find_core_points",
          "locked": false,
          "solution": true
        },
        "id": "iwtPuUoQarkQ"
      },
      "outputs": [],
      "source": [
        "def find_core_points (s, neighbors):\n",
        "    assert type (neighbors) is list\n",
        "    assert all ([type (n) is set for n in neighbors])\n",
        "    \n",
        "    core_set = set ()\n",
        "    ###\n",
        "    ### YOUR CODE HERE\n",
        "    ###\n",
        "    return core_set"
      ]
    },
    {
      "cell_type": "code",
      "execution_count": null,
      "metadata": {
        "nbgrader": {
          "grade": true,
          "grade_id": "find_core_points_test",
          "locked": true,
          "points": 2,
          "solution": false
        },
        "id": "1nsOEcXfarkQ"
      },
      "outputs": [],
      "source": [
        "core_set = find_core_points (5, neighbors)\n",
        "print (\"Found {} core points.\".format (len (core_set)))\n",
        "\n",
        "def plot_core_set (df, core_set):\n",
        "    df_labeled = df.copy ()\n",
        "    df_labeled['label'] = False\n",
        "    df_labeled.loc[list (core_set), 'label'] = True\n",
        "    make_scatter_plot (df_labeled)\n",
        "    \n",
        "plot_core_set (crater, core_set)\n",
        "\n",
        "with open (fn('find_core_points_soln.txt'), 'rt') as fp:\n",
        "    core_set_soln = set ([int (i) for i in fp.read ().split ()])\n",
        "    assert core_set == core_set_soln\n",
        "    \n",
        "print (\"\\n(Passed!)\")"
      ]
    },
    {
      "cell_type": "code",
      "execution_count": null,
      "metadata": {
        "nbgrader": {
          "grade": false,
          "grade_id": "expand_cluster",
          "locked": false,
          "solution": true
        },
        "id": "V7c5llrJarkS"
      },
      "outputs": [],
      "source": [
        "def expand_cluster (p, neighbors, core_set, visited, assignment):\n",
        "    # Assume the caller performs Steps 1 and 2 of the procedure.\n",
        "    # That means 'p' must be a core point that is part of a cluster.\n",
        "    assert (p in core_set) and (p in visited) and (p in assignment)\n",
        "    \n",
        "    reachable = set (neighbors[p])  # Step 3\n",
        "    while reachable:\n",
        "        q = reachable.pop () # Step 4\n",
        "        \n",
        "        # Put your reordered and correctly indented statements here:\n",
        "        ###\n",
        "        ### YOUR CODE HERE\n",
        "        ###\n",
        "        \n",
        "    # This procedure does not return anything\n",
        "    # except via updates to `visited` and\n",
        "    # `assignment`."
      ]
    },
    {
      "cell_type": "code",
      "execution_count": null,
      "metadata": {
        "nbgrader": {
          "grade": true,
          "grade_id": "expand_cluster_test",
          "locked": true,
          "points": 4,
          "solution": false
        },
        "id": "3pSXz32varkS"
      },
      "outputs": [],
      "source": [
        "# This test is based on the illustration above.\n",
        "p_test = 3\n",
        "neighbors_test = [set ([0, 1]),\n",
        "                  set ([0, 1, 3, 7]),\n",
        "                  set ([2, 3]),\n",
        "                  set ([1, 2, 3, 4, 6]),\n",
        "                  set ([3, 4]),\n",
        "                  set ([5]),\n",
        "                  set ([3, 6, 7]),\n",
        "                  set ([1, 7])\n",
        "                 ]\n",
        "core_set_test = set ([1, 3, 6])\n",
        "visited_test = set ([p_test])\n",
        "assignment_test = {p_test: 0}\n",
        "expand_cluster (p_test, neighbors_test, core_set_test,\n",
        "                visited_test, assignment_test)\n",
        "assert visited_test == set ([0, 1, 2, 3, 4, 6, 7]) # All but 5\n",
        "assert set (assignment_test.keys ()) == visited_test\n",
        "assert set (assignment_test.values ()) == set ([0])\n",
        "\n",
        "print (\"\\n(Passed!)\")"
      ]
    },
    {
      "cell_type": "code",
      "execution_count": null,
      "metadata": {
        "id": "WlVgkaOEarkS"
      },
      "outputs": [],
      "source": [
        "def dbscan (eps, s, X):\n",
        "    clusters = []\n",
        "    point_to_cluster = {}\n",
        "    \n",
        "    neighbors = find_neighbors (eps, X)\n",
        "    core_set = find_core_points (s, neighbors)\n",
        "    \n",
        "    assignment = {}\n",
        "    next_cluster_id = 0\n",
        "\n",
        "    visited = set ()\n",
        "    for i in core_set: # for each core point i\n",
        "        if i not in visited:\n",
        "            visited.add (i) # Mark i as visited\n",
        "            assignment[i] = next_cluster_id\n",
        "            expand_cluster (i, neighbors, core_set,\n",
        "                            visited, assignment)\n",
        "            next_cluster_id += 1\n",
        "\n",
        "    return assignment, core_set"
      ]
    },
    {
      "cell_type": "code",
      "execution_count": null,
      "metadata": {
        "id": "GLaBn8WFarkT"
      },
      "outputs": [],
      "source": [
        "assignment, core_set = dbscan (0.5, 10, X)\n",
        "\n",
        "print (\"Number of core points:\", len (core_set))\n",
        "print (\"Number of clusters:\", max (assignment.values ()))\n",
        "print (\"Number of unclassified points:\", len (X) - len (assignment))\n",
        "\n",
        "def plot_labels (df, labels):\n",
        "    df_labeled = df.copy ()\n",
        "    df_labeled['label'] = labels\n",
        "    make_scatter_plot2 (df_labeled)\n",
        "\n",
        "labels = [-1] * len (X)\n",
        "for i, c in assignment.items ():\n",
        "    labels[i] = c\n",
        "plot_labels (crater, labels)\n",
        "\n",
        "with open (fn('dbscan_soln.csv'), 'rt') as fp:\n",
        "    num_cores, num_clusters, num_outliers = fp.read ().split (',')\n",
        "    assert int (num_cores) == len (core_set)\n",
        "    assert int (num_clusters) == max (assignment.values ())\n",
        "    assert int (num_outliers) == (len (X) - len (assignment))\n",
        "print (\"\\n(Passed!)\")"
      ]
    }
  ],
  "metadata": {
    "celltoolbar": "Create Assignment",
    "kernelspec": {
      "display_name": "Python 3",
      "language": "python",
      "name": "python3"
    },
    "language_info": {
      "codemirror_mode": {
        "name": "ipython",
        "version": 3
      },
      "file_extension": ".py",
      "mimetype": "text/x-python",
      "name": "python",
      "nbconvert_exporter": "python",
      "pygments_lexer": "ipython3",
      "version": "3.7.3"
    },
    "colab": {
      "provenance": []
    }
  },
  "nbformat": 4,
  "nbformat_minor": 0
}