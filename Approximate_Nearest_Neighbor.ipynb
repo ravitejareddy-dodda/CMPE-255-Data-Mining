{
  "nbformat": 4,
  "nbformat_minor": 0,
  "metadata": {
    "colab": {
      "provenance": [],
      "include_colab_link": true
    },
    "kernelspec": {
      "name": "python3",
      "display_name": "Python 3"
    },
    "language_info": {
      "name": "python"
    }
  },
  "cells": [
    {
      "cell_type": "markdown",
      "metadata": {
        "id": "view-in-github",
        "colab_type": "text"
      },
      "source": [
        "<a href=\"https://colab.research.google.com/github/ravitejareddy-dodda/CMPE-255-Data-Mining/blob/main/Approximate_Nearest_Neighbor.ipynb\" target=\"_parent\"><img src=\"https://colab.research.google.com/assets/colab-badge.svg\" alt=\"Open In Colab\"/></a>"
      ]
    },
    {
      "cell_type": "code",
      "metadata": {
        "id": "aot_buofKVpH"
      },
      "source": [
        "import numpy as np\n",
        "import matplotlib.pyplot as plt\n",
        "from sklearn.datasets import load_digits"
      ],
      "execution_count": 2,
      "outputs": []
    },
    {
      "cell_type": "code",
      "metadata": {
        "colab": {
          "base_uri": "https://localhost:8080/"
        },
        "id": "EOOh-oyBKijf",
        "outputId": "df279dfa-6c24-44e0-f4ff-9662b4e8da80"
      },
      "source": [
        "! pip install nmslib"
      ],
      "execution_count": 3,
      "outputs": [
        {
          "output_type": "stream",
          "name": "stdout",
          "text": [
            "Looking in indexes: https://pypi.org/simple, https://us-python.pkg.dev/colab-wheels/public/simple/\n",
            "Collecting nmslib\n",
            "  Downloading nmslib-2.1.1-cp37-cp37m-manylinux2010_x86_64.whl (13.5 MB)\n",
            "\u001b[K     |████████████████████████████████| 13.5 MB 137 kB/s \n",
            "\u001b[?25hCollecting pybind11<2.6.2\n",
            "  Downloading pybind11-2.6.1-py2.py3-none-any.whl (188 kB)\n",
            "\u001b[K     |████████████████████████████████| 188 kB 41.1 MB/s \n",
            "\u001b[?25hRequirement already satisfied: numpy>=1.10.0 in /usr/local/lib/python3.7/dist-packages (from nmslib) (1.21.6)\n",
            "Requirement already satisfied: psutil in /usr/local/lib/python3.7/dist-packages (from nmslib) (5.4.8)\n",
            "Installing collected packages: pybind11, nmslib\n",
            "Successfully installed nmslib-2.1.1 pybind11-2.6.1\n"
          ]
        }
      ]
    },
    {
      "cell_type": "code",
      "metadata": {
        "colab": {
          "base_uri": "https://localhost:8080/"
        },
        "id": "fN8dOsdBKnJ9",
        "outputId": "4bd8b2ea-449e-42f6-abe0-429b6de0abc1"
      },
      "source": [
        "! pip install faiss"
      ],
      "execution_count": 4,
      "outputs": [
        {
          "output_type": "stream",
          "name": "stdout",
          "text": [
            "Looking in indexes: https://pypi.org/simple, https://us-python.pkg.dev/colab-wheels/public/simple/\n",
            "Collecting faiss\n",
            "  Downloading faiss-1.5.3-cp37-cp37m-manylinux1_x86_64.whl (4.7 MB)\n",
            "\u001b[K     |████████████████████████████████| 4.7 MB 7.9 MB/s \n",
            "\u001b[?25hRequirement already satisfied: numpy in /usr/local/lib/python3.7/dist-packages (from faiss) (1.21.6)\n",
            "Installing collected packages: faiss\n",
            "Successfully installed faiss-1.5.3\n"
          ]
        }
      ]
    },
    {
      "cell_type": "code",
      "metadata": {
        "colab": {
          "base_uri": "https://localhost:8080/"
        },
        "id": "sFu7s5QEKpj_",
        "outputId": "0337b76c-36ee-4ab9-c14b-e01e7db1aeda"
      },
      "source": [
        "!apt-get install libomp-dev"
      ],
      "execution_count": 5,
      "outputs": [
        {
          "output_type": "stream",
          "name": "stdout",
          "text": [
            "Reading package lists... Done\n",
            "Building dependency tree       \n",
            "Reading state information... Done\n",
            "The following package was automatically installed and is no longer required:\n",
            "  libnvidia-common-460\n",
            "Use 'apt autoremove' to remove it.\n",
            "The following additional packages will be installed:\n",
            "  libomp5\n",
            "Suggested packages:\n",
            "  libomp-doc\n",
            "The following NEW packages will be installed:\n",
            "  libomp-dev libomp5\n",
            "0 upgraded, 2 newly installed, 0 to remove and 5 not upgraded.\n",
            "Need to get 239 kB of archives.\n",
            "After this operation, 804 kB of additional disk space will be used.\n",
            "Get:1 http://archive.ubuntu.com/ubuntu bionic/universe amd64 libomp5 amd64 5.0.1-1 [234 kB]\n",
            "Get:2 http://archive.ubuntu.com/ubuntu bionic/universe amd64 libomp-dev amd64 5.0.1-1 [5,088 B]\n",
            "Fetched 239 kB in 1s (236 kB/s)\n",
            "Selecting previously unselected package libomp5:amd64.\n",
            "(Reading database ... 123991 files and directories currently installed.)\n",
            "Preparing to unpack .../libomp5_5.0.1-1_amd64.deb ...\n",
            "Unpacking libomp5:amd64 (5.0.1-1) ...\n",
            "Selecting previously unselected package libomp-dev.\n",
            "Preparing to unpack .../libomp-dev_5.0.1-1_amd64.deb ...\n",
            "Unpacking libomp-dev (5.0.1-1) ...\n",
            "Setting up libomp5:amd64 (5.0.1-1) ...\n",
            "Setting up libomp-dev (5.0.1-1) ...\n",
            "Processing triggers for libc-bin (2.27-3ubuntu1.6) ...\n"
          ]
        }
      ]
    },
    {
      "cell_type": "code",
      "metadata": {
        "colab": {
          "base_uri": "https://localhost:8080/"
        },
        "id": "wWbK1SA_KtiZ",
        "outputId": "037c987f-4317-47bd-9f92-df396fa76f5a"
      },
      "source": [
        "! pip install annoy"
      ],
      "execution_count": 6,
      "outputs": [
        {
          "output_type": "stream",
          "name": "stdout",
          "text": [
            "Looking in indexes: https://pypi.org/simple, https://us-python.pkg.dev/colab-wheels/public/simple/\n",
            "Collecting annoy\n",
            "  Downloading annoy-1.17.1.tar.gz (647 kB)\n",
            "\u001b[K     |████████████████████████████████| 647 kB 7.5 MB/s \n",
            "\u001b[?25hBuilding wheels for collected packages: annoy\n",
            "  Building wheel for annoy (setup.py) ... \u001b[?25l\u001b[?25hdone\n",
            "  Created wheel for annoy: filename=annoy-1.17.1-cp37-cp37m-linux_x86_64.whl size=395183 sha256=fb3e71df4a04c941dbd6a067db4cd2928b817f010879808663f33584b86d9d27\n",
            "  Stored in directory: /root/.cache/pip/wheels/81/94/bf/92cb0e4fef8770fe9c6df0ba588fca30ab7c306b6048ae8a54\n",
            "Successfully built annoy\n",
            "Installing collected packages: annoy\n",
            "Successfully installed annoy-1.17.1\n"
          ]
        }
      ]
    },
    {
      "cell_type": "code",
      "metadata": {
        "colab": {
          "base_uri": "https://localhost:8080/"
        },
        "id": "BTNJo6PUKww5",
        "outputId": "598d30f5-355e-481b-be58-cd3da41afcf2"
      },
      "source": [
        "digits = load_digits(n_class=5)\n",
        "X = digits.data\n",
        "y = digits.target\n",
        "n_samples, n_features = X.shape\n",
        "X.shape"
      ],
      "execution_count": 7,
      "outputs": [
        {
          "output_type": "execute_result",
          "data": {
            "text/plain": [
              "(901, 64)"
            ]
          },
          "metadata": {},
          "execution_count": 7
        }
      ]
    },
    {
      "cell_type": "code",
      "metadata": {
        "colab": {
          "base_uri": "https://localhost:8080/",
          "height": 400
        },
        "id": "DdZSkrMZKzWr",
        "outputId": "54818722-153a-4eb5-d4f1-b1f2f0636f03"
      },
      "source": [
        "fig, axs = plt.subplots(nrows=10, ncols=10, figsize=(6, 6))\n",
        "for idx, ax in enumerate(axs.ravel()):\n",
        "    ax.imshow(X[idx].reshape((8, 8)), cmap=plt.cm.binary)\n",
        "    ax.axis(\"off\")\n",
        "_ = fig.suptitle(\"Digits dataset\", fontsize=16)"
      ],
      "execution_count": 8,
      "outputs": [
        {
          "output_type": "display_data",
          "data": {
            "text/plain": [
              "<Figure size 432x432 with 100 Axes>"
            ],
            "image/png": "[encoded data removed]"
          },
          "metadata": {
            "needs_background": "light"
          }
        }
      ]
    },
    {
      "cell_type": "code",
      "metadata": {
        "colab": {
          "base_uri": "https://localhost:8080/"
        },
        "id": "nT5PKLOnK4yP",
        "outputId": "584e1e7d-01bc-486c-fa1e-401a213411ab"
      },
      "source": [
        "from sklearn.manifold import TSNE\n",
        "\n",
        "tsne_2 = TSNE()\n",
        "data_embeddings_tsne_2 = tsne_2.fit_transform(X)"
      ],
      "execution_count": 9,
      "outputs": [
        {
          "output_type": "stream",
          "name": "stderr",
          "text": [
            "/usr/local/lib/python3.7/dist-packages/sklearn/manifold/_t_sne.py:783: FutureWarning: The default initialization in TSNE will change from 'random' to 'pca' in 1.2.\n",
            "  FutureWarning,\n",
            "/usr/local/lib/python3.7/dist-packages/sklearn/manifold/_t_sne.py:793: FutureWarning: The default learning rate in TSNE will change from 200.0 to 'auto' in 1.2.\n",
            "  FutureWarning,\n"
          ]
        }
      ]
    },
    {
      "cell_type": "code",
      "metadata": {
        "colab": {
          "base_uri": "https://localhost:8080/"
        },
        "id": "85_0WnwsK8bs",
        "outputId": "f06cd24c-bc62-4d1e-c972-ecd350a0ec4a"
      },
      "source": [
        "data_embeddings_tsne_2.shape"
      ],
      "execution_count": 10,
      "outputs": [
        {
          "output_type": "execute_result",
          "data": {
            "text/plain": [
              "(901, 2)"
            ]
          },
          "metadata": {},
          "execution_count": 10
        }
      ]
    },
    {
      "cell_type": "code",
      "metadata": {
        "id": "i0tCD0r3LBnR"
      },
      "source": [
        "import nmslib"
      ],
      "execution_count": 11,
      "outputs": []
    },
    {
      "cell_type": "code",
      "metadata": {
        "id": "ElAyYNm-LEyR"
      },
      "source": [
        "hnsw_index = nmslib.init(method='hnsw', space='cosinesimil')\n",
        "hnsw_index.addDataPointBatch(data_embeddings_tsne_2)\n",
        "hnsw_index.createIndex({'post': 2})"
      ],
      "execution_count": 12,
      "outputs": []
    },
    {
      "cell_type": "code",
      "metadata": {
        "colab": {
          "base_uri": "https://localhost:8080/"
        },
        "id": "pUxx8NnDLHVa",
        "outputId": "1f0b7af1-d0dc-476b-b53f-7e9ddc16c901"
      },
      "source": [
        "y[80]"
      ],
      "execution_count": 13,
      "outputs": [
        {
          "output_type": "execute_result",
          "data": {
            "text/plain": [
              "0"
            ]
          },
          "metadata": {},
          "execution_count": 13
        }
      ]
    },
    {
      "cell_type": "code",
      "metadata": {
        "colab": {
          "base_uri": "https://localhost:8080/"
        },
        "id": "9hkL4IoQLIuH",
        "outputId": "80d87637-04e8-4242-ae21-1f2891c75c22"
      },
      "source": [
        "hnsw_output = hnsw_index.knnQuery(data_embeddings_tsne_2[80], k=10)\n",
        "hnsw_output_list = [y[i] for i in hnsw_output[0]]\n",
        "hnsw_output_list"
      ],
      "execution_count": 14,
      "outputs": [
        {
          "output_type": "execute_result",
          "data": {
            "text/plain": [
              "[0, 0, 0, 0, 0, 0, 0, 0, 0, 0]"
            ]
          },
          "metadata": {},
          "execution_count": 14
        }
      ]
    },
    {
      "cell_type": "code",
      "metadata": {
        "id": "1AA3km6TLK8B"
      },
      "source": [
        "import faiss"
      ],
      "execution_count": 15,
      "outputs": []
    },
    {
      "cell_type": "code",
      "metadata": {
        "id": "UACbIq--LOfk"
      },
      "source": [
        "exhaustive_search = faiss.IndexFlatL2(data_embeddings_tsne_2.shape[1])\n",
        "exhaustive_search.add(data_embeddings_tsne_2)"
      ],
      "execution_count": 16,
      "outputs": []
    },
    {
      "cell_type": "code",
      "metadata": {
        "id": "DVgaEAWmLQDQ"
      },
      "source": [
        "distances, indices = exhaustive_search.search(data_embeddings_tsne_2[80:81], 10) \n",
        "exhaustive_search_output_list = [y[i] for i in indices[0]]"
      ],
      "execution_count": 17,
      "outputs": []
    },
    {
      "cell_type": "code",
      "metadata": {
        "colab": {
          "base_uri": "https://localhost:8080/"
        },
        "id": "Ao44huZNLTPZ",
        "outputId": "41db3c96-4803-4c86-823b-6fa8a14803e3"
      },
      "source": [
        "exhaustive_search_output_list"
      ],
      "execution_count": 18,
      "outputs": [
        {
          "output_type": "execute_result",
          "data": {
            "text/plain": [
              "[0, 0, 0, 0, 0, 0, 0, 0, 0, 0]"
            ]
          },
          "metadata": {},
          "execution_count": 18
        }
      ]
    },
    {
      "cell_type": "code",
      "metadata": {
        "id": "meMzE4KwLUH7"
      },
      "source": [
        "number_of_partition = 8\n",
        "search_in_x_partitions = 2\n",
        "subvector_size = 8\n",
        "\n",
        "pq_quantizer = faiss.IndexFlatL2(data_embeddings_tsne_2.shape[1])\n",
        "pq = faiss.IndexIVFPQ(pq_quantizer, data_embeddings_tsne_2.shape[1], number_of_partition, search_in_x_partitions, subvector_size)\n",
        "pq.train(data_embeddings_tsne_2)\n",
        "pq.add(data_embeddings_tsne_2)"
      ],
      "execution_count": 19,
      "outputs": []
    },
    {
      "cell_type": "code",
      "metadata": {
        "colab": {
          "base_uri": "https://localhost:8080/"
        },
        "id": "apow1cpyLZN2",
        "outputId": "f7ff774d-118a-447a-d7b6-740957ea8913"
      },
      "source": [
        "distances, indices = pq.search(data_embeddings_tsne_2[90:91], 10) \n",
        "pq_output_list =  [y[i] for i in indices[0]]\n",
        "pq_output_list"
      ],
      "execution_count": 20,
      "outputs": [
        {
          "output_type": "execute_result",
          "data": {
            "text/plain": [
              "[2, 2, 2, 2, 2, 2, 2, 2, 2, 2]"
            ]
          },
          "metadata": {},
          "execution_count": 20
        }
      ]
    },
    {
      "cell_type": "code",
      "metadata": {
        "id": "eZ9rYUNiLcaa"
      },
      "source": [
        "lsh = faiss.IndexLSH(data_embeddings_tsne_2.shape[1], 4)\n",
        "lsh.add(data_embeddings_tsne_2)"
      ],
      "execution_count": 21,
      "outputs": []
    },
    {
      "cell_type": "code",
      "metadata": {
        "colab": {
          "base_uri": "https://localhost:8080/"
        },
        "id": "Av4PkQb2LfFI",
        "outputId": "9431023f-6adb-4fc8-a531-ebdd932ba016"
      },
      "source": [
        "distances, indices = lsh.search(data_embeddings_tsne_2[80:81], k=10)\n",
        "lsh_output_list =  [y[i] for i in indices[0]]\n",
        "lsh_output_list"
      ],
      "execution_count": 22,
      "outputs": [
        {
          "output_type": "execute_result",
          "data": {
            "text/plain": [
              "[0, 0, 0, 0, 0, 0, 0, 0, 0, 0]"
            ]
          },
          "metadata": {},
          "execution_count": 22
        }
      ]
    },
    {
      "cell_type": "code",
      "metadata": {
        "id": "LAQiS5N9LhGC"
      },
      "source": [
        "import annoy"
      ],
      "execution_count": 23,
      "outputs": []
    },
    {
      "cell_type": "code",
      "metadata": {
        "colab": {
          "base_uri": "https://localhost:8080/"
        },
        "id": "khHw9x8yLi6f",
        "outputId": "c279b09f-30f1-46e0-aad8-487ebe3990a7"
      },
      "source": [
        "number_of_trees = 5\n",
        "annoy_index = annoy.AnnoyIndex(data_embeddings_tsne_2.shape[1])\n",
        "for i, vec in enumerate(data_embeddings_tsne_2):\n",
        "  annoy_index.add_item(i, vec.tolist())\n",
        "annoy_index.build(number_of_trees)"
      ],
      "execution_count": 24,
      "outputs": [
        {
          "output_type": "stream",
          "name": "stderr",
          "text": [
            "/usr/local/lib/python3.7/dist-packages/ipykernel_launcher.py:2: FutureWarning: The default argument for metric will be removed in future version of Annoy. Please pass metric='angular' explicitly.\n",
            "  \n"
          ]
        },
        {
          "output_type": "execute_result",
          "data": {
            "text/plain": [
              "True"
            ]
          },
          "metadata": {},
          "execution_count": 24
        }
      ]
    },
    {
      "cell_type": "code",
      "metadata": {
        "id": "nq8z8gNALjoG"
      },
      "source": [
        "annoy_indices = annoy_index.get_nns_by_vector(data_embeddings_tsne_2[90].tolist(), 10)\n",
        "annoy_output_list = [y[i] for i in annoy_indices]"
      ],
      "execution_count": 25,
      "outputs": []
    },
    {
      "cell_type": "code",
      "metadata": {
        "colab": {
          "base_uri": "https://localhost:8080/"
        },
        "id": "wJqg-2naLoxb",
        "outputId": "d9a555f2-c11b-4149-e2d0-421b8559c400"
      },
      "source": [
        "annoy_output_list"
      ],
      "execution_count": 26,
      "outputs": [
        {
          "output_type": "execute_result",
          "data": {
            "text/plain": [
              "[2, 2, 2, 2, 2, 2, 2, 2, 2, 2]"
            ]
          },
          "metadata": {},
          "execution_count": 26
        }
      ]
    },
    {
      "cell_type": "code",
      "metadata": {
        "colab": {
          "base_uri": "https://localhost:8080/"
        },
        "id": "Bf17YWu_LrKo",
        "outputId": "3829c53a-b9c0-4d12-b5f8-9dd159fca8f8"
      },
      "source": [
        "graph_index = faiss.IndexHNSWFlat(data_embeddings_tsne_2.shape[1], 10)\n",
        "graph_index.add(data_embeddings_tsne_2)\n",
        "\n",
        "distances, indices = graph_index.search(data_embeddings_tsne_2[90:91], k=10)\n",
        "graph_output_list = [y[i] for i in indices[0]]\n",
        "graph_output_list"
      ],
      "execution_count": 27,
      "outputs": [
        {
          "output_type": "execute_result",
          "data": {
            "text/plain": [
              "[2, 2, 2, 2, 2, 2, 2, 2, 2, 2]"
            ]
          },
          "metadata": {},
          "execution_count": 27
        }
      ]
    },
    {
      "cell_type": "markdown",
      "metadata": {
        "id": "U6Fj8y5MQDva"
      },
      "source": [
        "**REFERENCES**\n",
        "\n",
        "https://colab.research.google.com/github/tensorflow/hub/blob/master/examples/colab/semantic_approximate_nearest_neighbors.ipynb\n",
        "\n",
        "https://www.youtube.com/watch?v=OO7Y5wQWnQs&ab_channel=ProgrammingKnowledge\n",
        "\n",
        "https://github.com/spotify/annoy\n",
        "\n",
        "https://www.youtube.com/watch?v=7_CIQf73Oj0&ab_channel=wiqaaas"
      ]
    }
  ]
}