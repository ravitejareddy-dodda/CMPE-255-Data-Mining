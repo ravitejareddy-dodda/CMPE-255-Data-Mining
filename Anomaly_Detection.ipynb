{
  "nbformat": 4,
  "nbformat_minor": 0,
  "metadata": {
    "colab": {
      "provenance": []
    },
    "kernelspec": {
      "name": "python3",
      "display_name": "Python 3"
    },
    "language_info": {
      "name": "python"
    }
  },
  "cells": [
    {
      "cell_type": "code",
      "metadata": {
        "id": "bNqsHIPdc5tp",
        "colab": {
          "base_uri": "https://localhost:8080/"
        },
        "outputId": "c2aba6f6-1421-4d97-b38e-a1722acb9eb3"
      },
      "source": [
        "# python outlier detection\n",
        "!pip install pyod"
      ],
      "execution_count": null,
      "outputs": [
        {
          "output_type": "stream",
          "text": [
            "Collecting pyod\n",
            "\u001b[?25l  Downloading https://files.pythonhosted.org/packages/5c/3c/992cf76fd71e5438b2e5400a417ef433e2b1a726570e692102afcacfda33/pyod-0.8.8.tar.gz (102kB)\n",
            "\u001b[K     |████████████████████████████████| 112kB 3.9MB/s \n",
            "\u001b[?25hRequirement already satisfied: joblib in /usr/local/lib/python3.7/dist-packages (from pyod) (1.0.1)\n",
            "Requirement already satisfied: matplotlib in /usr/local/lib/python3.7/dist-packages (from pyod) (3.2.2)\n",
            "Requirement already satisfied: numpy>=1.13 in /usr/local/lib/python3.7/dist-packages (from pyod) (1.19.5)\n",
            "Requirement already satisfied: numba>=0.35 in /usr/local/lib/python3.7/dist-packages (from pyod) (0.51.2)\n",
            "Requirement already satisfied: pandas>=0.25 in /usr/local/lib/python3.7/dist-packages (from pyod) (1.1.5)\n",
            "Requirement already satisfied: scipy>=0.19.1 in /usr/local/lib/python3.7/dist-packages (from pyod) (1.4.1)\n",
            "Requirement already satisfied: scikit_learn>=0.19.1 in /usr/local/lib/python3.7/dist-packages (from pyod) (0.22.2.post1)\n",
            "Requirement already satisfied: six in /usr/local/lib/python3.7/dist-packages (from pyod) (1.15.0)\n",
            "Requirement already satisfied: statsmodels in /usr/local/lib/python3.7/dist-packages (from pyod) (0.10.2)\n",
            "Requirement already satisfied: pyparsing!=2.0.4,!=2.1.2,!=2.1.6,>=2.0.1 in /usr/local/lib/python3.7/dist-packages (from matplotlib->pyod) (2.4.7)\n",
            "Requirement already satisfied: python-dateutil>=2.1 in /usr/local/lib/python3.7/dist-packages (from matplotlib->pyod) (2.8.1)\n",
            "Requirement already satisfied: kiwisolver>=1.0.1 in /usr/local/lib/python3.7/dist-packages (from matplotlib->pyod) (1.3.1)\n",
            "Requirement already satisfied: cycler>=0.10 in /usr/local/lib/python3.7/dist-packages (from matplotlib->pyod) (0.10.0)\n",
            "Requirement already satisfied: setuptools in /usr/local/lib/python3.7/dist-packages (from numba>=0.35->pyod) (56.1.0)\n",
            "Requirement already satisfied: llvmlite<0.35,>=0.34.0.dev0 in /usr/local/lib/python3.7/dist-packages (from numba>=0.35->pyod) (0.34.0)\n",
            "Requirement already satisfied: pytz>=2017.2 in /usr/local/lib/python3.7/dist-packages (from pandas>=0.25->pyod) (2018.9)\n",
            "Requirement already satisfied: patsy>=0.4.0 in /usr/local/lib/python3.7/dist-packages (from statsmodels->pyod) (0.5.1)\n",
            "Building wheels for collected packages: pyod\n",
            "  Building wheel for pyod (setup.py) ... \u001b[?25l\u001b[?25hdone\n",
            "  Created wheel for pyod: filename=pyod-0.8.8-cp37-none-any.whl size=116967 sha256=0740c66d11029a3de4185c18f6915de5589e3087ac7aa8c7d4c056fdabba503a\n",
            "  Stored in directory: /root/.cache/pip/wheels/54/dd/36/a12fa930455b7c38902f2dbf737175421ad30436e47ac5b24d\n",
            "Successfully built pyod\n",
            "Installing collected packages: pyod\n",
            "Successfully installed pyod-0.8.8\n"
          ],
          "name": "stdout"
        }
      ]
    },
    {
      "cell_type": "code",
      "metadata": {
        "id": "jekejaOubG5L"
      },
      "source": [
        "import warnings\n",
        "import numpy as np\n",
        "import pandas as pd\n",
        "from pyod.models.mad import MAD\n",
        "from pyod.models.knn import KNN\n",
        "from pyod.models.lof import LOF\n",
        "import matplotlib.pyplot as plt\n",
        "from sklearn.ensemble import IsolationForest\n",
        "\n",
        "pd.set_option('max.rows', 250)\n",
        "warnings.filterwarnings('ignore')"
      ],
      "execution_count": null,
      "outputs": []
    },
    {
      "cell_type": "markdown",
      "metadata": {
        "id": "6JUpq0qQbgVx"
      },
      "source": [
        "## Import Data"
      ]
    },
    {
      "cell_type": "code",
      "metadata": {
        "id": "KBWRQvGjiiX3",
        "colab": {
          "base_uri": "https://localhost:8080/",
          "height": 204
        },
        "outputId": "1d54fa14-05c9-45e4-bf36-b4c79295b574"
      },
      "source": [
        "data_values = [['2021-05-1', 45000.0],\n",
        "       ['2021-05-2', 70000.0],\n",
        "       ['2021-05-3', 250000.0],\n",
        "       ['2021-05-4', 70000.0],\n",
        "       ['2021-05-5', 45000.0],\n",
        "       ['2021-05-6', 55000.0],\n",
        "       ['2021-05-7', 35000.0],\n",
        "       ['2021-05-8', 60000.0],\n",
        "       ['2021-05-9', 45000.0],\n",
        "       ['2021-05-10', 25000.0],\n",
        "       ['2021-05-11', 142936.0],\n",
        "       ['2021-05-12', 138026.0],\n",
        "       ['2021-05-13', 28347.0],\n",
        "       ['2021-05-14', 40962.66],\n",
        "       ['2021-05-15', 34543.0],\n",
        "       ['2021-05-16', 40962.66],\n",
        "       ['2021-05-17', 25207.0],\n",
        "       ['2021-05-18', 37502.0],\n",
        "       ['2021-05-19', 29589.0],\n",
        "       ['2021-05-20', 78404.0],\n",
        "       ['2021-05-21', 26593.0],\n",
        "       ['2021-05-22', 123267.0],\n",
        "       ['2021-05-23', 46880.0],\n",
        "       ['2021-05-24', 65361.0],\n",
        "       ['2021-05-25', 46042.0],\n",
        "       ['2021-05-26', 48209.0],\n",
        "       ['2021-05-27', 44461.0],\n",
        "       ['2021-05-28', 90866.0],\n",
        "       ['2021-05-29', 46886.0],\n",
        "       ['2021-05-30', 33456.0],\n",
        "       ['2021-05-31', 46251.0],\n",
        "       ['2021-06-1', 29370.0],\n",
        "       ['2021-06-2', 165620.0],\n",
        "       ['2021-06-3', 20317.0]]\n",
        "       \n",
        "data = pd.DataFrame(data_values , columns=['date', 'amount'])\n",
        "data.head()"
      ],
      "execution_count": null,
      "outputs": [
        {
          "output_type": "execute_result",
          "data": {
            "text/html": [
              "<div>\n",
              "<style scoped>\n",
              "    .dataframe tbody tr th:only-of-type {\n",
              "        vertical-align: middle;\n",
              "    }\n",
              "\n",
              "    .dataframe tbody tr th {\n",
              "        vertical-align: top;\n",
              "    }\n",
              "\n",
              "    .dataframe thead th {\n",
              "        text-align: right;\n",
              "    }\n",
              "</style>\n",
              "<table border=\"1\" class=\"dataframe\">\n",
              "  <thead>\n",
              "    <tr style=\"text-align: right;\">\n",
              "      <th></th>\n",
              "      <th>date</th>\n",
              "      <th>amount</th>\n",
              "    </tr>\n",
              "  </thead>\n",
              "  <tbody>\n",
              "    <tr>\n",
              "      <th>0</th>\n",
              "      <td>2021-05-1</td>\n",
              "      <td>45000.0</td>\n",
              "    </tr>\n",
              "    <tr>\n",
              "      <th>1</th>\n",
              "      <td>2021-05-2</td>\n",
              "      <td>70000.0</td>\n",
              "    </tr>\n",
              "    <tr>\n",
              "      <th>2</th>\n",
              "      <td>2021-05-3</td>\n",
              "      <td>250000.0</td>\n",
              "    </tr>\n",
              "    <tr>\n",
              "      <th>3</th>\n",
              "      <td>2021-05-4</td>\n",
              "      <td>70000.0</td>\n",
              "    </tr>\n",
              "    <tr>\n",
              "      <th>4</th>\n",
              "      <td>2021-05-5</td>\n",
              "      <td>45000.0</td>\n",
              "    </tr>\n",
              "  </tbody>\n",
              "</table>\n",
              "</div>"
            ],
            "text/plain": [
              "        date    amount\n",
              "0  2021-05-1   45000.0\n",
              "1  2021-05-2   70000.0\n",
              "2  2021-05-3  250000.0\n",
              "3  2021-05-4   70000.0\n",
              "4  2021-05-5   45000.0"
            ]
          },
          "metadata": {
            "tags": []
          },
          "execution_count": 3
        }
      ]
    },
    {
      "cell_type": "code",
      "metadata": {
        "id": "wMWOmjtScWmf"
      },
      "source": [
        "def fit_model(model, data, column='amount'):\n",
        "    \n",
        "    df = data.copy()\n",
        "    data_to_predict = data[column].to_numpy().reshape(-1, 1)\n",
        "    predictions = model.fit_predict(data_to_predict)\n",
        "    df['Predictions'] = predictions\n",
        "    \n",
        "    return df\n",
        "\n",
        "def plot_anomalies(df, x='date', y='amount'):\n",
        "\n",
        "    # categories will be having values from 0 to n\n",
        "    # for each values in 0 to n it is mapped in colormap\n",
        "    categories = df['Predictions'].to_numpy()\n",
        "    colormap = np.array(['g', 'r'])\n",
        "\n",
        "    f = plt.figure(figsize=(12, 4))\n",
        "    f = plt.scatter(df[x], df[y], c=colormap[categories])\n",
        "    f = plt.xlabel(x)\n",
        "    f = plt.ylabel(y)\n",
        "    f = plt.xticks(rotation=90)\n",
        "    plt.show()"
      ],
      "execution_count": null,
      "outputs": []
    },
    {
      "cell_type": "markdown",
      "metadata": {
        "id": "LBdaLAaVeC8c"
      },
      "source": [
        "## Inter Quartile Range"
      ]
    },
    {
      "cell_type": "code",
      "metadata": {
        "id": "n1II24hAeBd8"
      },
      "source": [
        "def find_anomalies(value, lower_threshold, upper_threshold):\n",
        "    \n",
        "    if value < lower_threshold or value > upper_threshold:\n",
        "        return 1\n",
        "    else: return 0\n",
        "\n",
        "def iqr_anomaly_detector(data, column='amount', threshold=1.1):\n",
        "    \n",
        "    df = data.copy()\n",
        "    quartiles = dict(data[column].quantile([.25, .50, .75]))\n",
        "    quartile_3, quartile_1 = quartiles[0.75], quartiles[0.25]\n",
        "    iqr = quartile_3 - quartile_1\n",
        "\n",
        "    lower_threshold = quartile_1 - (threshold * iqr)\n",
        "    upper_threshold = quartile_3 + (threshold * iqr)\n",
        "\n",
        "    print(f\"Lower threshold: {lower_threshold}, \\nUpper threshold: {upper_threshold}\\n\")\n",
        "    \n",
        "    df['Predictions'] = data[column].apply(find_anomalies, args=(lower_threshold, upper_threshold))\n",
        "    return df"
      ],
      "execution_count": null,
      "outputs": []
    },
    {
      "cell_type": "code",
      "metadata": {
        "colab": {
          "base_uri": "https://localhost:8080/",
          "height": 378
        },
        "id": "4BXS9vWidOmZ",
        "outputId": "59702ff7-72be-40af-c9b9-0f135e4f847c"
      },
      "source": [
        "iqr_df = iqr_anomaly_detector(data)\n",
        "plot_anomalies(iqr_df)"
      ],
      "execution_count": null,
      "outputs": [
        {
          "output_type": "stream",
          "text": [
            "Lower threshold: -2944.050000000003, \n",
            "Upper threshold: 106441.55\n",
            "\n"
          ],
          "name": "stdout"
        },
        {
          "output_type": "display_data",
          "data": {
            "image/png": "[encoded data removed]",
            "text/plain": [
              "<Figure size 864x288 with 1 Axes>"
            ]
          },
          "metadata": {
            "tags": [],
            "needs_background": "light"
          }
        }
      ]
    },
    {
      "cell_type": "markdown",
      "metadata": {
        "id": "lDk5kgFIgQLS"
      },
      "source": [
        "## Isolation Forest"
      ]
    },
    {
      "cell_type": "code",
      "metadata": {
        "id": "tEWBglOzqZsp"
      },
      "source": [
        "def scale_anomaly_scores(s):\n",
        "    \"\"\"Changing (-0.5, 0.5) to (0, 1)\"\"\"\n",
        "    a, b = (-0.5, 0.5), (1, 0)\n",
        "    (a1, a2), (b1, b2) = a, b\n",
        "    return (b1 + ((s - a1) * (b2 - b1) / (a2 - a1))) * 100"
      ],
      "execution_count": null,
      "outputs": []
    },
    {
      "cell_type": "code",
      "metadata": {
        "colab": {
          "base_uri": "https://localhost:8080/",
          "height": 327
        },
        "id": "it6ztePtgN7q",
        "outputId": "08e1d345-f225-4ec0-d287-cdf7ca9c5e4e"
      },
      "source": [
        "iso_forest = IsolationForest(n_estimators=125)\n",
        "iso_df = fit_model(iso_forest, data)\n",
        "iso_df['Predictions'] = iso_df['Predictions'].map(lambda x: 1 if x==-1 else 0)\n",
        "plot_anomalies(iso_df)"
      ],
      "execution_count": null,
      "outputs": [
        {
          "output_type": "display_data",
          "data": {
            "image/png": "[encoded data removed]",
            "text/plain": [
              "<Figure size 864x288 with 1 Axes>"
            ]
          },
          "metadata": {
            "tags": [],
            "needs_background": "light"
          }
        }
      ]
    },
    {
      "cell_type": "code",
      "metadata": {
        "colab": {
          "base_uri": "https://localhost:8080/",
          "height": 204
        },
        "id": "hsk76E0kqnJB",
        "outputId": "1503f009-db79-4d05-979f-c0cc691fab9a"
      },
      "source": [
        "iso_df.head()"
      ],
      "execution_count": null,
      "outputs": [
        {
          "output_type": "execute_result",
          "data": {
            "text/html": [
              "<div>\n",
              "<style scoped>\n",
              "    .dataframe tbody tr th:only-of-type {\n",
              "        vertical-align: middle;\n",
              "    }\n",
              "\n",
              "    .dataframe tbody tr th {\n",
              "        vertical-align: top;\n",
              "    }\n",
              "\n",
              "    .dataframe thead th {\n",
              "        text-align: right;\n",
              "    }\n",
              "</style>\n",
              "<table border=\"1\" class=\"dataframe\">\n",
              "  <thead>\n",
              "    <tr style=\"text-align: right;\">\n",
              "      <th></th>\n",
              "      <th>date</th>\n",
              "      <th>amount</th>\n",
              "      <th>Predictions</th>\n",
              "    </tr>\n",
              "  </thead>\n",
              "  <tbody>\n",
              "    <tr>\n",
              "      <th>0</th>\n",
              "      <td>2021-05-1</td>\n",
              "      <td>45000.0</td>\n",
              "      <td>0</td>\n",
              "    </tr>\n",
              "    <tr>\n",
              "      <th>1</th>\n",
              "      <td>2021-05-2</td>\n",
              "      <td>70000.0</td>\n",
              "      <td>0</td>\n",
              "    </tr>\n",
              "    <tr>\n",
              "      <th>2</th>\n",
              "      <td>2021-05-3</td>\n",
              "      <td>250000.0</td>\n",
              "      <td>1</td>\n",
              "    </tr>\n",
              "    <tr>\n",
              "      <th>3</th>\n",
              "      <td>2021-05-4</td>\n",
              "      <td>70000.0</td>\n",
              "      <td>0</td>\n",
              "    </tr>\n",
              "    <tr>\n",
              "      <th>4</th>\n",
              "      <td>2021-05-5</td>\n",
              "      <td>45000.0</td>\n",
              "      <td>0</td>\n",
              "    </tr>\n",
              "  </tbody>\n",
              "</table>\n",
              "</div>"
            ],
            "text/plain": [
              "        date    amount  Predictions\n",
              "0  2021-05-1   45000.0            0\n",
              "1  2021-05-2   70000.0            0\n",
              "2  2021-05-3  250000.0            1\n",
              "3  2021-05-4   70000.0            0\n",
              "4  2021-05-5   45000.0            0"
            ]
          },
          "metadata": {
            "tags": []
          },
          "execution_count": 9
        }
      ]
    },
    {
      "cell_type": "code",
      "metadata": {
        "colab": {
          "base_uri": "https://localhost:8080/"
        },
        "id": "ek1c-Zy-p2Qo",
        "outputId": "9b131314-8e86-48d2-a44c-3659a5726b86"
      },
      "source": [
        "univariate_data = data['amount'].to_numpy().reshape(-1, 1)\n",
        "# These values range from -0.5 to 0.5\n",
        "anomaly_scores = iso_forest.decision_function(univariate_data)\n",
        "anomaly_scores\n"
      ],
      "execution_count": null,
      "outputs": [
        {
          "output_type": "execute_result",
          "data": {
            "text/plain": [
              "array([ 0.13891963,  0.03344293, -0.3012494 ,  0.03344293,  0.13891963,\n",
              "        0.03497773,  0.08728813,  0.02132814,  0.13891963,  0.02695631,\n",
              "       -0.06609441, -0.0590574 ,  0.05463206,  0.10478636,  0.08498873,\n",
              "        0.10478636,  0.03696412,  0.07659118,  0.06875205, -0.03248365,\n",
              "        0.03940844, -0.10531605,  0.13350039,  0.01125123,  0.13401883,\n",
              "        0.09170439,  0.12055923, -0.07904102,  0.13350039,  0.07361183,\n",
              "        0.13412699,  0.07237485, -0.1809977 , -0.10182862])"
            ]
          },
          "metadata": {
            "tags": []
          },
          "execution_count": 10
        }
      ]
    },
    {
      "cell_type": "code",
      "metadata": {
        "colab": {
          "base_uri": "https://localhost:8080/",
          "height": 204
        },
        "id": "cBPzBXrxrDcf",
        "outputId": "c6594cd4-510d-4fde-e406-b6b552afb88f"
      },
      "source": [
        "iso_df['Anomaly Scores'] = anomaly_scores\n",
        "iso_df.head()"
      ],
      "execution_count": null,
      "outputs": [
        {
          "output_type": "execute_result",
          "data": {
            "text/html": [
              "<div>\n",
              "<style scoped>\n",
              "    .dataframe tbody tr th:only-of-type {\n",
              "        vertical-align: middle;\n",
              "    }\n",
              "\n",
              "    .dataframe tbody tr th {\n",
              "        vertical-align: top;\n",
              "    }\n",
              "\n",
              "    .dataframe thead th {\n",
              "        text-align: right;\n",
              "    }\n",
              "</style>\n",
              "<table border=\"1\" class=\"dataframe\">\n",
              "  <thead>\n",
              "    <tr style=\"text-align: right;\">\n",
              "      <th></th>\n",
              "      <th>date</th>\n",
              "      <th>amount</th>\n",
              "      <th>Predictions</th>\n",
              "      <th>Anomaly Scores</th>\n",
              "    </tr>\n",
              "  </thead>\n",
              "  <tbody>\n",
              "    <tr>\n",
              "      <th>0</th>\n",
              "      <td>2021-05-1</td>\n",
              "      <td>45000.0</td>\n",
              "      <td>0</td>\n",
              "      <td>0.138920</td>\n",
              "    </tr>\n",
              "    <tr>\n",
              "      <th>1</th>\n",
              "      <td>2021-05-2</td>\n",
              "      <td>70000.0</td>\n",
              "      <td>0</td>\n",
              "      <td>0.033443</td>\n",
              "    </tr>\n",
              "    <tr>\n",
              "      <th>2</th>\n",
              "      <td>2021-05-3</td>\n",
              "      <td>250000.0</td>\n",
              "      <td>1</td>\n",
              "      <td>-0.301249</td>\n",
              "    </tr>\n",
              "    <tr>\n",
              "      <th>3</th>\n",
              "      <td>2021-05-4</td>\n",
              "      <td>70000.0</td>\n",
              "      <td>0</td>\n",
              "      <td>0.033443</td>\n",
              "    </tr>\n",
              "    <tr>\n",
              "      <th>4</th>\n",
              "      <td>2021-05-5</td>\n",
              "      <td>45000.0</td>\n",
              "      <td>0</td>\n",
              "      <td>0.138920</td>\n",
              "    </tr>\n",
              "  </tbody>\n",
              "</table>\n",
              "</div>"
            ],
            "text/plain": [
              "        date    amount  Predictions  Anomaly Scores\n",
              "0  2021-05-1   45000.0            0        0.138920\n",
              "1  2021-05-2   70000.0            0        0.033443\n",
              "2  2021-05-3  250000.0            1       -0.301249\n",
              "3  2021-05-4   70000.0            0        0.033443\n",
              "4  2021-05-5   45000.0            0        0.138920"
            ]
          },
          "metadata": {
            "tags": []
          },
          "execution_count": 12
        }
      ]
    },
    {
      "cell_type": "code",
      "metadata": {
        "id": "g6nh6kJgqiwJ"
      },
      "source": [
        "# Scale it between 1 and 100\n",
        "scaled_scores = pd.Series(anomaly_scores).map(scale_anomaly_scores).to_numpy()"
      ],
      "execution_count": null,
      "outputs": []
    },
    {
      "cell_type": "code",
      "metadata": {
        "colab": {
          "base_uri": "https://localhost:8080/",
          "height": 204
        },
        "id": "dfEWtmTqrX9w",
        "outputId": "ec1e86f0-aab1-4b89-99fa-507681fbc278"
      },
      "source": [
        "iso_df['Scaled Scores'] = scaled_scores\n",
        "iso_df.head()"
      ],
      "execution_count": null,
      "outputs": [
        {
          "output_type": "execute_result",
          "data": {
            "text/html": [
              "<div>\n",
              "<style scoped>\n",
              "    .dataframe tbody tr th:only-of-type {\n",
              "        vertical-align: middle;\n",
              "    }\n",
              "\n",
              "    .dataframe tbody tr th {\n",
              "        vertical-align: top;\n",
              "    }\n",
              "\n",
              "    .dataframe thead th {\n",
              "        text-align: right;\n",
              "    }\n",
              "</style>\n",
              "<table border=\"1\" class=\"dataframe\">\n",
              "  <thead>\n",
              "    <tr style=\"text-align: right;\">\n",
              "      <th></th>\n",
              "      <th>date</th>\n",
              "      <th>amount</th>\n",
              "      <th>Predictions</th>\n",
              "      <th>Anomaly Scores</th>\n",
              "      <th>Scaled Scores</th>\n",
              "    </tr>\n",
              "  </thead>\n",
              "  <tbody>\n",
              "    <tr>\n",
              "      <th>0</th>\n",
              "      <td>2021-05-1</td>\n",
              "      <td>45000.0</td>\n",
              "      <td>0</td>\n",
              "      <td>0.138920</td>\n",
              "      <td>36.108037</td>\n",
              "    </tr>\n",
              "    <tr>\n",
              "      <th>1</th>\n",
              "      <td>2021-05-2</td>\n",
              "      <td>70000.0</td>\n",
              "      <td>0</td>\n",
              "      <td>0.033443</td>\n",
              "      <td>46.655707</td>\n",
              "    </tr>\n",
              "    <tr>\n",
              "      <th>2</th>\n",
              "      <td>2021-05-3</td>\n",
              "      <td>250000.0</td>\n",
              "      <td>1</td>\n",
              "      <td>-0.301249</td>\n",
              "      <td>80.124940</td>\n",
              "    </tr>\n",
              "    <tr>\n",
              "      <th>3</th>\n",
              "      <td>2021-05-4</td>\n",
              "      <td>70000.0</td>\n",
              "      <td>0</td>\n",
              "      <td>0.033443</td>\n",
              "      <td>46.655707</td>\n",
              "    </tr>\n",
              "    <tr>\n",
              "      <th>4</th>\n",
              "      <td>2021-05-5</td>\n",
              "      <td>45000.0</td>\n",
              "      <td>0</td>\n",
              "      <td>0.138920</td>\n",
              "      <td>36.108037</td>\n",
              "    </tr>\n",
              "  </tbody>\n",
              "</table>\n",
              "</div>"
            ],
            "text/plain": [
              "        date    amount  Predictions  Anomaly Scores  Scaled Scores\n",
              "0  2021-05-1   45000.0            0        0.138920      36.108037\n",
              "1  2021-05-2   70000.0            0        0.033443      46.655707\n",
              "2  2021-05-3  250000.0            1       -0.301249      80.124940\n",
              "3  2021-05-4   70000.0            0        0.033443      46.655707\n",
              "4  2021-05-5   45000.0            0        0.138920      36.108037"
            ]
          },
          "metadata": {
            "tags": []
          },
          "execution_count": 15
        }
      ]
    },
    {
      "cell_type": "markdown",
      "metadata": {
        "id": "Hje8CCvGhyU1"
      },
      "source": [
        "## MAD Model"
      ]
    },
    {
      "cell_type": "code",
      "metadata": {
        "id": "zjj9UiD7rpBv"
      },
      "source": [
        "def get_anomaly_scores(model):\n",
        "  anomaly_scores = model.decision_scores_\n",
        "  threshold = model.threshold_\n",
        "  return anomaly_scores, threshold"
      ],
      "execution_count": null,
      "outputs": []
    },
    {
      "cell_type": "code",
      "metadata": {
        "colab": {
          "base_uri": "https://localhost:8080/",
          "height": 327
        },
        "id": "XcBgqs-PgNyk",
        "outputId": "c1e9a79f-6c87-4a2a-d94e-557799fc2f5f"
      },
      "source": [
        "\"\"\"Median Absolute Deviation\"\"\"\n",
        "mad_model = MAD()\n",
        "mad_df = fit_model(mad_model, data)\n",
        "plot_anomalies(mad_df)"
      ],
      "execution_count": null,
      "outputs": [
        {
          "output_type": "display_data",
          "data": {
            "image/png": "[encoded data removed]",
            "text/plain": [
              "<Figure size 864x288 with 1 Axes>"
            ]
          },
          "metadata": {
            "tags": [],
            "needs_background": "light"
          }
        }
      ]
    },
    {
      "cell_type": "code",
      "metadata": {
        "colab": {
          "base_uri": "https://localhost:8080/"
        },
        "id": "zINya27BqvQn",
        "outputId": "76791c86-21b6-4d92-cba7-077ce4bd4b5e"
      },
      "source": [
        "anomaly_scores, threshold = get_anomaly_scores(mad_model)\n",
        "print(f\"Anomaly Scores: {anomaly_scores}, \\nThreshold: {threshold}\")"
      ],
      "execution_count": null,
      "outputs": [
        {
          "output_type": "stream",
          "text": [
            "Anomaly Scores: [0.02311101 1.08586271 9.07047355 1.08586271 0.02311101 0.42047848\n",
            " 0.4667005  0.64227322 0.02311101 0.91028999 4.32122702 4.10342458\n",
            " 0.76182059 0.20220317 0.48697254 0.20220317 0.90110769 0.35571441\n",
            " 0.70672678 1.45865532 0.83962619 3.44873085 0.06028381 0.88008155\n",
            " 0.02311101 0.11923686 0.04702049 2.01145655 0.06054997 0.53519072\n",
            " 0.03238203 0.71644139 5.32746542 1.11802295], \n",
            "Threshold: 3.5\n"
          ],
          "name": "stdout"
        }
      ]
    },
    {
      "cell_type": "code",
      "metadata": {
        "colab": {
          "base_uri": "https://localhost:8080/",
          "height": 204
        },
        "id": "i6rfJF9YsDG1",
        "outputId": "a5f760e1-3002-4ada-a808-2667bf54c5d1"
      },
      "source": [
        "mad_df['Anomaly Scores'] = anomaly_scores\n",
        "mad_df.head()"
      ],
      "execution_count": null,
      "outputs": [
        {
          "output_type": "execute_result",
          "data": {
            "text/html": [
              "<div>\n",
              "<style scoped>\n",
              "    .dataframe tbody tr th:only-of-type {\n",
              "        vertical-align: middle;\n",
              "    }\n",
              "\n",
              "    .dataframe tbody tr th {\n",
              "        vertical-align: top;\n",
              "    }\n",
              "\n",
              "    .dataframe thead th {\n",
              "        text-align: right;\n",
              "    }\n",
              "</style>\n",
              "<table border=\"1\" class=\"dataframe\">\n",
              "  <thead>\n",
              "    <tr style=\"text-align: right;\">\n",
              "      <th></th>\n",
              "      <th>date</th>\n",
              "      <th>amount</th>\n",
              "      <th>Predictions</th>\n",
              "      <th>Anomaly Scores</th>\n",
              "    </tr>\n",
              "  </thead>\n",
              "  <tbody>\n",
              "    <tr>\n",
              "      <th>0</th>\n",
              "      <td>2021-05-1</td>\n",
              "      <td>45000.0</td>\n",
              "      <td>0</td>\n",
              "      <td>0.023111</td>\n",
              "    </tr>\n",
              "    <tr>\n",
              "      <th>1</th>\n",
              "      <td>2021-05-2</td>\n",
              "      <td>70000.0</td>\n",
              "      <td>0</td>\n",
              "      <td>1.085863</td>\n",
              "    </tr>\n",
              "    <tr>\n",
              "      <th>2</th>\n",
              "      <td>2021-05-3</td>\n",
              "      <td>250000.0</td>\n",
              "      <td>1</td>\n",
              "      <td>9.070474</td>\n",
              "    </tr>\n",
              "    <tr>\n",
              "      <th>3</th>\n",
              "      <td>2021-05-4</td>\n",
              "      <td>70000.0</td>\n",
              "      <td>0</td>\n",
              "      <td>1.085863</td>\n",
              "    </tr>\n",
              "    <tr>\n",
              "      <th>4</th>\n",
              "      <td>2021-05-5</td>\n",
              "      <td>45000.0</td>\n",
              "      <td>0</td>\n",
              "      <td>0.023111</td>\n",
              "    </tr>\n",
              "  </tbody>\n",
              "</table>\n",
              "</div>"
            ],
            "text/plain": [
              "        date    amount  Predictions  Anomaly Scores\n",
              "0  2021-05-1   45000.0            0        0.023111\n",
              "1  2021-05-2   70000.0            0        1.085863\n",
              "2  2021-05-3  250000.0            1        9.070474\n",
              "3  2021-05-4   70000.0            0        1.085863\n",
              "4  2021-05-5   45000.0            0        0.023111"
            ]
          },
          "metadata": {
            "tags": []
          },
          "execution_count": 19
        }
      ]
    },
    {
      "cell_type": "markdown",
      "metadata": {
        "id": "5_T8vktTkfyL"
      },
      "source": [
        "## KNN Model"
      ]
    },
    {
      "cell_type": "code",
      "metadata": {
        "colab": {
          "base_uri": "https://localhost:8080/",
          "height": 327
        },
        "id": "0U7vmb4bgNsU",
        "outputId": "f49c24f5-056c-45aa-e4fc-c1a6b14a92d1"
      },
      "source": [
        "\"\"\"KNN Based Outlier Detection\"\"\"\n",
        "knn_model = KNN()\n",
        "knn_df = fit_model(knn_model, data)\n",
        "plot_anomalies(knn_df)"
      ],
      "execution_count": null,
      "outputs": [
        {
          "output_type": "display_data",
          "data": {
            "image/png": "[encoded data removed]",
            "text/plain": [
              "<Figure size 864x288 with 1 Axes>"
            ]
          },
          "metadata": {
            "tags": [],
            "needs_background": "light"
          }
        }
      ]
    },
    {
      "cell_type": "code",
      "metadata": {
        "colab": {
          "base_uri": "https://localhost:8080/"
        },
        "id": "QvjaK5y9rrCf",
        "outputId": "2f0cfef5-dab5-42ed-d895-7344a4359892"
      },
      "source": [
        "anomaly_scores, threshold = get_anomaly_scores(knn_model)\n",
        "print(f\"Anomaly Scores: {anomaly_scores}, \\nThreshold: {threshold}\")"
      ],
      "execution_count": null,
      "outputs": [
        {
          "output_type": "stream",
          "text": [
            "Anomaly Scores: [  1251.    15000.   159134.    15000.     1251.     8749.     5630.\n",
            "  11791.     1251.     4589.    64532.    59622.     3347.     4037.34\n",
            "   5173.     4037.34   4382.     4046.     4382.    18404.     2996.\n",
            "  44863.     1880.    13043.     1042.     3209.     1790.    30866.\n",
            "   1886.     4086.     1251.     4163.    84380.     9053.  ], \n",
            "Threshold: 55194.29999999999\n"
          ],
          "name": "stdout"
        }
      ]
    },
    {
      "cell_type": "code",
      "metadata": {
        "colab": {
          "base_uri": "https://localhost:8080/",
          "height": 204
        },
        "id": "Iy9JugdqsgY2",
        "outputId": "dd0dccd1-5c3c-4517-c2ea-0343f97e4844"
      },
      "source": [
        "knn_df['Anomaly Scores'] = anomaly_scores\n",
        "knn_df.head()"
      ],
      "execution_count": null,
      "outputs": [
        {
          "output_type": "execute_result",
          "data": {
            "text/html": [
              "<div>\n",
              "<style scoped>\n",
              "    .dataframe tbody tr th:only-of-type {\n",
              "        vertical-align: middle;\n",
              "    }\n",
              "\n",
              "    .dataframe tbody tr th {\n",
              "        vertical-align: top;\n",
              "    }\n",
              "\n",
              "    .dataframe thead th {\n",
              "        text-align: right;\n",
              "    }\n",
              "</style>\n",
              "<table border=\"1\" class=\"dataframe\">\n",
              "  <thead>\n",
              "    <tr style=\"text-align: right;\">\n",
              "      <th></th>\n",
              "      <th>date</th>\n",
              "      <th>amount</th>\n",
              "      <th>Predictions</th>\n",
              "      <th>Anomaly Scores</th>\n",
              "    </tr>\n",
              "  </thead>\n",
              "  <tbody>\n",
              "    <tr>\n",
              "      <th>0</th>\n",
              "      <td>2021-05-1</td>\n",
              "      <td>45000.0</td>\n",
              "      <td>0</td>\n",
              "      <td>1251.0</td>\n",
              "    </tr>\n",
              "    <tr>\n",
              "      <th>1</th>\n",
              "      <td>2021-05-2</td>\n",
              "      <td>70000.0</td>\n",
              "      <td>0</td>\n",
              "      <td>15000.0</td>\n",
              "    </tr>\n",
              "    <tr>\n",
              "      <th>2</th>\n",
              "      <td>2021-05-3</td>\n",
              "      <td>250000.0</td>\n",
              "      <td>1</td>\n",
              "      <td>159134.0</td>\n",
              "    </tr>\n",
              "    <tr>\n",
              "      <th>3</th>\n",
              "      <td>2021-05-4</td>\n",
              "      <td>70000.0</td>\n",
              "      <td>0</td>\n",
              "      <td>15000.0</td>\n",
              "    </tr>\n",
              "    <tr>\n",
              "      <th>4</th>\n",
              "      <td>2021-05-5</td>\n",
              "      <td>45000.0</td>\n",
              "      <td>0</td>\n",
              "      <td>1251.0</td>\n",
              "    </tr>\n",
              "  </tbody>\n",
              "</table>\n",
              "</div>"
            ],
            "text/plain": [
              "        date    amount  Predictions  Anomaly Scores\n",
              "0  2021-05-1   45000.0            0          1251.0\n",
              "1  2021-05-2   70000.0            0         15000.0\n",
              "2  2021-05-3  250000.0            1        159134.0\n",
              "3  2021-05-4   70000.0            0         15000.0\n",
              "4  2021-05-5   45000.0            0          1251.0"
            ]
          },
          "metadata": {
            "tags": []
          },
          "execution_count": 22
        }
      ]
    },
    {
      "cell_type": "code",
      "metadata": {
        "colab": {
          "base_uri": "https://localhost:8080/"
        },
        "id": "HDGzD7xTr01X",
        "outputId": "541c6bb5-c25e-4ba0-bba0-ee7ad6196e24"
      },
      "source": [
        "# Threshold computation\n",
        "pd.Series(anomaly_scores).quantile(.90)"
      ],
      "execution_count": null,
      "outputs": [
        {
          "output_type": "execute_result",
          "data": {
            "text/plain": [
              "55194.29999999999"
            ]
          },
          "metadata": {
            "tags": []
          },
          "execution_count": 23
        }
      ]
    },
    {
      "cell_type": "markdown",
      "metadata": {
        "id": "cUy3-xq6kj2u"
      },
      "source": [
        "## Local Outlier Factor Model"
      ]
    },
    {
      "cell_type": "code",
      "metadata": {
        "colab": {
          "base_uri": "https://localhost:8080/",
          "height": 327
        },
        "id": "dhpiVm-AgNk7",
        "outputId": "6ffb4e6f-cfb1-491b-abaa-ce609c52c5ca"
      },
      "source": [
        "\"\"\"LOF \"\"\"\n",
        "lof_model = LOF()\n",
        "lof_df = fit_model(lof_model, data)\n",
        "plot_anomalies(lof_df)"
      ],
      "execution_count": null,
      "outputs": [
        {
          "output_type": "display_data",
          "data": {
            "image/png": "[encoded data removed]",
            "text/plain": [
              "<Figure size 864x288 with 1 Axes>"
            ]
          },
          "metadata": {
            "tags": [],
            "needs_background": "light"
          }
        }
      ]
    },
    {
      "cell_type": "code",
      "metadata": {
        "id": "MLzDhXgHiQOA",
        "colab": {
          "base_uri": "https://localhost:8080/"
        },
        "outputId": "70a357fd-8613-47da-e8f9-aeab05b91aeb"
      },
      "source": [
        "anomaly_scores, threshold = get_anomaly_scores(lof_model)\n",
        "print(f\"Anomaly Scores: {anomaly_scores}, \\nThreshold: {threshold}\")"
      ],
      "execution_count": null,
      "outputs": [
        {
          "output_type": "stream",
          "text": [
            "Anomaly Scores: [0.96943738 1.44663158 6.95138284 1.44663158 0.96943738 1.13613938\n",
            " 0.98511861 1.19766155 0.96943738 1.02394401 3.68518031 3.53116118\n",
            " 0.9835512  0.97372488 0.98379269 0.97372488 1.01856773 0.98716987\n",
            " 0.98713539 1.72402355 0.99056951 3.06819412 0.98259654 1.30068672\n",
            " 0.98039317 0.99370586 0.97097242 2.15395436 0.98257972 0.99829485\n",
            " 0.98097905 0.98650339 4.33806271 1.16495666], \n",
            "Threshold: 3.3922710644189893\n"
          ],
          "name": "stdout"
        }
      ]
    },
    {
      "cell_type": "code",
      "metadata": {
        "colab": {
          "base_uri": "https://localhost:8080/"
        },
        "id": "dDUZlz7tsYbw",
        "outputId": "80911fd7-b254-45f9-df04-d4e50e0ad0c7"
      },
      "source": [
        "# Threshold computation\n",
        "pd.Series(anomaly_scores).quantile(.90)"
      ],
      "execution_count": null,
      "outputs": [
        {
          "output_type": "execute_result",
          "data": {
            "text/plain": [
              "3.3922710644189893"
            ]
          },
          "metadata": {
            "tags": []
          },
          "execution_count": 26
        }
      ]
    },
    {
      "cell_type": "code",
      "metadata": {
        "id": "imNumey3tN_M"
      },
      "source": [
        "# AutoEncoders \n",
        "# HBOS\n",
        "# LSTM AutoEncoders"
      ],
      "execution_count": null,
      "outputs": []
    }
  ]
}