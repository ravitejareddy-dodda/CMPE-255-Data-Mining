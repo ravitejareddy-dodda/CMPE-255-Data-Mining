{
  "nbformat": 4,
  "nbformat_minor": 0,
  "metadata": {
    "colab": {
      "provenance": [],
      "collapsed_sections": []
    },
    "kernelspec": {
      "name": "python3",
      "display_name": "Python 3"
    },
    "language_info": {
      "name": "python"
    }
  },
  "cells": [
    {
      "cell_type": "code",
      "source": [
        "!pip install squarify"
      ],
      "metadata": {
        "colab": {
          "base_uri": "https://localhost:8080/"
        },
        "id": "mfpDBPd-lH-8",
        "outputId": "fe0a68dd-13ec-4755-9ffb-e0bd43b3fc12"
      },
      "execution_count": null,
      "outputs": [
        {
          "output_type": "stream",
          "name": "stdout",
          "text": [
            "Looking in indexes: https://pypi.org/simple, https://us-python.pkg.dev/colab-wheels/public/simple/\n",
            "Collecting squarify\n",
            "  Downloading squarify-0.4.3-py3-none-any.whl (4.3 kB)\n",
            "Installing collected packages: squarify\n",
            "Successfully installed squarify-0.4.3\n"
          ]
        }
      ]
    },
    {
      "cell_type": "code",
      "execution_count": null,
      "metadata": {
        "colab": {
          "base_uri": "https://localhost:8080/",
          "height": 17
        },
        "id": "Cm--lqEFDm62",
        "outputId": "223d0d5d-ed34-4a6e-a598-073db7a1ad7d"
      },
      "outputs": [
        {
          "output_type": "display_data",
          "data": {
            "text/html": [
              "        <script type=\"text/javascript\">\n",
              "        window.PlotlyConfig = {MathJaxConfig: 'local'};\n",
              "        if (window.MathJax) {MathJax.Hub.Config({SVG: {font: \"STIX-Web\"}});}\n",
              "        if (typeof require !== 'undefined') {\n",
              "        require.undef(\"plotly\");\n",
              "        requirejs.config({\n",
              "            paths: {\n",
              "                'plotly': ['https://cdn.plot.ly/plotly-2.8.3.min']\n",
              "            }\n",
              "        });\n",
              "        require(['plotly'], function(Plotly) {\n",
              "            window._Plotly = Plotly;\n",
              "        });\n",
              "        }\n",
              "        </script>\n",
              "        "
            ]
          },
          "metadata": {}
        }
      ],
      "source": [
        "# Importing the relevant libraries\n",
        "import IPython.display\n",
        "import json\n",
        "import pandas as pd\n",
        "import seaborn as sns\n",
        "import squarify\n",
        "import missingno as msno\n",
        "import plotly.offline as py\n",
        "py.init_notebook_mode(connected=True)\n",
        "import plotly.graph_objs as go\n",
        "import plotly.tools as tls\n",
        "import numpy as np\n",
        "from matplotlib import pyplot as plt\n",
        "\n",
        "# D3 modules\n",
        "from IPython.core.display import display, HTML, Javascript\n",
        "from string import Template"
      ]
    },
    {
      "cell_type": "markdown",
      "source": [
        "**Data loading and inspection checks**"
      ],
      "metadata": {
        "id": "2PrIt671sdSJ"
      }
    },
    {
      "cell_type": "code",
      "source": [
        "items = pd.read_csv(\"/content/drive/MyDrive/D3.js Visualization/EDA/items.csv\")\n",
        "holiday_events = pd.read_csv(\"/content/drive/MyDrive/D3.js Visualization/EDA/holidays_events.csv\")\n",
        "stores = pd.read_csv(\"/content/drive/MyDrive/D3.js Visualization/EDA/stores.csv\")\n",
        "oil = pd.read_csv(\"/content/drive/MyDrive/D3.js Visualization/EDA/oil.csv\")\n",
        "transactions = pd.read_csv(\"/content/drive/MyDrive/D3.js Visualization/EDA/transactions.csv\",parse_dates=['date'])\n",
        "# Read in the full training data just to get prior information and here is the output:\n",
        "# Output: \"125,497,040 rows | 6 columns\"\n",
        "train = pd.read_csv(\"/content/drive/MyDrive/D3.js Visualization/EDA/train.csv\", nrows=6000000, parse_dates=['date'])"
      ],
      "metadata": {
        "id": "8V8517I3-4AC"
      },
      "execution_count": null,
      "outputs": []
    },
    {
      "cell_type": "code",
      "source": [
        "train.head()"
      ],
      "metadata": {
        "colab": {
          "base_uri": "https://localhost:8080/",
          "height": 206
        },
        "id": "PHHOA6MELA6O",
        "outputId": "f5d5b633-1d7b-4da8-ca6d-dfbb33dfb4bc"
      },
      "execution_count": null,
      "outputs": [
        {
          "output_type": "execute_result",
          "data": {
            "text/plain": [
              "   id       date  store_nbr  item_nbr  unit_sales  onpromotion\n",
              "0   0 2013-01-01         25    103665         7.0          NaN\n",
              "1   1 2013-01-01         25    105574         1.0          NaN\n",
              "2   2 2013-01-01         25    105575         2.0          NaN\n",
              "3   3 2013-01-01         25    108079         1.0          NaN\n",
              "4   4 2013-01-01         25    108701         1.0          NaN"
            ],
            "text/html": [
              "\n",
              "  <div id=\"df-f9e056a0-faca-4078-a9c3-b223b34f3b62\">\n",
              "    <div class=\"colab-df-container\">\n",
              "      <div>\n",
              "<style scoped>\n",
              "    .dataframe tbody tr th:only-of-type {\n",
              "        vertical-align: middle;\n",
              "    }\n",
              "\n",
              "    .dataframe tbody tr th {\n",
              "        vertical-align: top;\n",
              "    }\n",
              "\n",
              "    .dataframe thead th {\n",
              "        text-align: right;\n",
              "    }\n",
              "</style>\n",
              "<table border=\"1\" class=\"dataframe\">\n",
              "  <thead>\n",
              "    <tr style=\"text-align: right;\">\n",
              "      <th></th>\n",
              "      <th>id</th>\n",
              "      <th>date</th>\n",
              "      <th>store_nbr</th>\n",
              "      <th>item_nbr</th>\n",
              "      <th>unit_sales</th>\n",
              "      <th>onpromotion</th>\n",
              "    </tr>\n",
              "  </thead>\n",
              "  <tbody>\n",
              "    <tr>\n",
              "      <th>0</th>\n",
              "      <td>0</td>\n",
              "      <td>2013-01-01</td>\n",
              "      <td>25</td>\n",
              "      <td>103665</td>\n",
              "      <td>7.0</td>\n",
              "      <td>NaN</td>\n",
              "    </tr>\n",
              "    <tr>\n",
              "      <th>1</th>\n",
              "      <td>1</td>\n",
              "      <td>2013-01-01</td>\n",
              "      <td>25</td>\n",
              "      <td>105574</td>\n",
              "      <td>1.0</td>\n",
              "      <td>NaN</td>\n",
              "    </tr>\n",
              "    <tr>\n",
              "      <th>2</th>\n",
              "      <td>2</td>\n",
              "      <td>2013-01-01</td>\n",
              "      <td>25</td>\n",
              "      <td>105575</td>\n",
              "      <td>2.0</td>\n",
              "      <td>NaN</td>\n",
              "    </tr>\n",
              "    <tr>\n",
              "      <th>3</th>\n",
              "      <td>3</td>\n",
              "      <td>2013-01-01</td>\n",
              "      <td>25</td>\n",
              "      <td>108079</td>\n",
              "      <td>1.0</td>\n",
              "      <td>NaN</td>\n",
              "    </tr>\n",
              "    <tr>\n",
              "      <th>4</th>\n",
              "      <td>4</td>\n",
              "      <td>2013-01-01</td>\n",
              "      <td>25</td>\n",
              "      <td>108701</td>\n",
              "      <td>1.0</td>\n",
              "      <td>NaN</td>\n",
              "    </tr>\n",
              "  </tbody>\n",
              "</table>\n",
              "</div>\n",
              "      <button class=\"colab-df-convert\" onclick=\"convertToInteractive('df-f9e056a0-faca-4078-a9c3-b223b34f3b62')\"\n",
              "              title=\"Convert this dataframe to an interactive table.\"\n",
              "              style=\"display:none;\">\n",
              "        \n",
              "  <svg xmlns=\"http://www.w3.org/2000/svg\" height=\"24px\"viewBox=\"0 0 24 24\"\n",
              "       width=\"24px\">\n",
              "    <path d=\"M0 0h24v24H0V0z\" fill=\"none\"/>\n",
              "    <path d=\"M18.56 5.44l.94 2.06.94-2.06 2.06-.94-2.06-.94-.94-2.06-.94 2.06-2.06.94zm-11 1L8.5 8.5l.94-2.06 2.06-.94-2.06-.94L8.5 2.5l-.94 2.06-2.06.94zm10 10l.94 2.06.94-2.06 2.06-.94-2.06-.94-.94-2.06-.94 2.06-2.06.94z\"/><path d=\"M17.41 7.96l-1.37-1.37c-.4-.4-.92-.59-1.43-.59-.52 0-1.04.2-1.43.59L10.3 9.45l-7.72 7.72c-.78.78-.78 2.05 0 2.83L4 21.41c.39.39.9.59 1.41.59.51 0 1.02-.2 1.41-.59l7.78-7.78 2.81-2.81c.8-.78.8-2.07 0-2.86zM5.41 20L4 18.59l7.72-7.72 1.47 1.35L5.41 20z\"/>\n",
              "  </svg>\n",
              "      </button>\n",
              "      \n",
              "  <style>\n",
              "    .colab-df-container {\n",
              "      display:flex;\n",
              "      flex-wrap:wrap;\n",
              "      gap: 12px;\n",
              "    }\n",
              "\n",
              "    .colab-df-convert {\n",
              "      background-color: #E8F0FE;\n",
              "      border: none;\n",
              "      border-radius: 50%;\n",
              "      cursor: pointer;\n",
              "      display: none;\n",
              "      fill: #1967D2;\n",
              "      height: 32px;\n",
              "      padding: 0 0 0 0;\n",
              "      width: 32px;\n",
              "    }\n",
              "\n",
              "    .colab-df-convert:hover {\n",
              "      background-color: #E2EBFA;\n",
              "      box-shadow: 0px 1px 2px rgba(60, 64, 67, 0.3), 0px 1px 3px 1px rgba(60, 64, 67, 0.15);\n",
              "      fill: #174EA6;\n",
              "    }\n",
              "\n",
              "    [theme=dark] .colab-df-convert {\n",
              "      background-color: #3B4455;\n",
              "      fill: #D2E3FC;\n",
              "    }\n",
              "\n",
              "    [theme=dark] .colab-df-convert:hover {\n",
              "      background-color: #434B5C;\n",
              "      box-shadow: 0px 1px 3px 1px rgba(0, 0, 0, 0.15);\n",
              "      filter: drop-shadow(0px 1px 2px rgba(0, 0, 0, 0.3));\n",
              "      fill: #FFFFFF;\n",
              "    }\n",
              "  </style>\n",
              "\n",
              "      <script>\n",
              "        const buttonEl =\n",
              "          document.querySelector('#df-f9e056a0-faca-4078-a9c3-b223b34f3b62 button.colab-df-convert');\n",
              "        buttonEl.style.display =\n",
              "          google.colab.kernel.accessAllowed ? 'block' : 'none';\n",
              "\n",
              "        async function convertToInteractive(key) {\n",
              "          const element = document.querySelector('#df-f9e056a0-faca-4078-a9c3-b223b34f3b62');\n",
              "          const dataTable =\n",
              "            await google.colab.kernel.invokeFunction('convertToInteractive',\n",
              "                                                     [key], {});\n",
              "          if (!dataTable) return;\n",
              "\n",
              "          const docLinkHtml = 'Like what you see? Visit the ' +\n",
              "            '<a target=\"_blank\" href=https://colab.research.google.com/notebooks/data_table.ipynb>data table notebook</a>'\n",
              "            + ' to learn more about interactive tables.';\n",
              "          element.innerHTML = '';\n",
              "          dataTable['output_type'] = 'display_data';\n",
              "          await google.colab.output.renderOutput(dataTable, element);\n",
              "          const docLink = document.createElement('div');\n",
              "          docLink.innerHTML = docLinkHtml;\n",
              "          element.appendChild(docLink);\n",
              "        }\n",
              "      </script>\n",
              "    </div>\n",
              "  </div>\n",
              "  "
            ]
          },
          "metadata": {},
          "execution_count": 4
        }
      ]
    },
    {
      "cell_type": "code",
      "source": [
        "print(\"Nulls in Oil columns: {0} => {1}\".format(oil.columns.values,oil.isnull().any().values))\n",
        "print(\"=\"*70)\n",
        "print(\"Nulls in holiday_events columns: {0} => {1}\".format(holiday_events.columns.values,holiday_events.isnull().any().values))\n",
        "print(\"=\"*70)\n",
        "print(\"Nulls in stores columns: {0} => {1}\".format(stores.columns.values,stores.isnull().any().values))\n",
        "print(\"=\"*70)\n",
        "print(\"Nulls in transactions columns: {0} => {1}\".format(transactions.columns.values,transactions.isnull().any().values))"
      ],
      "metadata": {
        "colab": {
          "base_uri": "https://localhost:8080/"
        },
        "id": "oLNJjvvfb6N9",
        "outputId": "31847e10-1c1c-4db2-94bc-ac3c16c9dda6"
      },
      "execution_count": null,
      "outputs": [
        {
          "output_type": "stream",
          "name": "stdout",
          "text": [
            "Nulls in Oil columns: ['date' 'dcoilwtico'] => [False  True]\n",
            "======================================================================\n",
            "Nulls in holiday_events columns: ['date' 'type' 'locale' 'locale_name' 'description' 'transferred'] => [False False False False False False]\n",
            "======================================================================\n",
            "Nulls in stores columns: ['store_nbr' 'city' 'state' 'type' 'cluster'] => [False False False False False]\n",
            "======================================================================\n",
            "Nulls in transactions columns: ['date' 'store_nbr' 'transactions'] => [False False False]\n"
          ]
        }
      ]
    },
    {
      "cell_type": "markdown",
      "source": [
        "**Supplementary Data Exploration**"
      ],
      "metadata": {
        "id": "W00EER0qsCT0"
      }
    },
    {
      "cell_type": "markdown",
      "source": [
        "**Oil data**"
      ],
      "metadata": {
        "id": "xDlmVrTFsCfq"
      }
    },
    {
      "cell_type": "code",
      "source": [
        "oil.head(3)"
      ],
      "metadata": {
        "colab": {
          "base_uri": "https://localhost:8080/",
          "height": 143
        },
        "id": "U2PZi7EOLMnm",
        "outputId": "d6554d36-7cd3-4cb4-d9ca-e36ed8a2e4c0"
      },
      "execution_count": null,
      "outputs": [
        {
          "output_type": "execute_result",
          "data": {
            "text/plain": [
              "         date  dcoilwtico\n",
              "0  2013-01-01         NaN\n",
              "1  2013-01-02       93.14\n",
              "2  2013-01-03       92.97"
            ],
            "text/html": [
              "\n",
              "  <div id=\"df-96fbcccf-5155-4203-8990-7deb47716bff\">\n",
              "    <div class=\"colab-df-container\">\n",
              "      <div>\n",
              "<style scoped>\n",
              "    .dataframe tbody tr th:only-of-type {\n",
              "        vertical-align: middle;\n",
              "    }\n",
              "\n",
              "    .dataframe tbody tr th {\n",
              "        vertical-align: top;\n",
              "    }\n",
              "\n",
              "    .dataframe thead th {\n",
              "        text-align: right;\n",
              "    }\n",
              "</style>\n",
              "<table border=\"1\" class=\"dataframe\">\n",
              "  <thead>\n",
              "    <tr style=\"text-align: right;\">\n",
              "      <th></th>\n",
              "      <th>date</th>\n",
              "      <th>dcoilwtico</th>\n",
              "    </tr>\n",
              "  </thead>\n",
              "  <tbody>\n",
              "    <tr>\n",
              "      <th>0</th>\n",
              "      <td>2013-01-01</td>\n",
              "      <td>NaN</td>\n",
              "    </tr>\n",
              "    <tr>\n",
              "      <th>1</th>\n",
              "      <td>2013-01-02</td>\n",
              "      <td>93.14</td>\n",
              "    </tr>\n",
              "    <tr>\n",
              "      <th>2</th>\n",
              "      <td>2013-01-03</td>\n",
              "      <td>92.97</td>\n",
              "    </tr>\n",
              "  </tbody>\n",
              "</table>\n",
              "</div>\n",
              "      <button class=\"colab-df-convert\" onclick=\"convertToInteractive('df-96fbcccf-5155-4203-8990-7deb47716bff')\"\n",
              "              title=\"Convert this dataframe to an interactive table.\"\n",
              "              style=\"display:none;\">\n",
              "        \n",
              "  <svg xmlns=\"http://www.w3.org/2000/svg\" height=\"24px\"viewBox=\"0 0 24 24\"\n",
              "       width=\"24px\">\n",
              "    <path d=\"M0 0h24v24H0V0z\" fill=\"none\"/>\n",
              "    <path d=\"M18.56 5.44l.94 2.06.94-2.06 2.06-.94-2.06-.94-.94-2.06-.94 2.06-2.06.94zm-11 1L8.5 8.5l.94-2.06 2.06-.94-2.06-.94L8.5 2.5l-.94 2.06-2.06.94zm10 10l.94 2.06.94-2.06 2.06-.94-2.06-.94-.94-2.06-.94 2.06-2.06.94z\"/><path d=\"M17.41 7.96l-1.37-1.37c-.4-.4-.92-.59-1.43-.59-.52 0-1.04.2-1.43.59L10.3 9.45l-7.72 7.72c-.78.78-.78 2.05 0 2.83L4 21.41c.39.39.9.59 1.41.59.51 0 1.02-.2 1.41-.59l7.78-7.78 2.81-2.81c.8-.78.8-2.07 0-2.86zM5.41 20L4 18.59l7.72-7.72 1.47 1.35L5.41 20z\"/>\n",
              "  </svg>\n",
              "      </button>\n",
              "      \n",
              "  <style>\n",
              "    .colab-df-container {\n",
              "      display:flex;\n",
              "      flex-wrap:wrap;\n",
              "      gap: 12px;\n",
              "    }\n",
              "\n",
              "    .colab-df-convert {\n",
              "      background-color: #E8F0FE;\n",
              "      border: none;\n",
              "      border-radius: 50%;\n",
              "      cursor: pointer;\n",
              "      display: none;\n",
              "      fill: #1967D2;\n",
              "      height: 32px;\n",
              "      padding: 0 0 0 0;\n",
              "      width: 32px;\n",
              "    }\n",
              "\n",
              "    .colab-df-convert:hover {\n",
              "      background-color: #E2EBFA;\n",
              "      box-shadow: 0px 1px 2px rgba(60, 64, 67, 0.3), 0px 1px 3px 1px rgba(60, 64, 67, 0.15);\n",
              "      fill: #174EA6;\n",
              "    }\n",
              "\n",
              "    [theme=dark] .colab-df-convert {\n",
              "      background-color: #3B4455;\n",
              "      fill: #D2E3FC;\n",
              "    }\n",
              "\n",
              "    [theme=dark] .colab-df-convert:hover {\n",
              "      background-color: #434B5C;\n",
              "      box-shadow: 0px 1px 3px 1px rgba(0, 0, 0, 0.15);\n",
              "      filter: drop-shadow(0px 1px 2px rgba(0, 0, 0, 0.3));\n",
              "      fill: #FFFFFF;\n",
              "    }\n",
              "  </style>\n",
              "\n",
              "      <script>\n",
              "        const buttonEl =\n",
              "          document.querySelector('#df-96fbcccf-5155-4203-8990-7deb47716bff button.colab-df-convert');\n",
              "        buttonEl.style.display =\n",
              "          google.colab.kernel.accessAllowed ? 'block' : 'none';\n",
              "\n",
              "        async function convertToInteractive(key) {\n",
              "          const element = document.querySelector('#df-96fbcccf-5155-4203-8990-7deb47716bff');\n",
              "          const dataTable =\n",
              "            await google.colab.kernel.invokeFunction('convertToInteractive',\n",
              "                                                     [key], {});\n",
              "          if (!dataTable) return;\n",
              "\n",
              "          const docLinkHtml = 'Like what you see? Visit the ' +\n",
              "            '<a target=\"_blank\" href=https://colab.research.google.com/notebooks/data_table.ipynb>data table notebook</a>'\n",
              "            + ' to learn more about interactive tables.';\n",
              "          element.innerHTML = '';\n",
              "          dataTable['output_type'] = 'display_data';\n",
              "          await google.colab.output.renderOutput(dataTable, element);\n",
              "          const docLink = document.createElement('div');\n",
              "          docLink.innerHTML = docLinkHtml;\n",
              "          element.appendChild(docLink);\n",
              "        }\n",
              "      </script>\n",
              "    </div>\n",
              "  </div>\n",
              "  "
            ]
          },
          "metadata": {},
          "execution_count": 6
        }
      ]
    },
    {
      "cell_type": "markdown",
      "source": [
        "**Stores data**"
      ],
      "metadata": {
        "id": "xrZSm3JVr4X5"
      }
    },
    {
      "cell_type": "code",
      "source": [
        "stores.head(3)"
      ],
      "metadata": {
        "colab": {
          "base_uri": "https://localhost:8080/",
          "height": 143
        },
        "id": "4WLC8qJ_Ks7K",
        "outputId": "93801f7f-81e8-42d5-a5ea-f698b47d1e4d"
      },
      "execution_count": null,
      "outputs": [
        {
          "output_type": "execute_result",
          "data": {
            "text/plain": [
              "   store_nbr   city      state type  cluster\n",
              "0          1  Quito  Pichincha    D       13\n",
              "1          2  Quito  Pichincha    D       13\n",
              "2          3  Quito  Pichincha    D        8"
            ],
            "text/html": [
              "\n",
              "  <div id=\"df-26d37184-7b8a-4039-82ee-1e6f5b4faa95\">\n",
              "    <div class=\"colab-df-container\">\n",
              "      <div>\n",
              "<style scoped>\n",
              "    .dataframe tbody tr th:only-of-type {\n",
              "        vertical-align: middle;\n",
              "    }\n",
              "\n",
              "    .dataframe tbody tr th {\n",
              "        vertical-align: top;\n",
              "    }\n",
              "\n",
              "    .dataframe thead th {\n",
              "        text-align: right;\n",
              "    }\n",
              "</style>\n",
              "<table border=\"1\" class=\"dataframe\">\n",
              "  <thead>\n",
              "    <tr style=\"text-align: right;\">\n",
              "      <th></th>\n",
              "      <th>store_nbr</th>\n",
              "      <th>city</th>\n",
              "      <th>state</th>\n",
              "      <th>type</th>\n",
              "      <th>cluster</th>\n",
              "    </tr>\n",
              "  </thead>\n",
              "  <tbody>\n",
              "    <tr>\n",
              "      <th>0</th>\n",
              "      <td>1</td>\n",
              "      <td>Quito</td>\n",
              "      <td>Pichincha</td>\n",
              "      <td>D</td>\n",
              "      <td>13</td>\n",
              "    </tr>\n",
              "    <tr>\n",
              "      <th>1</th>\n",
              "      <td>2</td>\n",
              "      <td>Quito</td>\n",
              "      <td>Pichincha</td>\n",
              "      <td>D</td>\n",
              "      <td>13</td>\n",
              "    </tr>\n",
              "    <tr>\n",
              "      <th>2</th>\n",
              "      <td>3</td>\n",
              "      <td>Quito</td>\n",
              "      <td>Pichincha</td>\n",
              "      <td>D</td>\n",
              "      <td>8</td>\n",
              "    </tr>\n",
              "  </tbody>\n",
              "</table>\n",
              "</div>\n",
              "      <button class=\"colab-df-convert\" onclick=\"convertToInteractive('df-26d37184-7b8a-4039-82ee-1e6f5b4faa95')\"\n",
              "              title=\"Convert this dataframe to an interactive table.\"\n",
              "              style=\"display:none;\">\n",
              "        \n",
              "  <svg xmlns=\"http://www.w3.org/2000/svg\" height=\"24px\"viewBox=\"0 0 24 24\"\n",
              "       width=\"24px\">\n",
              "    <path d=\"M0 0h24v24H0V0z\" fill=\"none\"/>\n",
              "    <path d=\"M18.56 5.44l.94 2.06.94-2.06 2.06-.94-2.06-.94-.94-2.06-.94 2.06-2.06.94zm-11 1L8.5 8.5l.94-2.06 2.06-.94-2.06-.94L8.5 2.5l-.94 2.06-2.06.94zm10 10l.94 2.06.94-2.06 2.06-.94-2.06-.94-.94-2.06-.94 2.06-2.06.94z\"/><path d=\"M17.41 7.96l-1.37-1.37c-.4-.4-.92-.59-1.43-.59-.52 0-1.04.2-1.43.59L10.3 9.45l-7.72 7.72c-.78.78-.78 2.05 0 2.83L4 21.41c.39.39.9.59 1.41.59.51 0 1.02-.2 1.41-.59l7.78-7.78 2.81-2.81c.8-.78.8-2.07 0-2.86zM5.41 20L4 18.59l7.72-7.72 1.47 1.35L5.41 20z\"/>\n",
              "  </svg>\n",
              "      </button>\n",
              "      \n",
              "  <style>\n",
              "    .colab-df-container {\n",
              "      display:flex;\n",
              "      flex-wrap:wrap;\n",
              "      gap: 12px;\n",
              "    }\n",
              "\n",
              "    .colab-df-convert {\n",
              "      background-color: #E8F0FE;\n",
              "      border: none;\n",
              "      border-radius: 50%;\n",
              "      cursor: pointer;\n",
              "      display: none;\n",
              "      fill: #1967D2;\n",
              "      height: 32px;\n",
              "      padding: 0 0 0 0;\n",
              "      width: 32px;\n",
              "    }\n",
              "\n",
              "    .colab-df-convert:hover {\n",
              "      background-color: #E2EBFA;\n",
              "      box-shadow: 0px 1px 2px rgba(60, 64, 67, 0.3), 0px 1px 3px 1px rgba(60, 64, 67, 0.15);\n",
              "      fill: #174EA6;\n",
              "    }\n",
              "\n",
              "    [theme=dark] .colab-df-convert {\n",
              "      background-color: #3B4455;\n",
              "      fill: #D2E3FC;\n",
              "    }\n",
              "\n",
              "    [theme=dark] .colab-df-convert:hover {\n",
              "      background-color: #434B5C;\n",
              "      box-shadow: 0px 1px 3px 1px rgba(0, 0, 0, 0.15);\n",
              "      filter: drop-shadow(0px 1px 2px rgba(0, 0, 0, 0.3));\n",
              "      fill: #FFFFFF;\n",
              "    }\n",
              "  </style>\n",
              "\n",
              "      <script>\n",
              "        const buttonEl =\n",
              "          document.querySelector('#df-26d37184-7b8a-4039-82ee-1e6f5b4faa95 button.colab-df-convert');\n",
              "        buttonEl.style.display =\n",
              "          google.colab.kernel.accessAllowed ? 'block' : 'none';\n",
              "\n",
              "        async function convertToInteractive(key) {\n",
              "          const element = document.querySelector('#df-26d37184-7b8a-4039-82ee-1e6f5b4faa95');\n",
              "          const dataTable =\n",
              "            await google.colab.kernel.invokeFunction('convertToInteractive',\n",
              "                                                     [key], {});\n",
              "          if (!dataTable) return;\n",
              "\n",
              "          const docLinkHtml = 'Like what you see? Visit the ' +\n",
              "            '<a target=\"_blank\" href=https://colab.research.google.com/notebooks/data_table.ipynb>data table notebook</a>'\n",
              "            + ' to learn more about interactive tables.';\n",
              "          element.innerHTML = '';\n",
              "          dataTable['output_type'] = 'display_data';\n",
              "          await google.colab.output.renderOutput(dataTable, element);\n",
              "          const docLink = document.createElement('div');\n",
              "          docLink.innerHTML = docLinkHtml;\n",
              "          element.appendChild(docLink);\n",
              "        }\n",
              "      </script>\n",
              "    </div>\n",
              "  </div>\n",
              "  "
            ]
          },
          "metadata": {},
          "execution_count": 7
        }
      ]
    },
    {
      "cell_type": "code",
      "source": [
        "fig = plt.figure(figsize=(25, 21))\n",
        "marrimeko=stores.city.value_counts().to_frame()\n",
        "ax = fig.add_subplot(111, aspect=\"equal\")\n",
        "ax = squarify.plot(sizes=marrimeko['city'].values,label=marrimeko.index,\n",
        "              color=sns.color_palette('cubehelix_r', 28), alpha=1)\n",
        "ax.set_xticks([])\n",
        "ax.set_yticks([])\n",
        "fig=plt.gcf()\n",
        "fig.set_size_inches(40,25)\n",
        "plt.title(\"Treemap of store counts across different cities\", fontsize=18)\n",
        "plt.show();"
      ],
      "metadata": {
        "colab": {
          "base_uri": "https://localhost:8080/",
          "height": 1000
        },
        "id": "IWjVlDdi-_6Z",
        "outputId": "e30e4548-89e4-4f7b-a7ba-e77f5eb4f339"
      },
      "execution_count": null,
      "outputs": [
        {
          "output_type": "display_data",
          "data": {
            "text/plain": [
              "<Figure size 2880x1800 with 1 Axes>"
            ],
            "image/png": "[encoded data removed]"
          },
          "metadata": {}
        }
      ]
    },
    {
      "cell_type": "code",
      "source": [
        "stores.state.unique()"
      ],
      "metadata": {
        "colab": {
          "base_uri": "https://localhost:8080/"
        },
        "id": "1nIqI308_F_y",
        "outputId": "8e39890d-32f5-4557-bfa7-574ac4dda8d9"
      },
      "execution_count": null,
      "outputs": [
        {
          "output_type": "execute_result",
          "data": {
            "text/plain": [
              "array(['Pichincha', 'Santo Domingo de los Tsachilas', 'Cotopaxi',\n",
              "       'Chimborazo', 'Imbabura', 'Bolivar', 'Pastaza', 'Tungurahua',\n",
              "       'Guayas', 'Santa Elena', 'Los Rios', 'Azuay', 'Loja', 'El Oro',\n",
              "       'Esmeraldas', 'Manabi'], dtype=object)"
            ]
          },
          "metadata": {},
          "execution_count": 9
        }
      ]
    },
    {
      "cell_type": "code",
      "source": [
        "# Unhide to see the sorted zip order\n",
        "neworder = [23, 24, 26, 36, 41, 15, 29, 31, 32, 34, 39, \n",
        "            53, 4, 37, 40, 43, 8, 10, 19, 20, 33, 38, 13, \n",
        "            21, 2, 6, 7, 3, 22, 25, 27, 28, 30, 35, 42, 44, \n",
        "            48, 51, 16, 0, 1, 5, 52, 45, 46, 47, 49, 9, 11, 12, 14, 18, 17, 50]"
      ],
      "metadata": {
        "id": "ENvdRKvq_Kz4"
      },
      "execution_count": null,
      "outputs": []
    },
    {
      "cell_type": "code",
      "source": [
        "# Finally plot the seaborn heatmap\n",
        "plt.style.use('dark_background')\n",
        "plt.figure(figsize=(15,12))\n",
        "store_pivot = stores.dropna().pivot(\"store_nbr\",\"cluster\", \"store_nbr\")\n",
        "ax = sns.heatmap(store_pivot, cmap='jet', annot=True, linewidths=0, linecolor='white')\n",
        "plt.title('Store numbers and the clusters they are assigned to')"
      ],
      "metadata": {
        "colab": {
          "base_uri": "https://localhost:8080/",
          "height": 747
        },
        "id": "jR89od-zC6KY",
        "outputId": "22fc560f-bb3e-4c53-9e4d-3d7e80cab9f4"
      },
      "execution_count": null,
      "outputs": [
        {
          "output_type": "execute_result",
          "data": {
            "text/plain": [
              "Text(0.5, 1.0, 'Store numbers and the clusters they are assigned to')"
            ]
          },
          "metadata": {},
          "execution_count": 11
        },
        {
          "output_type": "display_data",
          "data": {
            "text/plain": [
              "<Figure size 1080x864 with 2 Axes>"
            ],
            "image/png": "[encoded data removed]"
          },
          "metadata": {}
        }
      ]
    },
    {
      "cell_type": "code",
      "source": [
        "plt.style.use('seaborn-white')\n",
        "#plt.style.use('dark_background')\n",
        "type_cluster = stores.groupby(['type','cluster']).size()\n",
        "type_cluster.unstack().plot(kind='bar',stacked=True, colormap= 'PuBu', figsize=(13,11),  grid=False)\n",
        "plt.title('Stacked Barplot of Store types and their cluster distribution', fontsize=18)\n",
        "plt.ylabel('Count of clusters in a particular store type', fontsize=16)\n",
        "plt.xlabel('Store type', fontsize=16)\n",
        "plt.show()"
      ],
      "metadata": {
        "colab": {
          "base_uri": "https://localhost:8080/",
          "height": 678
        },
        "id": "ICL16YeBC6yj",
        "outputId": "d45efea0-eba2-4fd7-f5bc-ea428a871d6f"
      },
      "execution_count": null,
      "outputs": [
        {
          "output_type": "display_data",
          "data": {
            "text/plain": [
              "<Figure size 936x792 with 1 Axes>"
            ],
            "image/png": "[encoded data removed]"
          },
          "metadata": {}
        }
      ]
    },
    {
      "cell_type": "code",
      "source": [
        "# plt.style.use('dark_background')\n",
        "plt.style.use('seaborn-white')\n",
        "city_cluster = stores.groupby(['city','type']).store_nbr.size()\n",
        "city_cluster.unstack().plot(kind='bar',stacked=True, colormap= 'viridis', figsize=(13,11),  grid=False)\n",
        "plt.title('Stacked Barplot of Store types opened for each city')\n",
        "plt.ylabel('Count of stores for a particular city')\n",
        "plt.show()"
      ],
      "metadata": {
        "colab": {
          "base_uri": "https://localhost:8080/",
          "height": 730
        },
        "id": "6h3EIezsC9r9",
        "outputId": "a87da95b-1f51-49c8-874c-a6049cb4b513"
      },
      "execution_count": null,
      "outputs": [
        {
          "output_type": "display_data",
          "data": {
            "text/plain": [
              "<Figure size 936x792 with 1 Axes>"
            ],
            "image/png": "[encoded data removed]"
          },
          "metadata": {}
        }
      ]
    },
    {
      "cell_type": "markdown",
      "source": [
        "**Holiday Events data**"
      ],
      "metadata": {
        "id": "PFKuCG6jrvvs"
      }
    },
    {
      "cell_type": "code",
      "source": [
        "holiday_events.head(3)"
      ],
      "metadata": {
        "colab": {
          "base_uri": "https://localhost:8080/",
          "height": 143
        },
        "id": "X3OpN4QrDCas",
        "outputId": "e1d1f903-3f2e-4a44-e4fc-f7b523fa4caa"
      },
      "execution_count": null,
      "outputs": [
        {
          "output_type": "execute_result",
          "data": {
            "text/plain": [
              "         date     type    locale locale_name                    description  \\\n",
              "0  2012-03-02  Holiday     Local       Manta             Fundacion de Manta   \n",
              "1  2012-04-01  Holiday  Regional    Cotopaxi  Provincializacion de Cotopaxi   \n",
              "2  2012-04-12  Holiday     Local      Cuenca            Fundacion de Cuenca   \n",
              "\n",
              "   transferred  \n",
              "0        False  \n",
              "1        False  \n",
              "2        False  "
            ],
            "text/html": [
              "\n",
              "  <div id=\"df-3ebd84e2-40a0-4ba4-b0c8-573aaa0ff263\">\n",
              "    <div class=\"colab-df-container\">\n",
              "      <div>\n",
              "<style scoped>\n",
              "    .dataframe tbody tr th:only-of-type {\n",
              "        vertical-align: middle;\n",
              "    }\n",
              "\n",
              "    .dataframe tbody tr th {\n",
              "        vertical-align: top;\n",
              "    }\n",
              "\n",
              "    .dataframe thead th {\n",
              "        text-align: right;\n",
              "    }\n",
              "</style>\n",
              "<table border=\"1\" class=\"dataframe\">\n",
              "  <thead>\n",
              "    <tr style=\"text-align: right;\">\n",
              "      <th></th>\n",
              "      <th>date</th>\n",
              "      <th>type</th>\n",
              "      <th>locale</th>\n",
              "      <th>locale_name</th>\n",
              "      <th>description</th>\n",
              "      <th>transferred</th>\n",
              "    </tr>\n",
              "  </thead>\n",
              "  <tbody>\n",
              "    <tr>\n",
              "      <th>0</th>\n",
              "      <td>2012-03-02</td>\n",
              "      <td>Holiday</td>\n",
              "      <td>Local</td>\n",
              "      <td>Manta</td>\n",
              "      <td>Fundacion de Manta</td>\n",
              "      <td>False</td>\n",
              "    </tr>\n",
              "    <tr>\n",
              "      <th>1</th>\n",
              "      <td>2012-04-01</td>\n",
              "      <td>Holiday</td>\n",
              "      <td>Regional</td>\n",
              "      <td>Cotopaxi</td>\n",
              "      <td>Provincializacion de Cotopaxi</td>\n",
              "      <td>False</td>\n",
              "    </tr>\n",
              "    <tr>\n",
              "      <th>2</th>\n",
              "      <td>2012-04-12</td>\n",
              "      <td>Holiday</td>\n",
              "      <td>Local</td>\n",
              "      <td>Cuenca</td>\n",
              "      <td>Fundacion de Cuenca</td>\n",
              "      <td>False</td>\n",
              "    </tr>\n",
              "  </tbody>\n",
              "</table>\n",
              "</div>\n",
              "      <button class=\"colab-df-convert\" onclick=\"convertToInteractive('df-3ebd84e2-40a0-4ba4-b0c8-573aaa0ff263')\"\n",
              "              title=\"Convert this dataframe to an interactive table.\"\n",
              "              style=\"display:none;\">\n",
              "        \n",
              "  <svg xmlns=\"http://www.w3.org/2000/svg\" height=\"24px\"viewBox=\"0 0 24 24\"\n",
              "       width=\"24px\">\n",
              "    <path d=\"M0 0h24v24H0V0z\" fill=\"none\"/>\n",
              "    <path d=\"M18.56 5.44l.94 2.06.94-2.06 2.06-.94-2.06-.94-.94-2.06-.94 2.06-2.06.94zm-11 1L8.5 8.5l.94-2.06 2.06-.94-2.06-.94L8.5 2.5l-.94 2.06-2.06.94zm10 10l.94 2.06.94-2.06 2.06-.94-2.06-.94-.94-2.06-.94 2.06-2.06.94z\"/><path d=\"M17.41 7.96l-1.37-1.37c-.4-.4-.92-.59-1.43-.59-.52 0-1.04.2-1.43.59L10.3 9.45l-7.72 7.72c-.78.78-.78 2.05 0 2.83L4 21.41c.39.39.9.59 1.41.59.51 0 1.02-.2 1.41-.59l7.78-7.78 2.81-2.81c.8-.78.8-2.07 0-2.86zM5.41 20L4 18.59l7.72-7.72 1.47 1.35L5.41 20z\"/>\n",
              "  </svg>\n",
              "      </button>\n",
              "      \n",
              "  <style>\n",
              "    .colab-df-container {\n",
              "      display:flex;\n",
              "      flex-wrap:wrap;\n",
              "      gap: 12px;\n",
              "    }\n",
              "\n",
              "    .colab-df-convert {\n",
              "      background-color: #E8F0FE;\n",
              "      border: none;\n",
              "      border-radius: 50%;\n",
              "      cursor: pointer;\n",
              "      display: none;\n",
              "      fill: #1967D2;\n",
              "      height: 32px;\n",
              "      padding: 0 0 0 0;\n",
              "      width: 32px;\n",
              "    }\n",
              "\n",
              "    .colab-df-convert:hover {\n",
              "      background-color: #E2EBFA;\n",
              "      box-shadow: 0px 1px 2px rgba(60, 64, 67, 0.3), 0px 1px 3px 1px rgba(60, 64, 67, 0.15);\n",
              "      fill: #174EA6;\n",
              "    }\n",
              "\n",
              "    [theme=dark] .colab-df-convert {\n",
              "      background-color: #3B4455;\n",
              "      fill: #D2E3FC;\n",
              "    }\n",
              "\n",
              "    [theme=dark] .colab-df-convert:hover {\n",
              "      background-color: #434B5C;\n",
              "      box-shadow: 0px 1px 3px 1px rgba(0, 0, 0, 0.15);\n",
              "      filter: drop-shadow(0px 1px 2px rgba(0, 0, 0, 0.3));\n",
              "      fill: #FFFFFF;\n",
              "    }\n",
              "  </style>\n",
              "\n",
              "      <script>\n",
              "        const buttonEl =\n",
              "          document.querySelector('#df-3ebd84e2-40a0-4ba4-b0c8-573aaa0ff263 button.colab-df-convert');\n",
              "        buttonEl.style.display =\n",
              "          google.colab.kernel.accessAllowed ? 'block' : 'none';\n",
              "\n",
              "        async function convertToInteractive(key) {\n",
              "          const element = document.querySelector('#df-3ebd84e2-40a0-4ba4-b0c8-573aaa0ff263');\n",
              "          const dataTable =\n",
              "            await google.colab.kernel.invokeFunction('convertToInteractive',\n",
              "                                                     [key], {});\n",
              "          if (!dataTable) return;\n",
              "\n",
              "          const docLinkHtml = 'Like what you see? Visit the ' +\n",
              "            '<a target=\"_blank\" href=https://colab.research.google.com/notebooks/data_table.ipynb>data table notebook</a>'\n",
              "            + ' to learn more about interactive tables.';\n",
              "          element.innerHTML = '';\n",
              "          dataTable['output_type'] = 'display_data';\n",
              "          await google.colab.output.renderOutput(dataTable, element);\n",
              "          const docLink = document.createElement('div');\n",
              "          docLink.innerHTML = docLinkHtml;\n",
              "          element.appendChild(docLink);\n",
              "        }\n",
              "      </script>\n",
              "    </div>\n",
              "  </div>\n",
              "  "
            ]
          },
          "metadata": {},
          "execution_count": 14
        }
      ]
    },
    {
      "cell_type": "code",
      "source": [
        "plt.style.use('seaborn-white')\n",
        "# plt.style.use('dark_background')\n",
        "holiday_local_type = holiday_events.groupby(['locale_name', 'type']).size()\n",
        "holiday_local_type.unstack().plot(kind='bar',stacked=True, colormap= 'magma_r', figsize=(12,10),  grid=False)\n",
        "plt.title('Stacked Barplot of locale name against event type')\n",
        "plt.ylabel('Count of entries')\n",
        "plt.show()"
      ],
      "metadata": {
        "colab": {
          "base_uri": "https://localhost:8080/",
          "height": 749
        },
        "id": "JpDOGjzfDIyS",
        "outputId": "4d6ef88c-14b5-4b9e-aa94-1438c82af944"
      },
      "execution_count": null,
      "outputs": [
        {
          "output_type": "display_data",
          "data": {
            "text/plain": [
              "<Figure size 864x720 with 1 Axes>"
            ],
            "image/png": "[encoded data removed]"
          },
          "metadata": {}
        }
      ]
    },
    {
      "cell_type": "markdown",
      "source": [
        "**D3.js Circular treemapping of Store Type to description**"
      ],
      "metadata": {
        "id": "yWFwH83brnyX"
      }
    },
    {
      "cell_type": "code",
      "source": [
        "# Prepping the json file\n",
        "holiday_json = {\n",
        "\"name\": \"flare\",\n",
        "\"children\": [\n",
        "{\n",
        "\"name\": \"Additional\",\n",
        "\"children\":[\n",
        "{\"name\": \"Batalla de Pichincha\",       \"size\": 5.0},\n",
        "{\"name\": \"Cantonizacion de Cayambe\",   \"size\": 6.0},\n",
        "{\"name\": \"Cantonizacion de El Carmen\", \"size\": 6.0},\n",
        "{\"name\": \"Cantonizacion de Guaranda\",  \"size\": 6.0},\n",
        "{\"name\": \"Cantonizacion de Latacunga\", \"size\": 6.0},\n",
        "{\"name\": \"Cantonizacion de Libertad\",  \"size\": 6.0},\n",
        "{\"name\": \"Cantonizacion de Quevedo\",   \"size\": 6.0},\n",
        "{\"name\": \"Cantonizacion de Riobamba\",  \"size\": 6.0},\n",
        "{\"name\": \"Cantonizacion de Salinas\",   \"size\": 6.0},\n",
        "{\"name\": \"Cantonizacion del Puyo\",     \"size\": 6.0},\n",
        "{\"name\": \"Carnaval\",                   \"size\": 0.0},\n",
        "{\"name\": \"Dia de Difuntos\",            \"size\": 6.0},\n",
        "{\"name\": \"Dia de la Madre\",            \"size\": 5.0},\n",
        "{\"name\": \"Dia de la Madre-1\",          \"size\": 5.0},\n",
        "{\"name\": \"Dia del Trabajo\",             \"size\": 5.0},\n",
        "{\"name\": \"Fundacion de Guayaquil\",    \"size\": 5.0},\n",
        "{\"name\": \"Fundacion de Guayaquil-1\",  \"size\": 5.0},\n",
        "{\"name\": \"Fundacion de Quito\",        \"size\": 6.0},\n",
        "{\"name\": \"Fundacion de Quito-1\",      \"size\": 6.0},\n",
        "{\"name\": \"Navidad+1                                      \", \"size\": 6.0},\n",
        "{\"name\": \"Navidad-1                                      \", \"size\": 6.0},\n",
        "{\"name\": \"Navidad-2                                      \", \"size\": 6.0},\n",
        "{\"name\": \"Navidad-3                                      \", \"size\": 6.0},\n",
        "{\"name\": \"Navidad-4                                      \", \"size\": 6.0},\n",
        "]\n",
        "},\n",
        "{\n",
        "\"name\":  \"Holiday\",\n",
        "\"children\":[\n",
        "{\"name\": \"Fundacion de Ambato\",       \"size\": 6.0},\n",
        "{\"name\": \"Fundacion de Cuenca\",       \"size\": 7.0},\n",
        "{\"name\": \"Fundacion de Esmeraldas\",   \"size\": 6.0},\n",
        "{\"name\": \"Fundacion de Ibarra\",       \"size\": 7.0},\n",
        "{\"name\": \"Fundacion de Loja\",         \"size\": 6.0},\n",
        "{\"name\": \"Fundacion de Machala\",      \"size\": 6.0},\n",
        "{\"name\": \"Fundacion de Manta\",        \"size\": 6.0},\n",
        "{\"name\": \"Fundacion de Riobamba\",     \"size\": 6.0},\n",
        "{\"name\": \"Fundacion de Santo Domingo\", \"size\": 6.0}\n",
        "]\n",
        "},\n",
        "{\n",
        "\"name\": \"Event\",\n",
        "\"children\": [\n",
        "{\"name\": \"Inauguracion Mundial de futbol Brasil          \", \"size\": 1.0},\n",
        "{\"name\": \"Independencia de Ambato                        \", \"size\": 6.0},\n",
        "{\"name\": \"Independencia de Cuenca                        \", \"size\": 6.0},\n",
        "{\"name\": \"Independencia de Guaranda                      \", \"size\": 6.0},\n",
        "{\"name\": \"Independencia de Guayaquil                     \", \"size\": 6.0},\n",
        "{\"name\": \"Independencia de Latacunga                     \", \"size\": 6.0},\n",
        "{\"name\": \"Mundial de futbol Brasil: Cuartos de Final     \", \"size\": 2.0},\n",
        "{\"name\": \"Mundial de futbol Brasil: Ecuador-Francia      \", \"size\": 1.0},\n",
        "{\"name\": \"Mundial de futbol Brasil: Ecuador-Honduras     \", \"size\": 1.0},\n",
        "{\"name\": \"Mundial de futbol Brasil: Ecuador-Suiza        \", \"size\": 1.0},\n",
        "{\"name\": \"Mundial de futbol Brasil: Final                \", \"size\": 1.0},\n",
        "{\"name\": \"Mundial de futbol Brasil: Octavos de Final     \", \"size\": 4.0},\n",
        "{\"name\": \"Mundial de futbol Brasil: Semifinales          \", \"size\": 2.0},\n",
        "{\"name\": \"Mundial de futbol Brasil: Tercer y cuarto lugar\", \"size\": 1.0},\n",
        "{\"name\": \"Navidad                                        \", \"size\": 6.0},\n",
        "{\"name\": \"Primer Grito de Independencia                  \", \"size\": 6.0},\n",
        "{\"name\": \"Primer dia del ano                             \", \"size\": 5.0},\n",
        "{\"name\": \"Primer dia del ano-1                           \", \"size\": 5.0},\n",
        "{\"name\": \"Black Friday\",               \"size\": 3.0},\n",
        "{\"name\": \"Cyber Monday\",               \"size\": 3.0},\n",
        "{\"name\": \"Provincializacion Santa Elena                  \", \"size\": 6.0},\n",
        "{\"name\": \"Provincializacion de Cotopaxi                  \", \"size\": 6.0},\n",
        "{\"name\": \"Provincializacion de Imbabura                  \", \"size\": 6.0},\n",
        "{\"name\": \"Provincializacion de Santo Domingo             \", \"size\": 6.0},\n",
        "{\"name\": \"Terremoto Manabi                               \", \"size\": 1.0},\n",
        "{\"name\": \"Terremoto Manabi+1                             \", \"size\": 1.0},\n",
        "{\"name\": \"Terremoto Manabi+10                            \", \"size\": 1.0},\n",
        "{\"name\": \"Terremoto Manabi+11                            \", \"size\": 1.0},\n",
        "{\"name\": \"Terremoto Manabi+12                            \", \"size\": 1.0},\n",
        "{\"name\": \"Terremoto Manabi+13                            \", \"size\": 1.0},\n",
        "{\"name\": \"Terremoto Manabi+14                            \", \"size\": 1.0},\n",
        "{\"name\": \"Terremoto Manabi+15                            \", \"size\": 1.0},\n",
        "{\"name\": \"Terremoto Manabi+16                            \", \"size\": 1.0},\n",
        "{\"name\": \"Terremoto Manabi+17                            \", \"size\": 1.0},\n",
        "{\"name\": \"Terremoto Manabi+18                            \", \"size\": 1.0},\n",
        "{\"name\": \"Terremoto Manabi+19                            \", \"size\": 1.0},\n",
        "{\"name\": \"Terremoto Manabi+2                             \", \"size\": 1.0},\n",
        "{\"name\": \"Terremoto Manabi+20                            \", \"size\": 1.0},\n",
        "{\"name\": \"Terremoto Manabi+21                            \", \"size\": 1.0},\n",
        "{\"name\": \"Terremoto Manabi+22                            \", \"size\": 1.0},\n",
        "{\"name\": \"Terremoto Manabi+23                            \", \"size\": 1.0},\n",
        "{\"name\": \"Terremoto Manabi+24                            \", \"size\": 1.0},\n",
        "{\"name\": \"Terremoto Manabi+25                            \", \"size\": 1.0},\n",
        "{\"name\": \"Terremoto Manabi+26                            \", \"size\": 1.0},\n",
        "{\"name\": \"Terremoto Manabi+27                            \", \"size\": 1.0},\n",
        "{\"name\": \"Terremoto Manabi+28                            \", \"size\": 1.0},\n",
        "{\"name\": \"Terremoto Manabi+29                            \", \"size\": 1.0},\n",
        "{\"name\": \"Terremoto Manabi+3                             \", \"size\": 1.0},\n",
        "{\"name\": \"Terremoto Manabi+30                            \", \"size\": 1.0},\n",
        "{\"name\": \"Terremoto Manabi+4                             \", \"size\": 1.0},\n",
        "{\"name\": \"Terremoto Manabi+5                             \", \"size\": 1.0},\n",
        "{\"name\": \"Terremoto Manabi+6                             \", \"size\": 1.0},\n",
        "{\"name\": \"Terremoto Manabi+7                             \", \"size\": 1.0},\n",
        "{\"name\": \"Terremoto Manabi+8                             \", \"size\": 1.0},\n",
        "{\"name\": \"Terremoto Manabi+9                             \", \"size\": 1.0}\n",
        "]\n",
        "},\n",
        "{\n",
        "\"name\": \"Transfer\",\n",
        "\"children\":[\n",
        "{\"name\": \"Traslado Batalla de Pichincha         \", \"size\": 2.0},\n",
        "{\"name\": \"Traslado Fundacion de Guayaquil       \", \"size\": 1.0},\n",
        "{\"name\": \"Traslado Fundacion de Quito           \", \"size\": 1.0},\n",
        "{\"name\": \"Traslado Independencia de Guayaquil   \", \"size\": 3.0},\n",
        "{\"name\": \"Traslado Primer Grito de Independencia\", \"size\": 2.0},\n",
        "{\"name\": \"Traslado Primer dia del ano           \", \"size\": 1.0},\n",
        "{\"name\": \"Viernes Santo                         \", \"size\": 5.0}\n",
        "]\n",
        "},\n",
        "    {\n",
        "\"name\": \"Bridge\",\n",
        "\"children\":[\n",
        "{\"name\": \"Puente Dia de Difuntos                         \", \"size\": 1.0},\n",
        "{\"name\": \"Puente Navidad                                 \", \"size\": 2.0},\n",
        "{\"name\": \"Puente Primer dia del ano                      \", \"size\": 2.0},\n",
        "]\n",
        "},\n",
        "{\n",
        "\"name\": \"Work Day\",\n",
        "\"children\":[\n",
        "    {\"name\": \"Recupero puente Navidad\", \"size\": 2.0},\n",
        "    {\"name\": \"ecupero puente primer dia del ano\", \"size\": 2.0},\n",
        "    {\"name\": \"Recupero Puente Navidad\", \"size\": 2.0},\n",
        "    {\"name\": \"Recupero Puente Primer dia del ano\", \"size\": 2.0},\n",
        "    {\"name\": \"Recupero Puente Dia de Difuntos\", \"size\": 2.0}\n",
        "]\n",
        "}\n",
        "] \n",
        "}                          "
      ],
      "metadata": {
        "id": "YNYdHdOlDL5T"
      },
      "execution_count": null,
      "outputs": []
    },
    {
      "cell_type": "code",
      "source": [
        "# dumping the holiday_events data into a json file\n",
        "with open('output.json', 'w') as outfile:  \n",
        "    json.dump(holiday_json, outfile)\n",
        "pd.read_json('output.json').head()\n",
        "\n",
        "#Embedding the html string\n",
        "html_string = \"\"\"\n",
        "<!DOCTYPE html>\n",
        "<meta charset=\"utf-8\">\n",
        "<style>\n",
        "\n",
        ".node {\n",
        "  cursor: pointer;\n",
        "}\n",
        "\n",
        ".node:hover {\n",
        "  stroke: #000;\n",
        "  stroke-width: 1.5px;\n",
        "}\n",
        "\n",
        ".node--leaf {\n",
        "  fill: white;\n",
        "}\n",
        "\n",
        ".label {\n",
        "  font: 11px \"Helvetica Neue\", Helvetica, Arial, sans-serif;\n",
        "  text-anchor: middle;\n",
        "  text-shadow: 0 1px 0 #fff, 1px 0 0 #fff, -1px 0 0 #fff, 0 -1px 0 #fff;\n",
        "}\n",
        "\n",
        ".label,\n",
        ".node--root,\n",
        ".node--leaf {\n",
        "  pointer-events: none;\n",
        "}\n",
        "\n",
        "</style>\n",
        "<svg width=\"760\" height=\"760\"></svg>\n",
        "\"\"\""
      ],
      "metadata": {
        "id": "HIXtDapVDOpV"
      },
      "execution_count": null,
      "outputs": []
    },
    {
      "cell_type": "code",
      "source": [
        "# Finally embed the D3.js to produce the circular treemap\n",
        "js_string=\"\"\"\n",
        " require.config({\n",
        "    paths: {\n",
        "        d3: \"https://d3js.org/d3.v4.min\"\n",
        "     }\n",
        " });\n",
        "\n",
        "  require([\"d3\"], function(d3) {\n",
        "\n",
        "   console.log(d3);\n",
        "\n",
        "var svg = d3.select(\"svg\"),\n",
        "    margin = 20,\n",
        "    diameter = +svg.attr(\"width\"),\n",
        "    g = svg.append(\"g\").attr(\"transform\", \"translate(\" + diameter / 2 + \",\" + diameter / 2 + \")\");\n",
        "\n",
        "var color = d3.scaleSequential(d3.interpolateViridis)\n",
        "    .domain([-4, 4]);\n",
        "\n",
        "var pack = d3.pack()\n",
        "    .size([diameter - margin, diameter - margin])\n",
        "    .padding(2);\n",
        "\n",
        "d3.json(\"output.json\", function(error, root) {\n",
        "  if (error) throw error;\n",
        "\n",
        "  root = d3.hierarchy(root)\n",
        "      .sum(function(d) { return d.size; })\n",
        "      .sort(function(a, b) { return b.value - a.value; });\n",
        "\n",
        "  var focus = root,\n",
        "      nodes = pack(root).descendants(),\n",
        "      view;\n",
        "\n",
        "  var circle = g.selectAll(\"circle\")\n",
        "    .data(nodes)\n",
        "    .enter().append(\"circle\")\n",
        "      .attr(\"class\", function(d) { return d.parent ? d.children ? \"node\" : \"node node--leaf\" : \"node node--root\"; })\n",
        "      .style(\"fill\", function(d) { return d.children ? color(d.depth) : null; })\n",
        "      .on(\"click\", function(d) { if (focus !== d) zoom(d), d3.event.stopPropagation(); });\n",
        "\n",
        "  var text = g.selectAll(\"text\")\n",
        "    .data(nodes)\n",
        "    .enter().append(\"text\")\n",
        "      .attr(\"class\", \"label\")\n",
        "      .style(\"fill-opacity\", function(d) { return d.parent === root ? 1 : 0; })\n",
        "      .style(\"display\", function(d) { return d.parent === root ? \"inline\" : \"none\"; })\n",
        "      .text(function(d) { return d.data.name; });\n",
        "\n",
        "  var node = g.selectAll(\"circle,text\");\n",
        "\n",
        "  svg\n",
        "      .style(\"background\", color(-1))\n",
        "      .on(\"click\", function() { zoom(root); });\n",
        "\n",
        "  zoomTo([root.x, root.y, root.r * 2 + margin]);\n",
        "\n",
        "  function zoom(d) {\n",
        "    var focus0 = focus; focus = d;\n",
        "\n",
        "    var transition = d3.transition()\n",
        "        .duration(d3.event.altKey ? 7500 : 750)\n",
        "        .tween(\"zoom\", function(d) {\n",
        "          var i = d3.interpolateZoom(view, [focus.x, focus.y, focus.r * 2 + margin]);\n",
        "          return function(t) { zoomTo(i(t)); };\n",
        "        });\n",
        "\n",
        "    transition.selectAll(\"text\")\n",
        "      .filter(function(d) { return d.parent === focus || this.style.display === \"inline\"; })\n",
        "        .style(\"fill-opacity\", function(d) { return d.parent === focus ? 1 : 0; })\n",
        "        .on(\"start\", function(d) { if (d.parent === focus) this.style.display = \"inline\"; })\n",
        "        .on(\"end\", function(d) { if (d.parent !== focus) this.style.display = \"none\"; });\n",
        "  }\n",
        "\n",
        "  function zoomTo(v) {\n",
        "    var k = diameter / v[2]; view = v;\n",
        "    node.attr(\"transform\", function(d) { return \"translate(\" + (d.x - v[0]) * k + \",\" + (d.y - v[1]) * k + \")\"; });\n",
        "    circle.attr(\"r\", function(d) { return d.r * k; });\n",
        "  }\n",
        "});\n",
        "  });\n",
        " \"\"\""
      ],
      "metadata": {
        "id": "7C0veFZdDSKU"
      },
      "execution_count": null,
      "outputs": []
    },
    {
      "cell_type": "markdown",
      "source": [
        "Tranforming Features for Better Clustering"
      ],
      "metadata": {
        "id": "vaGyhUedE2Tq"
      }
    },
    {
      "cell_type": "code",
      "source": [
        "h = display(HTML(html_string))\n",
        "j = IPython.display.Javascript(js_string)\n",
        "IPython.display.display_javascript(j)"
      ],
      "metadata": {
        "colab": {
          "base_uri": "https://localhost:8080/",
          "height": 781
        },
        "id": "U20leRbdDXSz",
        "outputId": "01b02a91-092b-4a13-ce29-c85151fa3e36"
      },
      "execution_count": null,
      "outputs": [
        {
          "output_type": "display_data",
          "data": {
            "text/plain": [
              "<IPython.core.display.HTML object>"
            ],
            "text/html": [
              "\n",
              "<!DOCTYPE html>\n",
              "<meta charset=\"utf-8\">\n",
              "<style>\n",
              "\n",
              ".node {\n",
              "  cursor: pointer;\n",
              "}\n",
              "\n",
              ".node:hover {\n",
              "  stroke: #000;\n",
              "  stroke-width: 1.5px;\n",
              "}\n",
              "\n",
              ".node--leaf {\n",
              "  fill: white;\n",
              "}\n",
              "\n",
              ".label {\n",
              "  font: 11px \"Helvetica Neue\", Helvetica, Arial, sans-serif;\n",
              "  text-anchor: middle;\n",
              "  text-shadow: 0 1px 0 #fff, 1px 0 0 #fff, -1px 0 0 #fff, 0 -1px 0 #fff;\n",
              "}\n",
              "\n",
              ".label,\n",
              ".node--root,\n",
              ".node--leaf {\n",
              "  pointer-events: none;\n",
              "}\n",
              "\n",
              "</style>\n",
              "<svg width=\"760\" height=\"760\"></svg>\n"
            ]
          },
          "metadata": {}
        },
        {
          "output_type": "display_data",
          "data": {
            "application/javascript": [
              "\n",
              " require.config({\n",
              "    paths: {\n",
              "        d3: \"https://d3js.org/d3.v4.min\"\n",
              "     }\n",
              " });\n",
              "\n",
              "  require([\"d3\"], function(d3) {\n",
              "\n",
              "   console.log(d3);\n",
              "\n",
              "var svg = d3.select(\"svg\"),\n",
              "    margin = 20,\n",
              "    diameter = +svg.attr(\"width\"),\n",
              "    g = svg.append(\"g\").attr(\"transform\", \"translate(\" + diameter / 2 + \",\" + diameter / 2 + \")\");\n",
              "\n",
              "var color = d3.scaleSequential(d3.interpolateViridis)\n",
              "    .domain([-4, 4]);\n",
              "\n",
              "var pack = d3.pack()\n",
              "    .size([diameter - margin, diameter - margin])\n",
              "    .padding(2);\n",
              "\n",
              "d3.json(\"output.json\", function(error, root) {\n",
              "  if (error) throw error;\n",
              "\n",
              "  root = d3.hierarchy(root)\n",
              "      .sum(function(d) { return d.size; })\n",
              "      .sort(function(a, b) { return b.value - a.value; });\n",
              "\n",
              "  var focus = root,\n",
              "      nodes = pack(root).descendants(),\n",
              "      view;\n",
              "\n",
              "  var circle = g.selectAll(\"circle\")\n",
              "    .data(nodes)\n",
              "    .enter().append(\"circle\")\n",
              "      .attr(\"class\", function(d) { return d.parent ? d.children ? \"node\" : \"node node--leaf\" : \"node node--root\"; })\n",
              "      .style(\"fill\", function(d) { return d.children ? color(d.depth) : null; })\n",
              "      .on(\"click\", function(d) { if (focus !== d) zoom(d), d3.event.stopPropagation(); });\n",
              "\n",
              "  var text = g.selectAll(\"text\")\n",
              "    .data(nodes)\n",
              "    .enter().append(\"text\")\n",
              "      .attr(\"class\", \"label\")\n",
              "      .style(\"fill-opacity\", function(d) { return d.parent === root ? 1 : 0; })\n",
              "      .style(\"display\", function(d) { return d.parent === root ? \"inline\" : \"none\"; })\n",
              "      .text(function(d) { return d.data.name; });\n",
              "\n",
              "  var node = g.selectAll(\"circle,text\");\n",
              "\n",
              "  svg\n",
              "      .style(\"background\", color(-1))\n",
              "      .on(\"click\", function() { zoom(root); });\n",
              "\n",
              "  zoomTo([root.x, root.y, root.r * 2 + margin]);\n",
              "\n",
              "  function zoom(d) {\n",
              "    var focus0 = focus; focus = d;\n",
              "\n",
              "    var transition = d3.transition()\n",
              "        .duration(d3.event.altKey ? 7500 : 750)\n",
              "        .tween(\"zoom\", function(d) {\n",
              "          var i = d3.interpolateZoom(view, [focus.x, focus.y, focus.r * 2 + margin]);\n",
              "          return function(t) { zoomTo(i(t)); };\n",
              "        });\n",
              "\n",
              "    transition.selectAll(\"text\")\n",
              "      .filter(function(d) { return d.parent === focus || this.style.display === \"inline\"; })\n",
              "        .style(\"fill-opacity\", function(d) { return d.parent === focus ? 1 : 0; })\n",
              "        .on(\"start\", function(d) { if (d.parent === focus) this.style.display = \"inline\"; })\n",
              "        .on(\"end\", function(d) { if (d.parent !== focus) this.style.display = \"none\"; });\n",
              "  }\n",
              "\n",
              "  function zoomTo(v) {\n",
              "    var k = diameter / v[2]; view = v;\n",
              "    node.attr(\"transform\", function(d) { return \"translate(\" + (d.x - v[0]) * k + \",\" + (d.y - v[1]) * k + \")\"; });\n",
              "    circle.attr(\"r\", function(d) { return d.r * k; });\n",
              "  }\n",
              "});\n",
              "  });\n",
              " "
            ]
          },
          "metadata": {}
        }
      ]
    },
    {
      "cell_type": "code",
      "source": [
        "holiday_events.type.unique()"
      ],
      "metadata": {
        "colab": {
          "base_uri": "https://localhost:8080/"
        },
        "id": "tuWGurx7E8BY",
        "outputId": "d712c31c-ebe1-4d6f-8524-dfc0e627a392"
      },
      "execution_count": null,
      "outputs": [
        {
          "output_type": "execute_result",
          "data": {
            "text/plain": [
              "array(['Holiday', 'Transfer', 'Additional', 'Bridge', 'Work Day', 'Event'],\n",
              "      dtype=object)"
            ]
          },
          "metadata": {},
          "execution_count": 20
        }
      ]
    },
    {
      "cell_type": "markdown",
      "source": [
        "**Transactions Data**"
      ],
      "metadata": {
        "id": "emlhFfDcra04"
      }
    },
    {
      "cell_type": "code",
      "source": [
        "print(transactions.head(3))\n",
        "print(\"=\"*60)\n",
        "print(\"There are {0} rows and {1} columns in the transactions data\".\n",
        "      format(transactions.shape[0], transactions.shape[1]))"
      ],
      "metadata": {
        "colab": {
          "base_uri": "https://localhost:8080/"
        },
        "id": "oCNhSHlJE_TC",
        "outputId": "0fa9d749-d495-4200-9728-0620a1d996b2"
      },
      "execution_count": null,
      "outputs": [
        {
          "output_type": "stream",
          "name": "stdout",
          "text": [
            "        date  store_nbr  transactions\n",
            "0 2013-01-01         25           770\n",
            "1 2013-01-02          1          2111\n",
            "2 2013-01-02          2          2358\n",
            "============================================================\n",
            "There are 83488 rows and 3 columns in the transactions data\n"
          ]
        }
      ]
    },
    {
      "cell_type": "code",
      "source": [
        "plt.style.use('seaborn-white')\n",
        "plt.figure(figsize=(13,11))\n",
        "plt.plot(transactions.date.values, transactions.transactions.values, color='darkblue')\n",
        "plt.axvline(x='2015-12-23',color='red',alpha=0.3)\n",
        "plt.axvline(x='2016-12-23',color='red',alpha=0.3)\n",
        "plt.axvline(x='2014-12-23',color='red',alpha=0.3)\n",
        "plt.axvline(x='2013-12-23',color='red',alpha=0.3)\n",
        "plt.axvline(x='2013-05-12',color='green',alpha=0.2, linestyle= '--')\n",
        "plt.axvline(x='2015-05-10',color='green',alpha=0.2, linestyle= '--')\n",
        "plt.axvline(x='2016-05-08',color='green',alpha=0.2, linestyle= '--')\n",
        "plt.axvline(x='2014-05-11',color='green',alpha=0.2, linestyle= '--')\n",
        "plt.axvline(x='2017-05-14',color='green',alpha=0.2, linestyle= '--')\n",
        "plt.ylim(-50, 10000)\n",
        "plt.title(\"Distribution of transactions per day from 2013 till 2017\")\n",
        "plt.ylabel('transactions per day', fontsize= 16)\n",
        "plt.xlabel('Date', fontsize= 16)\n",
        "plt.show()"
      ],
      "metadata": {
        "colab": {
          "base_uri": "https://localhost:8080/",
          "height": 659
        },
        "id": "wQUGMgcwFBlo",
        "outputId": "dc68519f-7654-4f48-a147-e9fedbfe0d04"
      },
      "execution_count": null,
      "outputs": [
        {
          "output_type": "execute_result",
          "data": {
            "text/plain": [
              "[<matplotlib.lines.Line2D at 0x7f7731cc5a10>]"
            ]
          },
          "metadata": {},
          "execution_count": 38
        },
        {
          "output_type": "display_data",
          "data": {
            "text/plain": [
              "<Figure size 936x792 with 1 Axes>"
            ],
            "image/png": "[encoded data removed]"
          },
          "metadata": {}
        }
      ]
    },
    {
      "cell_type": "markdown",
      "source": [
        "**Items Data**"
      ],
      "metadata": {
        "id": "UtRcnUm3rRRB"
      }
    },
    {
      "cell_type": "code",
      "source": [
        "items.head()"
      ],
      "metadata": {
        "colab": {
          "base_uri": "https://localhost:8080/",
          "height": 206
        },
        "id": "MH3hTi9xFEb2",
        "outputId": "b25b2862-a90f-474f-ff2c-1b03756c61c8"
      },
      "execution_count": null,
      "outputs": [
        {
          "output_type": "execute_result",
          "data": {
            "text/plain": [
              "   item_nbr        family  class  perishable\n",
              "0     96995     GROCERY I   1093           0\n",
              "1     99197     GROCERY I   1067           0\n",
              "2    103501      CLEANING   3008           0\n",
              "3    103520     GROCERY I   1028           0\n",
              "4    103665  BREAD/BAKERY   2712           1"
            ],
            "text/html": [
              "\n",
              "  <div id=\"df-c74e2bb0-7dbe-4d49-b956-1ea1043576ad\">\n",
              "    <div class=\"colab-df-container\">\n",
              "      <div>\n",
              "<style scoped>\n",
              "    .dataframe tbody tr th:only-of-type {\n",
              "        vertical-align: middle;\n",
              "    }\n",
              "\n",
              "    .dataframe tbody tr th {\n",
              "        vertical-align: top;\n",
              "    }\n",
              "\n",
              "    .dataframe thead th {\n",
              "        text-align: right;\n",
              "    }\n",
              "</style>\n",
              "<table border=\"1\" class=\"dataframe\">\n",
              "  <thead>\n",
              "    <tr style=\"text-align: right;\">\n",
              "      <th></th>\n",
              "      <th>item_nbr</th>\n",
              "      <th>family</th>\n",
              "      <th>class</th>\n",
              "      <th>perishable</th>\n",
              "    </tr>\n",
              "  </thead>\n",
              "  <tbody>\n",
              "    <tr>\n",
              "      <th>0</th>\n",
              "      <td>96995</td>\n",
              "      <td>GROCERY I</td>\n",
              "      <td>1093</td>\n",
              "      <td>0</td>\n",
              "    </tr>\n",
              "    <tr>\n",
              "      <th>1</th>\n",
              "      <td>99197</td>\n",
              "      <td>GROCERY I</td>\n",
              "      <td>1067</td>\n",
              "      <td>0</td>\n",
              "    </tr>\n",
              "    <tr>\n",
              "      <th>2</th>\n",
              "      <td>103501</td>\n",
              "      <td>CLEANING</td>\n",
              "      <td>3008</td>\n",
              "      <td>0</td>\n",
              "    </tr>\n",
              "    <tr>\n",
              "      <th>3</th>\n",
              "      <td>103520</td>\n",
              "      <td>GROCERY I</td>\n",
              "      <td>1028</td>\n",
              "      <td>0</td>\n",
              "    </tr>\n",
              "    <tr>\n",
              "      <th>4</th>\n",
              "      <td>103665</td>\n",
              "      <td>BREAD/BAKERY</td>\n",
              "      <td>2712</td>\n",
              "      <td>1</td>\n",
              "    </tr>\n",
              "  </tbody>\n",
              "</table>\n",
              "</div>\n",
              "      <button class=\"colab-df-convert\" onclick=\"convertToInteractive('df-c74e2bb0-7dbe-4d49-b956-1ea1043576ad')\"\n",
              "              title=\"Convert this dataframe to an interactive table.\"\n",
              "              style=\"display:none;\">\n",
              "        \n",
              "  <svg xmlns=\"http://www.w3.org/2000/svg\" height=\"24px\"viewBox=\"0 0 24 24\"\n",
              "       width=\"24px\">\n",
              "    <path d=\"M0 0h24v24H0V0z\" fill=\"none\"/>\n",
              "    <path d=\"M18.56 5.44l.94 2.06.94-2.06 2.06-.94-2.06-.94-.94-2.06-.94 2.06-2.06.94zm-11 1L8.5 8.5l.94-2.06 2.06-.94-2.06-.94L8.5 2.5l-.94 2.06-2.06.94zm10 10l.94 2.06.94-2.06 2.06-.94-2.06-.94-.94-2.06-.94 2.06-2.06.94z\"/><path d=\"M17.41 7.96l-1.37-1.37c-.4-.4-.92-.59-1.43-.59-.52 0-1.04.2-1.43.59L10.3 9.45l-7.72 7.72c-.78.78-.78 2.05 0 2.83L4 21.41c.39.39.9.59 1.41.59.51 0 1.02-.2 1.41-.59l7.78-7.78 2.81-2.81c.8-.78.8-2.07 0-2.86zM5.41 20L4 18.59l7.72-7.72 1.47 1.35L5.41 20z\"/>\n",
              "  </svg>\n",
              "      </button>\n",
              "      \n",
              "  <style>\n",
              "    .colab-df-container {\n",
              "      display:flex;\n",
              "      flex-wrap:wrap;\n",
              "      gap: 12px;\n",
              "    }\n",
              "\n",
              "    .colab-df-convert {\n",
              "      background-color: #E8F0FE;\n",
              "      border: none;\n",
              "      border-radius: 50%;\n",
              "      cursor: pointer;\n",
              "      display: none;\n",
              "      fill: #1967D2;\n",
              "      height: 32px;\n",
              "      padding: 0 0 0 0;\n",
              "      width: 32px;\n",
              "    }\n",
              "\n",
              "    .colab-df-convert:hover {\n",
              "      background-color: #E2EBFA;\n",
              "      box-shadow: 0px 1px 2px rgba(60, 64, 67, 0.3), 0px 1px 3px 1px rgba(60, 64, 67, 0.15);\n",
              "      fill: #174EA6;\n",
              "    }\n",
              "\n",
              "    [theme=dark] .colab-df-convert {\n",
              "      background-color: #3B4455;\n",
              "      fill: #D2E3FC;\n",
              "    }\n",
              "\n",
              "    [theme=dark] .colab-df-convert:hover {\n",
              "      background-color: #434B5C;\n",
              "      box-shadow: 0px 1px 3px 1px rgba(0, 0, 0, 0.15);\n",
              "      filter: drop-shadow(0px 1px 2px rgba(0, 0, 0, 0.3));\n",
              "      fill: #FFFFFF;\n",
              "    }\n",
              "  </style>\n",
              "\n",
              "      <script>\n",
              "        const buttonEl =\n",
              "          document.querySelector('#df-c74e2bb0-7dbe-4d49-b956-1ea1043576ad button.colab-df-convert');\n",
              "        buttonEl.style.display =\n",
              "          google.colab.kernel.accessAllowed ? 'block' : 'none';\n",
              "\n",
              "        async function convertToInteractive(key) {\n",
              "          const element = document.querySelector('#df-c74e2bb0-7dbe-4d49-b956-1ea1043576ad');\n",
              "          const dataTable =\n",
              "            await google.colab.kernel.invokeFunction('convertToInteractive',\n",
              "                                                     [key], {});\n",
              "          if (!dataTable) return;\n",
              "\n",
              "          const docLinkHtml = 'Like what you see? Visit the ' +\n",
              "            '<a target=\"_blank\" href=https://colab.research.google.com/notebooks/data_table.ipynb>data table notebook</a>'\n",
              "            + ' to learn more about interactive tables.';\n",
              "          element.innerHTML = '';\n",
              "          dataTable['output_type'] = 'display_data';\n",
              "          await google.colab.output.renderOutput(dataTable, element);\n",
              "          const docLink = document.createElement('div');\n",
              "          docLink.innerHTML = docLinkHtml;\n",
              "          element.appendChild(docLink);\n",
              "        }\n",
              "      </script>\n",
              "    </div>\n",
              "  </div>\n",
              "  "
            ]
          },
          "metadata": {},
          "execution_count": 26
        }
      ]
    },
    {
      "cell_type": "code",
      "source": [
        "x, y = (list(x) for x in zip(*sorted(zip(items.family.value_counts().index, \n",
        "                                         items.family.value_counts().values), \n",
        "                                        reverse = False)))\n",
        "trace2 = go.Bar(\n",
        "    y=items.family.value_counts().values,\n",
        "    x=items.family.value_counts().index,\n",
        "    marker=dict(\n",
        "        color=items.family.value_counts().values,\n",
        "        colorscale = 'Portland',\n",
        "        reversescale = False\n",
        "    ),\n",
        "    orientation='v',\n",
        ")\n",
        "\n",
        "layout = dict(\n",
        "    title='Counts of items per family category',\n",
        "     width = 800, height = 800,\n",
        "    yaxis=dict(\n",
        "        showgrid=False,\n",
        "        showline=False,\n",
        "        showticklabels=True,\n",
        "#         domain=[0, 0.85],\n",
        "    ))\n",
        "\n",
        "fig1 = go.Figure(data=[trace2])\n",
        "fig1['layout'].update(layout)\n",
        "py.iplot(fig1, filename='plots')"
      ],
      "metadata": {
        "colab": {
          "base_uri": "https://localhost:8080/",
          "height": 817
        },
        "id": "4JoemtPhFGsP",
        "outputId": "dcb4980b-2f6c-465a-836e-645c23cbb550"
      },
      "execution_count": null,
      "outputs": [
        {
          "output_type": "display_data",
          "data": {
            "application/vnd.plotly.v1+json": {
              "data": [
                {
                  "marker": {
                    "color": [
                      1334,
                      613,
                      446,
                      306,
                      242,
                      153,
                      134,
                      108,
                      91,
                      84,
                      77,
                      73,
                      55,
                      54,
                      45,
                      41,
                      31,
                      26,
                      26,
                      21,
                      20,
                      20,
                      19,
                      17,
                      15,
                      14,
                      14,
                      8,
                      6,
                      4,
                      1,
                      1,
                      1
                    ],
                    "colorscale": [
                      [
                        0,
                        "rgb(12,51,131)"
                      ],
                      [
                        0.25,
                        "rgb(10,136,186)"
                      ],
                      [
                        0.5,
                        "rgb(242,211,56)"
                      ],
                      [
                        0.75,
                        "rgb(242,143,56)"
                      ],
                      [
                        1,
                        "rgb(217,30,30)"
                      ]
                    ],
                    "reversescale": false
                  },
                  "orientation": "v",
                  "x": [
                    "GROCERY I",
                    "BEVERAGES",
                    "CLEANING",
                    "PRODUCE",
                    "DAIRY",
                    "PERSONAL CARE",
                    "BREAD/BAKERY",
                    "HOME CARE",
                    "DELI",
                    "MEATS",
                    "HOME AND KITCHEN I",
                    "LIQUOR,WINE,BEER",
                    "FROZEN FOODS",
                    "POULTRY",
                    "HOME AND KITCHEN II",
                    "EGGS",
                    "CELEBRATION",
                    "LAWN AND GARDEN",
                    "PREPARED FOODS",
                    "LADIESWEAR",
                    "AUTOMOTIVE",
                    "LINGERIE",
                    "BEAUTY",
                    "PLAYERS AND ELECTRONICS",
                    "SCHOOL AND OFFICE SUPPLIES",
                    "GROCERY II",
                    "PET SUPPLIES",
                    "SEAFOOD",
                    "MAGAZINES",
                    "HARDWARE",
                    "HOME APPLIANCES",
                    "BABY CARE",
                    "BOOKS"
                  ],
                  "y": [
                    1334,
                    613,
                    446,
                    306,
                    242,
                    153,
                    134,
                    108,
                    91,
                    84,
                    77,
                    73,
                    55,
                    54,
                    45,
                    41,
                    31,
                    26,
                    26,
                    21,
                    20,
                    20,
                    19,
                    17,
                    15,
                    14,
                    14,
                    8,
                    6,
                    4,
                    1,
                    1,
                    1
                  ],
                  "type": "bar"
                }
              ],
              "layout": {
                "height": 800,
                "template": {
                  "data": {
                    "barpolar": [
                      {
                        "marker": {
                          "line": {
                            "color": "#E5ECF6",
                            "width": 0.5
                          },
                          "pattern": {
                            "fillmode": "overlay",
                            "size": 10,
                            "solidity": 0.2
                          }
                        },
                        "type": "barpolar"
                      }
                    ],
                    "bar": [
                      {
                        "error_x": {
                          "color": "#2a3f5f"
                        },
                        "error_y": {
                          "color": "#2a3f5f"
                        },
                        "marker": {
                          "line": {
                            "color": "#E5ECF6",
                            "width": 0.5
                          },
                          "pattern": {
                            "fillmode": "overlay",
                            "size": 10,
                            "solidity": 0.2
                          }
                        },
                        "type": "bar"
                      }
                    ],
                    "carpet": [
                      {
                        "aaxis": {
                          "endlinecolor": "#2a3f5f",
                          "gridcolor": "white",
                          "linecolor": "white",
                          "minorgridcolor": "white",
                          "startlinecolor": "#2a3f5f"
                        },
                        "baxis": {
                          "endlinecolor": "#2a3f5f",
                          "gridcolor": "white",
                          "linecolor": "white",
                          "minorgridcolor": "white",
                          "startlinecolor": "#2a3f5f"
                        },
                        "type": "carpet"
                      }
                    ],
                    "choropleth": [
                      {
                        "colorbar": {
                          "outlinewidth": 0,
                          "ticks": ""
                        },
                        "type": "choropleth"
                      }
                    ],
                    "contourcarpet": [
                      {
                        "colorbar": {
                          "outlinewidth": 0,
                          "ticks": ""
                        },
                        "type": "contourcarpet"
                      }
                    ],
                    "contour": [
                      {
                        "colorbar": {
                          "outlinewidth": 0,
                          "ticks": ""
                        },
                        "colorscale": [
                          [
                            0,
                            "#0d0887"
                          ],
                          [
                            0.1111111111111111,
                            "#46039f"
                          ],
                          [
                            0.2222222222222222,
                            "#7201a8"
                          ],
                          [
                            0.3333333333333333,
                            "#9c179e"
                          ],
                          [
                            0.4444444444444444,
                            "#bd3786"
                          ],
                          [
                            0.5555555555555556,
                            "#d8576b"
                          ],
                          [
                            0.6666666666666666,
                            "#ed7953"
                          ],
                          [
                            0.7777777777777778,
                            "#fb9f3a"
                          ],
                          [
                            0.8888888888888888,
                            "#fdca26"
                          ],
                          [
                            1,
                            "#f0f921"
                          ]
                        ],
                        "type": "contour"
                      }
                    ],
                    "heatmapgl": [
                      {
                        "colorbar": {
                          "outlinewidth": 0,
                          "ticks": ""
                        },
                        "colorscale": [
                          [
                            0,
                            "#0d0887"
                          ],
                          [
                            0.1111111111111111,
                            "#46039f"
                          ],
                          [
                            0.2222222222222222,
                            "#7201a8"
                          ],
                          [
                            0.3333333333333333,
                            "#9c179e"
                          ],
                          [
                            0.4444444444444444,
                            "#bd3786"
                          ],
                          [
                            0.5555555555555556,
                            "#d8576b"
                          ],
                          [
                            0.6666666666666666,
                            "#ed7953"
                          ],
                          [
                            0.7777777777777778,
                            "#fb9f3a"
                          ],
                          [
                            0.8888888888888888,
                            "#fdca26"
                          ],
                          [
                            1,
                            "#f0f921"
                          ]
                        ],
                        "type": "heatmapgl"
                      }
                    ],
                    "heatmap": [
                      {
                        "colorbar": {
                          "outlinewidth": 0,
                          "ticks": ""
                        },
                        "colorscale": [
                          [
                            0,
                            "#0d0887"
                          ],
                          [
                            0.1111111111111111,
                            "#46039f"
                          ],
                          [
                            0.2222222222222222,
                            "#7201a8"
                          ],
                          [
                            0.3333333333333333,
                            "#9c179e"
                          ],
                          [
                            0.4444444444444444,
                            "#bd3786"
                          ],
                          [
                            0.5555555555555556,
                            "#d8576b"
                          ],
                          [
                            0.6666666666666666,
                            "#ed7953"
                          ],
                          [
                            0.7777777777777778,
                            "#fb9f3a"
                          ],
                          [
                            0.8888888888888888,
                            "#fdca26"
                          ],
                          [
                            1,
                            "#f0f921"
                          ]
                        ],
                        "type": "heatmap"
                      }
                    ],
                    "histogram2dcontour": [
                      {
                        "colorbar": {
                          "outlinewidth": 0,
                          "ticks": ""
                        },
                        "colorscale": [
                          [
                            0,
                            "#0d0887"
                          ],
                          [
                            0.1111111111111111,
                            "#46039f"
                          ],
                          [
                            0.2222222222222222,
                            "#7201a8"
                          ],
                          [
                            0.3333333333333333,
                            "#9c179e"
                          ],
                          [
                            0.4444444444444444,
                            "#bd3786"
                          ],
                          [
                            0.5555555555555556,
                            "#d8576b"
                          ],
                          [
                            0.6666666666666666,
                            "#ed7953"
                          ],
                          [
                            0.7777777777777778,
                            "#fb9f3a"
                          ],
                          [
                            0.8888888888888888,
                            "#fdca26"
                          ],
                          [
                            1,
                            "#f0f921"
                          ]
                        ],
                        "type": "histogram2dcontour"
                      }
                    ],
                    "histogram2d": [
                      {
                        "colorbar": {
                          "outlinewidth": 0,
                          "ticks": ""
                        },
                        "colorscale": [
                          [
                            0,
                            "#0d0887"
                          ],
                          [
                            0.1111111111111111,
                            "#46039f"
                          ],
                          [
                            0.2222222222222222,
                            "#7201a8"
                          ],
                          [
                            0.3333333333333333,
                            "#9c179e"
                          ],
                          [
                            0.4444444444444444,
                            "#bd3786"
                          ],
                          [
                            0.5555555555555556,
                            "#d8576b"
                          ],
                          [
                            0.6666666666666666,
                            "#ed7953"
                          ],
                          [
                            0.7777777777777778,
                            "#fb9f3a"
                          ],
                          [
                            0.8888888888888888,
                            "#fdca26"
                          ],
                          [
                            1,
                            "#f0f921"
                          ]
                        ],
                        "type": "histogram2d"
                      }
                    ],
                    "histogram": [
                      {
                        "marker": {
                          "pattern": {
                            "fillmode": "overlay",
                            "size": 10,
                            "solidity": 0.2
                          }
                        },
                        "type": "histogram"
                      }
                    ],
                    "mesh3d": [
                      {
                        "colorbar": {
                          "outlinewidth": 0,
                          "ticks": ""
                        },
                        "type": "mesh3d"
                      }
                    ],
                    "parcoords": [
                      {
                        "line": {
                          "colorbar": {
                            "outlinewidth": 0,
                            "ticks": ""
                          }
                        },
                        "type": "parcoords"
                      }
                    ],
                    "pie": [
                      {
                        "automargin": true,
                        "type": "pie"
                      }
                    ],
                    "scatter3d": [
                      {
                        "line": {
                          "colorbar": {
                            "outlinewidth": 0,
                            "ticks": ""
                          }
                        },
                        "marker": {
                          "colorbar": {
                            "outlinewidth": 0,
                            "ticks": ""
                          }
                        },
                        "type": "scatter3d"
                      }
                    ],
                    "scattercarpet": [
                      {
                        "marker": {
                          "colorbar": {
                            "outlinewidth": 0,
                            "ticks": ""
                          }
                        },
                        "type": "scattercarpet"
                      }
                    ],
                    "scattergeo": [
                      {
                        "marker": {
                          "colorbar": {
                            "outlinewidth": 0,
                            "ticks": ""
                          }
                        },
                        "type": "scattergeo"
                      }
                    ],
                    "scattergl": [
                      {
                        "marker": {
                          "colorbar": {
                            "outlinewidth": 0,
                            "ticks": ""
                          }
                        },
                        "type": "scattergl"
                      }
                    ],
                    "scattermapbox": [
                      {
                        "marker": {
                          "colorbar": {
                            "outlinewidth": 0,
                            "ticks": ""
                          }
                        },
                        "type": "scattermapbox"
                      }
                    ],
                    "scatterpolargl": [
                      {
                        "marker": {
                          "colorbar": {
                            "outlinewidth": 0,
                            "ticks": ""
                          }
                        },
                        "type": "scatterpolargl"
                      }
                    ],
                    "scatterpolar": [
                      {
                        "marker": {
                          "colorbar": {
                            "outlinewidth": 0,
                            "ticks": ""
                          }
                        },
                        "type": "scatterpolar"
                      }
                    ],
                    "scatter": [
                      {
                        "marker": {
                          "colorbar": {
                            "outlinewidth": 0,
                            "ticks": ""
                          }
                        },
                        "type": "scatter"
                      }
                    ],
                    "scatterternary": [
                      {
                        "marker": {
                          "colorbar": {
                            "outlinewidth": 0,
                            "ticks": ""
                          }
                        },
                        "type": "scatterternary"
                      }
                    ],
                    "surface": [
                      {
                        "colorbar": {
                          "outlinewidth": 0,
                          "ticks": ""
                        },
                        "colorscale": [
                          [
                            0,
                            "#0d0887"
                          ],
                          [
                            0.1111111111111111,
                            "#46039f"
                          ],
                          [
                            0.2222222222222222,
                            "#7201a8"
                          ],
                          [
                            0.3333333333333333,
                            "#9c179e"
                          ],
                          [
                            0.4444444444444444,
                            "#bd3786"
                          ],
                          [
                            0.5555555555555556,
                            "#d8576b"
                          ],
                          [
                            0.6666666666666666,
                            "#ed7953"
                          ],
                          [
                            0.7777777777777778,
                            "#fb9f3a"
                          ],
                          [
                            0.8888888888888888,
                            "#fdca26"
                          ],
                          [
                            1,
                            "#f0f921"
                          ]
                        ],
                        "type": "surface"
                      }
                    ],
                    "table": [
                      {
                        "cells": {
                          "fill": {
                            "color": "#EBF0F8"
                          },
                          "line": {
                            "color": "white"
                          }
                        },
                        "header": {
                          "fill": {
                            "color": "#C8D4E3"
                          },
                          "line": {
                            "color": "white"
                          }
                        },
                        "type": "table"
                      }
                    ]
                  },
                  "layout": {
                    "annotationdefaults": {
                      "arrowcolor": "#2a3f5f",
                      "arrowhead": 0,
                      "arrowwidth": 1
                    },
                    "autotypenumbers": "strict",
                    "coloraxis": {
                      "colorbar": {
                        "outlinewidth": 0,
                        "ticks": ""
                      }
                    },
                    "colorscale": {
                      "diverging": [
                        [
                          0,
                          "#8e0152"
                        ],
                        [
                          0.1,
                          "#c51b7d"
                        ],
                        [
                          0.2,
                          "#de77ae"
                        ],
                        [
                          0.3,
                          "#f1b6da"
                        ],
                        [
                          0.4,
                          "#fde0ef"
                        ],
                        [
                          0.5,
                          "#f7f7f7"
                        ],
                        [
                          0.6,
                          "#e6f5d0"
                        ],
                        [
                          0.7,
                          "#b8e186"
                        ],
                        [
                          0.8,
                          "#7fbc41"
                        ],
                        [
                          0.9,
                          "#4d9221"
                        ],
                        [
                          1,
                          "#276419"
                        ]
                      ],
                      "sequential": [
                        [
                          0,
                          "#0d0887"
                        ],
                        [
                          0.1111111111111111,
                          "#46039f"
                        ],
                        [
                          0.2222222222222222,
                          "#7201a8"
                        ],
                        [
                          0.3333333333333333,
                          "#9c179e"
                        ],
                        [
                          0.4444444444444444,
                          "#bd3786"
                        ],
                        [
                          0.5555555555555556,
                          "#d8576b"
                        ],
                        [
                          0.6666666666666666,
                          "#ed7953"
                        ],
                        [
                          0.7777777777777778,
                          "#fb9f3a"
                        ],
                        [
                          0.8888888888888888,
                          "#fdca26"
                        ],
                        [
                          1,
                          "#f0f921"
                        ]
                      ],
                      "sequentialminus": [
                        [
                          0,
                          "#0d0887"
                        ],
                        [
                          0.1111111111111111,
                          "#46039f"
                        ],
                        [
                          0.2222222222222222,
                          "#7201a8"
                        ],
                        [
                          0.3333333333333333,
                          "#9c179e"
                        ],
                        [
                          0.4444444444444444,
                          "#bd3786"
                        ],
                        [
                          0.5555555555555556,
                          "#d8576b"
                        ],
                        [
                          0.6666666666666666,
                          "#ed7953"
                        ],
                        [
                          0.7777777777777778,
                          "#fb9f3a"
                        ],
                        [
                          0.8888888888888888,
                          "#fdca26"
                        ],
                        [
                          1,
                          "#f0f921"
                        ]
                      ]
                    },
                    "colorway": [
                      "#636efa",
                      "#EF553B",
                      "#00cc96",
                      "#ab63fa",
                      "#FFA15A",
                      "#19d3f3",
                      "#FF6692",
                      "#B6E880",
                      "#FF97FF",
                      "#FECB52"
                    ],
                    "font": {
                      "color": "#2a3f5f"
                    },
                    "geo": {
                      "bgcolor": "white",
                      "lakecolor": "white",
                      "landcolor": "#E5ECF6",
                      "showlakes": true,
                      "showland": true,
                      "subunitcolor": "white"
                    },
                    "hoverlabel": {
                      "align": "left"
                    },
                    "hovermode": "closest",
                    "mapbox": {
                      "style": "light"
                    },
                    "paper_bgcolor": "white",
                    "plot_bgcolor": "#E5ECF6",
                    "polar": {
                      "angularaxis": {
                        "gridcolor": "white",
                        "linecolor": "white",
                        "ticks": ""
                      },
                      "bgcolor": "#E5ECF6",
                      "radialaxis": {
                        "gridcolor": "white",
                        "linecolor": "white",
                        "ticks": ""
                      }
                    },
                    "scene": {
                      "xaxis": {
                        "backgroundcolor": "#E5ECF6",
                        "gridcolor": "white",
                        "gridwidth": 2,
                        "linecolor": "white",
                        "showbackground": true,
                        "ticks": "",
                        "zerolinecolor": "white"
                      },
                      "yaxis": {
                        "backgroundcolor": "#E5ECF6",
                        "gridcolor": "white",
                        "gridwidth": 2,
                        "linecolor": "white",
                        "showbackground": true,
                        "ticks": "",
                        "zerolinecolor": "white"
                      },
                      "zaxis": {
                        "backgroundcolor": "#E5ECF6",
                        "gridcolor": "white",
                        "gridwidth": 2,
                        "linecolor": "white",
                        "showbackground": true,
                        "ticks": "",
                        "zerolinecolor": "white"
                      }
                    },
                    "shapedefaults": {
                      "line": {
                        "color": "#2a3f5f"
                      }
                    },
                    "ternary": {
                      "aaxis": {
                        "gridcolor": "white",
                        "linecolor": "white",
                        "ticks": ""
                      },
                      "baxis": {
                        "gridcolor": "white",
                        "linecolor": "white",
                        "ticks": ""
                      },
                      "bgcolor": "#E5ECF6",
                      "caxis": {
                        "gridcolor": "white",
                        "linecolor": "white",
                        "ticks": ""
                      }
                    },
                    "title": {
                      "x": 0.05
                    },
                    "xaxis": {
                      "automargin": true,
                      "gridcolor": "white",
                      "linecolor": "white",
                      "ticks": "",
                      "title": {
                        "standoff": 15
                      },
                      "zerolinecolor": "white",
                      "zerolinewidth": 2
                    },
                    "yaxis": {
                      "automargin": true,
                      "gridcolor": "white",
                      "linecolor": "white",
                      "ticks": "",
                      "title": {
                        "standoff": 15
                      },
                      "zerolinecolor": "white",
                      "zerolinewidth": 2
                    }
                  }
                },
                "title": {
                  "text": "Counts of items per family category"
                },
                "width": 800,
                "yaxis": {
                  "showgrid": false,
                  "showline": false,
                  "showticklabels": true
                }
              },
              "config": {
                "showLink": false,
                "linkText": "Export to plot.ly",
                "plotlyServerURL": "https://plot.ly"
              }
            },
            "text/html": [
              "<div>                            <div id=\"8dc66cda-c401-4990-8768-1a24a49b4e85\" class=\"plotly-graph-div\" style=\"height:800px; width:800px;\"></div>            <script type=\"text/javascript\">                require([\"plotly\"], function(Plotly) {                    window.PLOTLYENV=window.PLOTLYENV || {};                                    if (document.getElementById(\"8dc66cda-c401-4990-8768-1a24a49b4e85\")) {                    Plotly.newPlot(                        \"8dc66cda-c401-4990-8768-1a24a49b4e85\",                        [{\"marker\":{\"color\":[1334,613,446,306,242,153,134,108,91,84,77,73,55,54,45,41,31,26,26,21,20,20,19,17,15,14,14,8,6,4,1,1,1],\"colorscale\":[[0.0,\"rgb(12,51,131)\"],[0.25,\"rgb(10,136,186)\"],[0.5,\"rgb(242,211,56)\"],[0.75,\"rgb(242,143,56)\"],[1.0,\"rgb(217,30,30)\"]],\"reversescale\":false},\"orientation\":\"v\",\"x\":[\"GROCERY I\",\"BEVERAGES\",\"CLEANING\",\"PRODUCE\",\"DAIRY\",\"PERSONAL CARE\",\"BREAD/BAKERY\",\"HOME CARE\",\"DELI\",\"MEATS\",\"HOME AND KITCHEN I\",\"LIQUOR,WINE,BEER\",\"FROZEN FOODS\",\"POULTRY\",\"HOME AND KITCHEN II\",\"EGGS\",\"CELEBRATION\",\"LAWN AND GARDEN\",\"PREPARED FOODS\",\"LADIESWEAR\",\"AUTOMOTIVE\",\"LINGERIE\",\"BEAUTY\",\"PLAYERS AND ELECTRONICS\",\"SCHOOL AND OFFICE SUPPLIES\",\"GROCERY II\",\"PET SUPPLIES\",\"SEAFOOD\",\"MAGAZINES\",\"HARDWARE\",\"HOME APPLIANCES\",\"BABY CARE\",\"BOOKS\"],\"y\":[1334,613,446,306,242,153,134,108,91,84,77,73,55,54,45,41,31,26,26,21,20,20,19,17,15,14,14,8,6,4,1,1,1],\"type\":\"bar\"}],                        {\"height\":800,\"template\":{\"data\":{\"barpolar\":[{\"marker\":{\"line\":{\"color\":\"#E5ECF6\",\"width\":0.5},\"pattern\":{\"fillmode\":\"overlay\",\"size\":10,\"solidity\":0.2}},\"type\":\"barpolar\"}],\"bar\":[{\"error_x\":{\"color\":\"#2a3f5f\"},\"error_y\":{\"color\":\"#2a3f5f\"},\"marker\":{\"line\":{\"color\":\"#E5ECF6\",\"width\":0.5},\"pattern\":{\"fillmode\":\"overlay\",\"size\":10,\"solidity\":0.2}},\"type\":\"bar\"}],\"carpet\":[{\"aaxis\":{\"endlinecolor\":\"#2a3f5f\",\"gridcolor\":\"white\",\"linecolor\":\"white\",\"minorgridcolor\":\"white\",\"startlinecolor\":\"#2a3f5f\"},\"baxis\":{\"endlinecolor\":\"#2a3f5f\",\"gridcolor\":\"white\",\"linecolor\":\"white\",\"minorgridcolor\":\"white\",\"startlinecolor\":\"#2a3f5f\"},\"type\":\"carpet\"}],\"choropleth\":[{\"colorbar\":{\"outlinewidth\":0,\"ticks\":\"\"},\"type\":\"choropleth\"}],\"contourcarpet\":[{\"colorbar\":{\"outlinewidth\":0,\"ticks\":\"\"},\"type\":\"contourcarpet\"}],\"contour\":[{\"colorbar\":{\"outlinewidth\":0,\"ticks\":\"\"},\"colorscale\":[[0.0,\"#0d0887\"],[0.1111111111111111,\"#46039f\"],[0.2222222222222222,\"#7201a8\"],[0.3333333333333333,\"#9c179e\"],[0.4444444444444444,\"#bd3786\"],[0.5555555555555556,\"#d8576b\"],[0.6666666666666666,\"#ed7953\"],[0.7777777777777778,\"#fb9f3a\"],[0.8888888888888888,\"#fdca26\"],[1.0,\"#f0f921\"]],\"type\":\"contour\"}],\"heatmapgl\":[{\"colorbar\":{\"outlinewidth\":0,\"ticks\":\"\"},\"colorscale\":[[0.0,\"#0d0887\"],[0.1111111111111111,\"#46039f\"],[0.2222222222222222,\"#7201a8\"],[0.3333333333333333,\"#9c179e\"],[0.4444444444444444,\"#bd3786\"],[0.5555555555555556,\"#d8576b\"],[0.6666666666666666,\"#ed7953\"],[0.7777777777777778,\"#fb9f3a\"],[0.8888888888888888,\"#fdca26\"],[1.0,\"#f0f921\"]],\"type\":\"heatmapgl\"}],\"heatmap\":[{\"colorbar\":{\"outlinewidth\":0,\"ticks\":\"\"},\"colorscale\":[[0.0,\"#0d0887\"],[0.1111111111111111,\"#46039f\"],[0.2222222222222222,\"#7201a8\"],[0.3333333333333333,\"#9c179e\"],[0.4444444444444444,\"#bd3786\"],[0.5555555555555556,\"#d8576b\"],[0.6666666666666666,\"#ed7953\"],[0.7777777777777778,\"#fb9f3a\"],[0.8888888888888888,\"#fdca26\"],[1.0,\"#f0f921\"]],\"type\":\"heatmap\"}],\"histogram2dcontour\":[{\"colorbar\":{\"outlinewidth\":0,\"ticks\":\"\"},\"colorscale\":[[0.0,\"#0d0887\"],[0.1111111111111111,\"#46039f\"],[0.2222222222222222,\"#7201a8\"],[0.3333333333333333,\"#9c179e\"],[0.4444444444444444,\"#bd3786\"],[0.5555555555555556,\"#d8576b\"],[0.6666666666666666,\"#ed7953\"],[0.7777777777777778,\"#fb9f3a\"],[0.8888888888888888,\"#fdca26\"],[1.0,\"#f0f921\"]],\"type\":\"histogram2dcontour\"}],\"histogram2d\":[{\"colorbar\":{\"outlinewidth\":0,\"ticks\":\"\"},\"colorscale\":[[0.0,\"#0d0887\"],[0.1111111111111111,\"#46039f\"],[0.2222222222222222,\"#7201a8\"],[0.3333333333333333,\"#9c179e\"],[0.4444444444444444,\"#bd3786\"],[0.5555555555555556,\"#d8576b\"],[0.6666666666666666,\"#ed7953\"],[0.7777777777777778,\"#fb9f3a\"],[0.8888888888888888,\"#fdca26\"],[1.0,\"#f0f921\"]],\"type\":\"histogram2d\"}],\"histogram\":[{\"marker\":{\"pattern\":{\"fillmode\":\"overlay\",\"size\":10,\"solidity\":0.2}},\"type\":\"histogram\"}],\"mesh3d\":[{\"colorbar\":{\"outlinewidth\":0,\"ticks\":\"\"},\"type\":\"mesh3d\"}],\"parcoords\":[{\"line\":{\"colorbar\":{\"outlinewidth\":0,\"ticks\":\"\"}},\"type\":\"parcoords\"}],\"pie\":[{\"automargin\":true,\"type\":\"pie\"}],\"scatter3d\":[{\"line\":{\"colorbar\":{\"outlinewidth\":0,\"ticks\":\"\"}},\"marker\":{\"colorbar\":{\"outlinewidth\":0,\"ticks\":\"\"}},\"type\":\"scatter3d\"}],\"scattercarpet\":[{\"marker\":{\"colorbar\":{\"outlinewidth\":0,\"ticks\":\"\"}},\"type\":\"scattercarpet\"}],\"scattergeo\":[{\"marker\":{\"colorbar\":{\"outlinewidth\":0,\"ticks\":\"\"}},\"type\":\"scattergeo\"}],\"scattergl\":[{\"marker\":{\"colorbar\":{\"outlinewidth\":0,\"ticks\":\"\"}},\"type\":\"scattergl\"}],\"scattermapbox\":[{\"marker\":{\"colorbar\":{\"outlinewidth\":0,\"ticks\":\"\"}},\"type\":\"scattermapbox\"}],\"scatterpolargl\":[{\"marker\":{\"colorbar\":{\"outlinewidth\":0,\"ticks\":\"\"}},\"type\":\"scatterpolargl\"}],\"scatterpolar\":[{\"marker\":{\"colorbar\":{\"outlinewidth\":0,\"ticks\":\"\"}},\"type\":\"scatterpolar\"}],\"scatter\":[{\"marker\":{\"colorbar\":{\"outlinewidth\":0,\"ticks\":\"\"}},\"type\":\"scatter\"}],\"scatterternary\":[{\"marker\":{\"colorbar\":{\"outlinewidth\":0,\"ticks\":\"\"}},\"type\":\"scatterternary\"}],\"surface\":[{\"colorbar\":{\"outlinewidth\":0,\"ticks\":\"\"},\"colorscale\":[[0.0,\"#0d0887\"],[0.1111111111111111,\"#46039f\"],[0.2222222222222222,\"#7201a8\"],[0.3333333333333333,\"#9c179e\"],[0.4444444444444444,\"#bd3786\"],[0.5555555555555556,\"#d8576b\"],[0.6666666666666666,\"#ed7953\"],[0.7777777777777778,\"#fb9f3a\"],[0.8888888888888888,\"#fdca26\"],[1.0,\"#f0f921\"]],\"type\":\"surface\"}],\"table\":[{\"cells\":{\"fill\":{\"color\":\"#EBF0F8\"},\"line\":{\"color\":\"white\"}},\"header\":{\"fill\":{\"color\":\"#C8D4E3\"},\"line\":{\"color\":\"white\"}},\"type\":\"table\"}]},\"layout\":{\"annotationdefaults\":{\"arrowcolor\":\"#2a3f5f\",\"arrowhead\":0,\"arrowwidth\":1},\"autotypenumbers\":\"strict\",\"coloraxis\":{\"colorbar\":{\"outlinewidth\":0,\"ticks\":\"\"}},\"colorscale\":{\"diverging\":[[0,\"#8e0152\"],[0.1,\"#c51b7d\"],[0.2,\"#de77ae\"],[0.3,\"#f1b6da\"],[0.4,\"#fde0ef\"],[0.5,\"#f7f7f7\"],[0.6,\"#e6f5d0\"],[0.7,\"#b8e186\"],[0.8,\"#7fbc41\"],[0.9,\"#4d9221\"],[1,\"#276419\"]],\"sequential\":[[0.0,\"#0d0887\"],[0.1111111111111111,\"#46039f\"],[0.2222222222222222,\"#7201a8\"],[0.3333333333333333,\"#9c179e\"],[0.4444444444444444,\"#bd3786\"],[0.5555555555555556,\"#d8576b\"],[0.6666666666666666,\"#ed7953\"],[0.7777777777777778,\"#fb9f3a\"],[0.8888888888888888,\"#fdca26\"],[1.0,\"#f0f921\"]],\"sequentialminus\":[[0.0,\"#0d0887\"],[0.1111111111111111,\"#46039f\"],[0.2222222222222222,\"#7201a8\"],[0.3333333333333333,\"#9c179e\"],[0.4444444444444444,\"#bd3786\"],[0.5555555555555556,\"#d8576b\"],[0.6666666666666666,\"#ed7953\"],[0.7777777777777778,\"#fb9f3a\"],[0.8888888888888888,\"#fdca26\"],[1.0,\"#f0f921\"]]},\"colorway\":[\"#636efa\",\"#EF553B\",\"#00cc96\",\"#ab63fa\",\"#FFA15A\",\"#19d3f3\",\"#FF6692\",\"#B6E880\",\"#FF97FF\",\"#FECB52\"],\"font\":{\"color\":\"#2a3f5f\"},\"geo\":{\"bgcolor\":\"white\",\"lakecolor\":\"white\",\"landcolor\":\"#E5ECF6\",\"showlakes\":true,\"showland\":true,\"subunitcolor\":\"white\"},\"hoverlabel\":{\"align\":\"left\"},\"hovermode\":\"closest\",\"mapbox\":{\"style\":\"light\"},\"paper_bgcolor\":\"white\",\"plot_bgcolor\":\"#E5ECF6\",\"polar\":{\"angularaxis\":{\"gridcolor\":\"white\",\"linecolor\":\"white\",\"ticks\":\"\"},\"bgcolor\":\"#E5ECF6\",\"radialaxis\":{\"gridcolor\":\"white\",\"linecolor\":\"white\",\"ticks\":\"\"}},\"scene\":{\"xaxis\":{\"backgroundcolor\":\"#E5ECF6\",\"gridcolor\":\"white\",\"gridwidth\":2,\"linecolor\":\"white\",\"showbackground\":true,\"ticks\":\"\",\"zerolinecolor\":\"white\"},\"yaxis\":{\"backgroundcolor\":\"#E5ECF6\",\"gridcolor\":\"white\",\"gridwidth\":2,\"linecolor\":\"white\",\"showbackground\":true,\"ticks\":\"\",\"zerolinecolor\":\"white\"},\"zaxis\":{\"backgroundcolor\":\"#E5ECF6\",\"gridcolor\":\"white\",\"gridwidth\":2,\"linecolor\":\"white\",\"showbackground\":true,\"ticks\":\"\",\"zerolinecolor\":\"white\"}},\"shapedefaults\":{\"line\":{\"color\":\"#2a3f5f\"}},\"ternary\":{\"aaxis\":{\"gridcolor\":\"white\",\"linecolor\":\"white\",\"ticks\":\"\"},\"baxis\":{\"gridcolor\":\"white\",\"linecolor\":\"white\",\"ticks\":\"\"},\"bgcolor\":\"#E5ECF6\",\"caxis\":{\"gridcolor\":\"white\",\"linecolor\":\"white\",\"ticks\":\"\"}},\"title\":{\"x\":0.05},\"xaxis\":{\"automargin\":true,\"gridcolor\":\"white\",\"linecolor\":\"white\",\"ticks\":\"\",\"title\":{\"standoff\":15},\"zerolinecolor\":\"white\",\"zerolinewidth\":2},\"yaxis\":{\"automargin\":true,\"gridcolor\":\"white\",\"linecolor\":\"white\",\"ticks\":\"\",\"title\":{\"standoff\":15},\"zerolinecolor\":\"white\",\"zerolinewidth\":2}}},\"title\":{\"text\":\"Counts of items per family category\"},\"width\":800,\"yaxis\":{\"showgrid\":false,\"showline\":false,\"showticklabels\":true}},                        {\"responsive\": true}                    ).then(function(){\n",
              "                            \n",
              "var gd = document.getElementById('8dc66cda-c401-4990-8768-1a24a49b4e85');\n",
              "var x = new MutationObserver(function (mutations, observer) {{\n",
              "        var display = window.getComputedStyle(gd).display;\n",
              "        if (!display || display === 'none') {{\n",
              "            console.log([gd, 'removed!']);\n",
              "            Plotly.purge(gd);\n",
              "            observer.disconnect();\n",
              "        }}\n",
              "}});\n",
              "\n",
              "// Listen for the removal of the full notebook cells\n",
              "var notebookContainer = gd.closest('#notebook-container');\n",
              "if (notebookContainer) {{\n",
              "    x.observe(notebookContainer, {childList: true});\n",
              "}}\n",
              "\n",
              "// Listen for the clearing of the current output cell\n",
              "var outputEl = gd.closest('.output');\n",
              "if (outputEl) {{\n",
              "    x.observe(outputEl, {childList: true});\n",
              "}}\n",
              "\n",
              "                        })                };                });            </script>        </div>"
            ]
          },
          "metadata": {}
        }
      ]
    },
    {
      "cell_type": "code",
      "source": [
        "x, y = (list(x) for x in zip(*sorted(zip(items['class'].value_counts().index, \n",
        "                                         items['class'].value_counts().values), \n",
        "                                        reverse = False)))\n",
        "trace2 = go.Bar(\n",
        "    x=items['class'].value_counts().index,\n",
        "    y=items['class'].value_counts().values,\n",
        "    marker=dict(\n",
        "        color=items['class'].value_counts().values,\n",
        "        colorscale = 'Jet',\n",
        "        reversescale = True\n",
        "    ),\n",
        "    orientation='v',\n",
        ")\n",
        "\n",
        "layout = dict(\n",
        "    title='Number of items attributed to a particular item class',\n",
        "     width = 800, height = 1400,\n",
        "    yaxis=dict(\n",
        "        showgrid=False,\n",
        "        showline=False,\n",
        "        showticklabels=True,\n",
        "#         domain=[0, 0.85],\n",
        "    ))\n",
        "\n",
        "fig1 = go.Figure(data=[trace2])\n",
        "fig1['layout'].update(layout)\n",
        "py.iplot(fig1, filename='plots')"
      ],
      "metadata": {
        "id": "jijrMaFwGLef"
      },
      "execution_count": null,
      "outputs": []
    },
    {
      "cell_type": "code",
      "source": [
        "items.head()"
      ],
      "metadata": {
        "colab": {
          "base_uri": "https://localhost:8080/",
          "height": 206
        },
        "id": "Zb5mjruHGMRe",
        "outputId": "963127e6-44a3-47a4-fa32-66676cdc81ff"
      },
      "execution_count": null,
      "outputs": [
        {
          "output_type": "execute_result",
          "data": {
            "text/plain": [
              "   item_nbr        family  class  perishable\n",
              "0     96995     GROCERY I   1093           0\n",
              "1     99197     GROCERY I   1067           0\n",
              "2    103501      CLEANING   3008           0\n",
              "3    103520     GROCERY I   1028           0\n",
              "4    103665  BREAD/BAKERY   2712           1"
            ],
            "text/html": [
              "\n",
              "  <div id=\"df-4f9d5bec-838e-4ff4-acf6-b5e654d7b160\">\n",
              "    <div class=\"colab-df-container\">\n",
              "      <div>\n",
              "<style scoped>\n",
              "    .dataframe tbody tr th:only-of-type {\n",
              "        vertical-align: middle;\n",
              "    }\n",
              "\n",
              "    .dataframe tbody tr th {\n",
              "        vertical-align: top;\n",
              "    }\n",
              "\n",
              "    .dataframe thead th {\n",
              "        text-align: right;\n",
              "    }\n",
              "</style>\n",
              "<table border=\"1\" class=\"dataframe\">\n",
              "  <thead>\n",
              "    <tr style=\"text-align: right;\">\n",
              "      <th></th>\n",
              "      <th>item_nbr</th>\n",
              "      <th>family</th>\n",
              "      <th>class</th>\n",
              "      <th>perishable</th>\n",
              "    </tr>\n",
              "  </thead>\n",
              "  <tbody>\n",
              "    <tr>\n",
              "      <th>0</th>\n",
              "      <td>96995</td>\n",
              "      <td>GROCERY I</td>\n",
              "      <td>1093</td>\n",
              "      <td>0</td>\n",
              "    </tr>\n",
              "    <tr>\n",
              "      <th>1</th>\n",
              "      <td>99197</td>\n",
              "      <td>GROCERY I</td>\n",
              "      <td>1067</td>\n",
              "      <td>0</td>\n",
              "    </tr>\n",
              "    <tr>\n",
              "      <th>2</th>\n",
              "      <td>103501</td>\n",
              "      <td>CLEANING</td>\n",
              "      <td>3008</td>\n",
              "      <td>0</td>\n",
              "    </tr>\n",
              "    <tr>\n",
              "      <th>3</th>\n",
              "      <td>103520</td>\n",
              "      <td>GROCERY I</td>\n",
              "      <td>1028</td>\n",
              "      <td>0</td>\n",
              "    </tr>\n",
              "    <tr>\n",
              "      <th>4</th>\n",
              "      <td>103665</td>\n",
              "      <td>BREAD/BAKERY</td>\n",
              "      <td>2712</td>\n",
              "      <td>1</td>\n",
              "    </tr>\n",
              "  </tbody>\n",
              "</table>\n",
              "</div>\n",
              "      <button class=\"colab-df-convert\" onclick=\"convertToInteractive('df-4f9d5bec-838e-4ff4-acf6-b5e654d7b160')\"\n",
              "              title=\"Convert this dataframe to an interactive table.\"\n",
              "              style=\"display:none;\">\n",
              "        \n",
              "  <svg xmlns=\"http://www.w3.org/2000/svg\" height=\"24px\"viewBox=\"0 0 24 24\"\n",
              "       width=\"24px\">\n",
              "    <path d=\"M0 0h24v24H0V0z\" fill=\"none\"/>\n",
              "    <path d=\"M18.56 5.44l.94 2.06.94-2.06 2.06-.94-2.06-.94-.94-2.06-.94 2.06-2.06.94zm-11 1L8.5 8.5l.94-2.06 2.06-.94-2.06-.94L8.5 2.5l-.94 2.06-2.06.94zm10 10l.94 2.06.94-2.06 2.06-.94-2.06-.94-.94-2.06-.94 2.06-2.06.94z\"/><path d=\"M17.41 7.96l-1.37-1.37c-.4-.4-.92-.59-1.43-.59-.52 0-1.04.2-1.43.59L10.3 9.45l-7.72 7.72c-.78.78-.78 2.05 0 2.83L4 21.41c.39.39.9.59 1.41.59.51 0 1.02-.2 1.41-.59l7.78-7.78 2.81-2.81c.8-.78.8-2.07 0-2.86zM5.41 20L4 18.59l7.72-7.72 1.47 1.35L5.41 20z\"/>\n",
              "  </svg>\n",
              "      </button>\n",
              "      \n",
              "  <style>\n",
              "    .colab-df-container {\n",
              "      display:flex;\n",
              "      flex-wrap:wrap;\n",
              "      gap: 12px;\n",
              "    }\n",
              "\n",
              "    .colab-df-convert {\n",
              "      background-color: #E8F0FE;\n",
              "      border: none;\n",
              "      border-radius: 50%;\n",
              "      cursor: pointer;\n",
              "      display: none;\n",
              "      fill: #1967D2;\n",
              "      height: 32px;\n",
              "      padding: 0 0 0 0;\n",
              "      width: 32px;\n",
              "    }\n",
              "\n",
              "    .colab-df-convert:hover {\n",
              "      background-color: #E2EBFA;\n",
              "      box-shadow: 0px 1px 2px rgba(60, 64, 67, 0.3), 0px 1px 3px 1px rgba(60, 64, 67, 0.15);\n",
              "      fill: #174EA6;\n",
              "    }\n",
              "\n",
              "    [theme=dark] .colab-df-convert {\n",
              "      background-color: #3B4455;\n",
              "      fill: #D2E3FC;\n",
              "    }\n",
              "\n",
              "    [theme=dark] .colab-df-convert:hover {\n",
              "      background-color: #434B5C;\n",
              "      box-shadow: 0px 1px 3px 1px rgba(0, 0, 0, 0.15);\n",
              "      filter: drop-shadow(0px 1px 2px rgba(0, 0, 0, 0.3));\n",
              "      fill: #FFFFFF;\n",
              "    }\n",
              "  </style>\n",
              "\n",
              "      <script>\n",
              "        const buttonEl =\n",
              "          document.querySelector('#df-4f9d5bec-838e-4ff4-acf6-b5e654d7b160 button.colab-df-convert');\n",
              "        buttonEl.style.display =\n",
              "          google.colab.kernel.accessAllowed ? 'block' : 'none';\n",
              "\n",
              "        async function convertToInteractive(key) {\n",
              "          const element = document.querySelector('#df-4f9d5bec-838e-4ff4-acf6-b5e654d7b160');\n",
              "          const dataTable =\n",
              "            await google.colab.kernel.invokeFunction('convertToInteractive',\n",
              "                                                     [key], {});\n",
              "          if (!dataTable) return;\n",
              "\n",
              "          const docLinkHtml = 'Like what you see? Visit the ' +\n",
              "            '<a target=\"_blank\" href=https://colab.research.google.com/notebooks/data_table.ipynb>data table notebook</a>'\n",
              "            + ' to learn more about interactive tables.';\n",
              "          element.innerHTML = '';\n",
              "          dataTable['output_type'] = 'display_data';\n",
              "          await google.colab.output.renderOutput(dataTable, element);\n",
              "          const docLink = document.createElement('div');\n",
              "          docLink.innerHTML = docLinkHtml;\n",
              "          element.appendChild(docLink);\n",
              "        }\n",
              "      </script>\n",
              "    </div>\n",
              "  </div>\n",
              "  "
            ]
          },
          "metadata": {},
          "execution_count": 29
        }
      ]
    },
    {
      "cell_type": "code",
      "source": [
        "plt.style.use('seaborn-white')\n",
        "fam_perishable = items.groupby(['family', 'perishable']).size()\n",
        "fam_perishable.unstack().plot(kind='bar',stacked=True, colormap= 'coolwarm', figsize=(12,10),  grid=False)\n",
        "plt.title('Stacked Barplot of locale name against event type')\n",
        "plt.ylabel('Count of entries')\n",
        "plt.show()"
      ],
      "metadata": {
        "colab": {
          "base_uri": "https://localhost:8080/",
          "height": 764
        },
        "id": "2taaLhnbGPrh",
        "outputId": "1e27267e-ad39-4567-e6c4-6c511a2d2614"
      },
      "execution_count": null,
      "outputs": [
        {
          "output_type": "display_data",
          "data": {
            "text/plain": [
              "<Figure size 864x720 with 1 Axes>"
            ],
            "image/png": "[encoded data removed]"
          },
          "metadata": {}
        }
      ]
    },
    {
      "cell_type": "markdown",
      "source": [
        "**Data Exploration**"
      ],
      "metadata": {
        "id": "ebQW8rI9q8V4"
      }
    },
    {
      "cell_type": "code",
      "source": [
        "train.head()"
      ],
      "metadata": {
        "colab": {
          "base_uri": "https://localhost:8080/",
          "height": 206
        },
        "id": "IiDPGlyWHSSf",
        "outputId": "95d0fd53-afd3-4fb2-c80c-80f9602581a9"
      },
      "execution_count": null,
      "outputs": [
        {
          "output_type": "execute_result",
          "data": {
            "text/plain": [
              "   id       date  store_nbr  item_nbr  unit_sales  onpromotion\n",
              "0   0 2013-01-01         25    103665         7.0          NaN\n",
              "1   1 2013-01-01         25    105574         1.0          NaN\n",
              "2   2 2013-01-01         25    105575         2.0          NaN\n",
              "3   3 2013-01-01         25    108079         1.0          NaN\n",
              "4   4 2013-01-01         25    108701         1.0          NaN"
            ],
            "text/html": [
              "\n",
              "  <div id=\"df-1a76d9b6-0a99-4c16-83e3-d453f6cb9e92\">\n",
              "    <div class=\"colab-df-container\">\n",
              "      <div>\n",
              "<style scoped>\n",
              "    .dataframe tbody tr th:only-of-type {\n",
              "        vertical-align: middle;\n",
              "    }\n",
              "\n",
              "    .dataframe tbody tr th {\n",
              "        vertical-align: top;\n",
              "    }\n",
              "\n",
              "    .dataframe thead th {\n",
              "        text-align: right;\n",
              "    }\n",
              "</style>\n",
              "<table border=\"1\" class=\"dataframe\">\n",
              "  <thead>\n",
              "    <tr style=\"text-align: right;\">\n",
              "      <th></th>\n",
              "      <th>id</th>\n",
              "      <th>date</th>\n",
              "      <th>store_nbr</th>\n",
              "      <th>item_nbr</th>\n",
              "      <th>unit_sales</th>\n",
              "      <th>onpromotion</th>\n",
              "    </tr>\n",
              "  </thead>\n",
              "  <tbody>\n",
              "    <tr>\n",
              "      <th>0</th>\n",
              "      <td>0</td>\n",
              "      <td>2013-01-01</td>\n",
              "      <td>25</td>\n",
              "      <td>103665</td>\n",
              "      <td>7.0</td>\n",
              "      <td>NaN</td>\n",
              "    </tr>\n",
              "    <tr>\n",
              "      <th>1</th>\n",
              "      <td>1</td>\n",
              "      <td>2013-01-01</td>\n",
              "      <td>25</td>\n",
              "      <td>105574</td>\n",
              "      <td>1.0</td>\n",
              "      <td>NaN</td>\n",
              "    </tr>\n",
              "    <tr>\n",
              "      <th>2</th>\n",
              "      <td>2</td>\n",
              "      <td>2013-01-01</td>\n",
              "      <td>25</td>\n",
              "      <td>105575</td>\n",
              "      <td>2.0</td>\n",
              "      <td>NaN</td>\n",
              "    </tr>\n",
              "    <tr>\n",
              "      <th>3</th>\n",
              "      <td>3</td>\n",
              "      <td>2013-01-01</td>\n",
              "      <td>25</td>\n",
              "      <td>108079</td>\n",
              "      <td>1.0</td>\n",
              "      <td>NaN</td>\n",
              "    </tr>\n",
              "    <tr>\n",
              "      <th>4</th>\n",
              "      <td>4</td>\n",
              "      <td>2013-01-01</td>\n",
              "      <td>25</td>\n",
              "      <td>108701</td>\n",
              "      <td>1.0</td>\n",
              "      <td>NaN</td>\n",
              "    </tr>\n",
              "  </tbody>\n",
              "</table>\n",
              "</div>\n",
              "      <button class=\"colab-df-convert\" onclick=\"convertToInteractive('df-1a76d9b6-0a99-4c16-83e3-d453f6cb9e92')\"\n",
              "              title=\"Convert this dataframe to an interactive table.\"\n",
              "              style=\"display:none;\">\n",
              "        \n",
              "  <svg xmlns=\"http://www.w3.org/2000/svg\" height=\"24px\"viewBox=\"0 0 24 24\"\n",
              "       width=\"24px\">\n",
              "    <path d=\"M0 0h24v24H0V0z\" fill=\"none\"/>\n",
              "    <path d=\"M18.56 5.44l.94 2.06.94-2.06 2.06-.94-2.06-.94-.94-2.06-.94 2.06-2.06.94zm-11 1L8.5 8.5l.94-2.06 2.06-.94-2.06-.94L8.5 2.5l-.94 2.06-2.06.94zm10 10l.94 2.06.94-2.06 2.06-.94-2.06-.94-.94-2.06-.94 2.06-2.06.94z\"/><path d=\"M17.41 7.96l-1.37-1.37c-.4-.4-.92-.59-1.43-.59-.52 0-1.04.2-1.43.59L10.3 9.45l-7.72 7.72c-.78.78-.78 2.05 0 2.83L4 21.41c.39.39.9.59 1.41.59.51 0 1.02-.2 1.41-.59l7.78-7.78 2.81-2.81c.8-.78.8-2.07 0-2.86zM5.41 20L4 18.59l7.72-7.72 1.47 1.35L5.41 20z\"/>\n",
              "  </svg>\n",
              "      </button>\n",
              "      \n",
              "  <style>\n",
              "    .colab-df-container {\n",
              "      display:flex;\n",
              "      flex-wrap:wrap;\n",
              "      gap: 12px;\n",
              "    }\n",
              "\n",
              "    .colab-df-convert {\n",
              "      background-color: #E8F0FE;\n",
              "      border: none;\n",
              "      border-radius: 50%;\n",
              "      cursor: pointer;\n",
              "      display: none;\n",
              "      fill: #1967D2;\n",
              "      height: 32px;\n",
              "      padding: 0 0 0 0;\n",
              "      width: 32px;\n",
              "    }\n",
              "\n",
              "    .colab-df-convert:hover {\n",
              "      background-color: #E2EBFA;\n",
              "      box-shadow: 0px 1px 2px rgba(60, 64, 67, 0.3), 0px 1px 3px 1px rgba(60, 64, 67, 0.15);\n",
              "      fill: #174EA6;\n",
              "    }\n",
              "\n",
              "    [theme=dark] .colab-df-convert {\n",
              "      background-color: #3B4455;\n",
              "      fill: #D2E3FC;\n",
              "    }\n",
              "\n",
              "    [theme=dark] .colab-df-convert:hover {\n",
              "      background-color: #434B5C;\n",
              "      box-shadow: 0px 1px 3px 1px rgba(0, 0, 0, 0.15);\n",
              "      filter: drop-shadow(0px 1px 2px rgba(0, 0, 0, 0.3));\n",
              "      fill: #FFFFFF;\n",
              "    }\n",
              "  </style>\n",
              "\n",
              "      <script>\n",
              "        const buttonEl =\n",
              "          document.querySelector('#df-1a76d9b6-0a99-4c16-83e3-d453f6cb9e92 button.colab-df-convert');\n",
              "        buttonEl.style.display =\n",
              "          google.colab.kernel.accessAllowed ? 'block' : 'none';\n",
              "\n",
              "        async function convertToInteractive(key) {\n",
              "          const element = document.querySelector('#df-1a76d9b6-0a99-4c16-83e3-d453f6cb9e92');\n",
              "          const dataTable =\n",
              "            await google.colab.kernel.invokeFunction('convertToInteractive',\n",
              "                                                     [key], {});\n",
              "          if (!dataTable) return;\n",
              "\n",
              "          const docLinkHtml = 'Like what you see? Visit the ' +\n",
              "            '<a target=\"_blank\" href=https://colab.research.google.com/notebooks/data_table.ipynb>data table notebook</a>'\n",
              "            + ' to learn more about interactive tables.';\n",
              "          element.innerHTML = '';\n",
              "          dataTable['output_type'] = 'display_data';\n",
              "          await google.colab.output.renderOutput(dataTable, element);\n",
              "          const docLink = document.createElement('div');\n",
              "          docLink.innerHTML = docLinkHtml;\n",
              "          element.appendChild(docLink);\n",
              "        }\n",
              "      </script>\n",
              "    </div>\n",
              "  </div>\n",
              "  "
            ]
          },
          "metadata": {},
          "execution_count": 31
        }
      ]
    },
    {
      "cell_type": "code",
      "source": [
        "plt.style.use('seaborn-deep')\n",
        "plt.figure(figsize=(13,11))\n",
        "plt.plot(train.date.values, train.unit_sales)\n",
        "plt.ylim(-50, 10000)\n",
        "plt.ylabel('transactions per day')\n",
        "plt.xlabel('Date')\n",
        "plt.show()"
      ],
      "metadata": {
        "colab": {
          "base_uri": "https://localhost:8080/",
          "height": 660
        },
        "id": "Gm_5y_DkHVNx",
        "outputId": "45d91af0-6093-41d5-acfa-3f1bcfbb7a91"
      },
      "execution_count": null,
      "outputs": [
        {
          "output_type": "display_data",
          "data": {
            "text/plain": [
              "<Figure size 936x792 with 1 Axes>"
            ],
            "image/png": "[encoded data removed]"
          },
          "metadata": {}
        }
      ]
    }
  ]
}